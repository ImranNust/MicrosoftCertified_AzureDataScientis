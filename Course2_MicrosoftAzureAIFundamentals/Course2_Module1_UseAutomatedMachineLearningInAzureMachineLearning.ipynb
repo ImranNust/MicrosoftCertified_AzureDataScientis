{
 "cells": [
  {
   "cell_type": "markdown",
   "id": "aec0aa3b",
   "metadata": {},
   "source": [
    "<center><h1> Microsoft Azure AI Fundamentals: Explore Visual Tools for Machine Learning </h1></center>"
   ]
  },
  {
   "cell_type": "markdown",
   "id": "e0abf90b",
   "metadata": {},
   "source": [
    "<center><h2> Introduction </h2></center>\n",
    "\n",
    "Machine Learning is the foundation for most artificial intelligence solutions, and the creation of an intelligent solution often begins with the use of machine learning to train a predictive model using historic data that you have collected.\n",
    "\n",
    "Azure Machine Learning is a cloud service that you can use to train and manage machine learning models.\n",
    "\n",
    "In this module, you'll learn how to:\n",
    "\n",
    "- Identify different kinds of machine learning model.\n",
    "- Use the automated machine learning capability of Azure Machine Learning to train and deploy a predictive model.\n",
    "\n",
    "To complete this module, you'll need a Microsoft Azure subscription. If you don't already have one, you can sign up for a free trial at https://azure.microsoft.com."
   ]
  },
  {
   "cell_type": "markdown",
   "id": "46adbf14",
   "metadata": {},
   "source": [
    "<center><h2>What is Machine Learning?</h2></center>\n",
    "\n",
    "Machine learning is a technique that uses mathematics and statistics to create a model that can predict unknown values.\n",
    "\n",
    "<img src = \"images/image1.png\" width = 500 height = 500 />\n",
    "\n",
    "For example, suppose Adventure Works Cycles is a business that rents cycles in a city. The business could use historic data to train a model that predicts daily rental demand in order to make sure sufficient staff and cycles are available.\n",
    "\n",
    "To do this, Adventure Works could create a machine learning model that takes information about a specific day (the day of week, the anticipated weather conditions, and so on) as an input, and predicts the expected number of rentals as an output.\n",
    "\n",
    "Mathematically, you can think of machine learning as a way of defining a function (let's call it $f$) that operates on one or more features of something (which we'll call $x$) to calculate a predicted label ($y$) - like this:\n",
    "\n",
    "\\begin{equation}\n",
    "f(x) = y\n",
    "\\end{equation}\n",
    "\n",
    "In this bicycle rental example, the details about a given day (day of the week, weather, and so on) are the features $(x)$, the number of rentals for that day is the label $(y)$, and the function $(f)$ that calculates the number of rentals based on the information about the day is encapsulated in a machine learning model.\n",
    "\n",
    "The specific operation that the $f$ function performs on $x$ to calculate $y$ depends on a number of factors, including the type of model you're trying to create and the specific algorithm used to train the model. Additionally in most cases, the data used to train the machine learning model requires some pre-processing before model training can be performed.\n",
    "\n",
    "\n",
    "\n"
   ]
  },
  {
   "cell_type": "markdown",
   "id": "086e87f8",
   "metadata": {},
   "source": [
    "<h3> Azure Machine Learning </h3>\n",
    "\n",
    "Training and deploying an effective machine learning model involves a lot of work, much of it time-consuming and resource-intensive. Azure Machine Learning is a cloud-based service that helps simplify some of the tasks and reduce the time it takes to prepare data, train a model, and deploy a predictive service. In the rest of this unit, you'll explore Azure Machine Learning, and in particular its _automated machine learning capability_.\n",
    "<hr>"
   ]
  },
  {
   "cell_type": "markdown",
   "id": "3b80002a",
   "metadata": {},
   "source": [
    "<center> <h2>Create an Azure Machine Learning workspace </h2></center>\n",
    "\n",
    "Data scientists expend a lot of effort exploring and pre-processing data, and trying various types of model-training algorithms to produce accurate models, which is time consuming, and often makes inefficient use of expensive compute hardware.\n",
    "\n",
    "Azure Machine Learning is a cloud-based platform for building and operating machine learning solutions in Azure. It includes a wide range of features and capabilities that help data scientists prepare data, train models, publish predictive services, and monitor their usage. Most importantly, it helps data scientists increase their efficiency by automating many of the time-consuming tasks associated with training models; and it enables them to use cloud-based compute resources that scale effectively to handle large volumes of data while incurring costs only when actually used.\n",
    "\n"
   ]
  },
  {
   "cell_type": "markdown",
   "id": "6563438e",
   "metadata": {},
   "source": [
    "<h3> Create an Azure Machine Learning workspace </h3>\n",
    "\n",
    "\n",
    "To use Azure Machine Learning, you create a workspace in your Azure subscription. You can then use this workspace to manage data, compute resources, code, models, and other artifacts related to your machine learning workloads.\n",
    "\n",
    "\n",
    "<mark style=\"background-color: #FFFF00\">Note: This module is one of many that make use of an Azure Machine Learning workspace, including the other modules in the Create no-code predictive models with Azure Machine Learning learning path. If you are using your own Azure subscription, you may consider creating the workspace once and reusing it in other modules. Your Azure subscription will be charged a small amount for data storage as long as the Azure Machine Learning workspace exists in your subscription, so we recommend you delete the Azure Machine Learning workspace when it is no longer required.</mark>\n",
    "\n",
    "\n",
    "**If you don't already have one, follow these steps to create a workspace:**\n",
    "\n",
    "1. Sign into the [Azure portal](https://portal.azure.com/) using the Microsoft credentials associated with your Azure subscription.\n",
    "2. Select **＋Create a resource**, search for Machine Learning, and create a new Machine Learning resource the following settings:\n",
    "    - **Subscription:** Your Azure subscription\n",
    "    - **Resource group:** Create or select a resource group\n",
    "    - **Workspace name:** Enter a unique name for your workspace\n",
    "    - **Region:** Select the geographical region closest to you\n",
    "    - **Storage account:** Note the default new storage account that will be created for your workspace\n",
    "    - **Key vault:** Note the default new key vault that will be created for your workspace\n",
    "    - **Application insights:** Note the default new application insights resource that will be created for your workspace\n",
    "    - **Container registry:** None (one will be created automatically the first time you deploy a model to a container)\n",
    "\n",
    "\n",
    "3. Wait for your workspace to be created (it can take a few minutes). Then go to it in the portal.\n",
    "4. On the Overview page for your workspace, launch Azure Machine Learning studio (or open a new browser tab and navigate to https://ml.azure.com), and sign into Azure Machine Learning studio using your Microsoft account. If prompted, select your Azure directory and subscription, and your Azure Machine Learning workspace.\n",
    "5. In Azure Machine Learning studio, toggle the ☰ icon at the top left to view the various pages in the interface. You can use these pages to manage the resources in your workspace.\n",
    "\n",
    "You can manage your workspace using the Azure portal, but for data scientists and Machine Learning operations engineers, Azure Machine Learning studio provides a more focused user interface for managing workspace resources.\n",
    "\n",
    "<hr>"
   ]
  },
  {
   "cell_type": "markdown",
   "id": "194e0275",
   "metadata": {},
   "source": [
    "<center> <h2>Create compute resources </h2></center>\n",
    "\n",
    "After you have created an Azure Machine Learning workspace, you can use it to manage the various assets and resources you need to create machine learning solutions. At its core, Azure Machine Learning is a platform for training and managing machine learning models, for which you need compute on which to run the training process."
   ]
  },
  {
   "cell_type": "markdown",
   "id": "f1cdefd9",
   "metadata": {},
   "source": [
    "<h3> Create a compute cluster </h3>\n",
    "\n",
    "Compute targets are cloud-based resources on which you can run model training and data exploration processes.\n",
    "\n",
    "In [Azure Machine Learning studio](https://ml.azure.com/), view the **Compute** page (under **Manage**). This is where you manage the compute targets for your data science activities. There are four kinds of compute resource you can create:\n",
    "\n",
    "- **Compute Instances:** Development workstations that data scientists can use to work with data and models.\n",
    "- **Compute Clusters:** Scalable clusters of virtual machines for on-demand processing of experiment code.\n",
    "- **Inference Clusters:** Deployment targets for predictive services that use your trained models.\n",
    "- **Attached Compute:** Links to existing Azure compute resources, such as Virtual Machines or Azure Databricks clusters.\n",
    "\n",
    "\n",
    "<mark style=\"background-color: #FFFF00\">Note: Compute instances and clusters are based on standard Azure virtual machine images. For this module, the Standard_DS11_v2 image is recommended to achieve the optimal balance of cost and performance. If your subscription has a quota that does not include this image, choose an alternative image; but bear in mind that a larger image may incur higher cost and a smaller image may not be sufficient to complete the tasks. Alternatively, ask your Azure administrator to extend your quota.</mark>\n",
    "\n",
    "1. Switch to the **Compute Clusters** tab, and add a new compute cluster with the following settings. You'll use this to train a machine learning model:\n",
    "    - **Location:** Select the same as your workspace. If that location is not listed, choose the one closest to you\n",
    "    - **Virtual Machine tier:** Dedicated\n",
    "    - **Virtual Machine type:** CPU\n",
    "    - **Virtual Machine size:**\n",
    "        - Choose **Select from all options**\n",
    "        - Search for and select **Standard_DS11_v2**\n",
    "    - **Compute name:** enter a unique name\n",
    "    - **Minimum number of nodes:** 0\n",
    "    - **Maximum number of nodes:** 2\n",
    "    - **Idle seconds before scale down:** 120\n",
    "    - **Enable SSH access:** Unselected\n",
    "\n",
    "The compute cluster will take some time to be created. You can move onto the next unit while you wait.\n",
    "\n",
    "<hr>"
   ]
  },
  {
   "cell_type": "markdown",
   "id": "71d8f68a",
   "metadata": {},
   "source": [
    "<center> <h2>Explore data </h2></center>\n",
    "\n",
    "Machine learning models must be trained with existing data. In this case, you'll use a dataset of historical bicycle rental details to train a model that predicts the number of bicycle rentals that should be expected on a given day, based on seasonal and meteorological features.\n",
    "\n"
   ]
  },
  {
   "cell_type": "markdown",
   "id": "ecb7edfc",
   "metadata": {},
   "source": [
    "<h3> Create a dataset </h3>\n",
    "\n",
    "In _Azure Machine Learning_, data for model training and other operations is usually encapsulated in an object called a dataset.\n",
    "\n",
    "1. View the comma-separated data at https://aka.ms/bike-rentals in your web browser.\n",
    "\n",
    "2. In [Azure Machine Learning studio](https://ml.azure.com/), view the **Datasets** page. Datasets represent specific data files or tables that you plan to work with in Azure ML.\n",
    "\n",
    "3. Create a new dataset **from web files**, using the following settings:\n",
    "\n",
    "- **Basic Info:**\n",
    "    - **Web URL:** https://aka.ms/bike-rentals\n",
    "    - **Name:** bike-rentals\n",
    "    - **Dataset type:** Tabular\n",
    "    - **Description:** Bicycle rental data\n",
    "- **Settings and preview:**\n",
    "    - **File format:** Delimited\n",
    "    - **Delimiter:** Comma\n",
    "    - **Encoding:** UTF-8\n",
    "    - **Column headers:** Only first file has headers\n",
    "    - **Skip rows:** None\n",
    "    - **Dataset contains multi-line data:** Do not select\n",
    "- **Schema:**\n",
    "    - Include all columns other than **Path**\n",
    "    - Review the automatically detected types\n",
    "- **Confirm details:**\n",
    "    - Do not profile the dataset after creation\n",
    "4. After the dataset has been created, open it and view the **Explore** page to see a sample of the data. This data contains historical features and labels for bike rentals.\n",
    "\n",
    "<hr>"
   ]
  },
  {
   "cell_type": "markdown",
   "id": "c95e7c25",
   "metadata": {},
   "source": [
    "<center> <h2> Train a machine learning model </h2></center>\n",
    "\n",
    "Azure Machine Learning includes an _automated machine learning_ capability that automatically tries multiple pre-processing techniques and model-training algorithms in parallel. These automated capabilities use the power of cloud compute to find the best performing supervised machine learning model for your data.\n",
    "\n",
    "Note\n",
    "\n",
    "The automated machine learning capability in Azure Machine Learning supports supervised machine learning models - in other words, models for which the training data includes known label values. You can use automated machine learning to train models for:\n",
    "\n",
    "- Classification (predicting categories or classes)\n",
    "- Regression (predicting numeric values)\n",
    "- Time series forecasting (predicting numeric values at a future point in time)"
   ]
  },
  {
   "cell_type": "markdown",
   "id": "83f2a5d5",
   "metadata": {},
   "source": [
    "<h3> Run an automated machine learning experiment </h3>\n",
    "\n",
    "\n",
    "In [Azure Machine Learning](https://ml.azure.com/home), operations that you run are called experiments. Follow the steps to run an experiment that uses automated machine learning to train a regression model that predicts bicycle rentals.\n",
    "\n",
    "1. In Azure Machine Learning studio, view the **Automated ML** page (under **Author**).\n",
    "\n",
    "2. Create an Automated ML run with the following settings:\n",
    "\n",
    "    - **Select dataset:**\n",
    "    - **Dataset:** bike-rentals\n",
    "- **Configure run:**\n",
    "    - **New experiment name:** mslearn-bike-rental\n",
    "    - **Target column:** rentals (this is the label that the model is trained to predict)\n",
    "    - **Select compute cluster:** the compute cluster that you created previously\n",
    "- **Select task and settings:**\n",
    "    - **Task type:** Regression (the model predicts a numeric value)\n",
    "    \n",
    "    <img src = \"images/image2.png\" width = 1000 height = 1000 >\n",
    "    \n",
    "Notice under task type there are settings View additional configuration settings and View Featurization settings. Now configure these settings.\n",
    "\n",
    "- **Additional configuration settings:**\n",
    "    - **Primary metric:** Select Normalized root mean squared error (more about this metric later!)\n",
    "    - **Explain best model:** Selected — this option causes automated machine learning to calculate feature importance for the best - model which makes it possible to determine the influence of each feature on the predicted label.\n",
    "    - **Use all supported models:** Unselected. You'll restrict the experiment to try only a few specific algorithms.\n",
    "    - **Allowed models:** Select only RandomForest and LightGBM — normally you'd want to try as many as possible, but each model added increases the time it takes to run the experiment.\n",
    "    - **Exit criterion:**\n",
    "        - **Training job time (hours):** 0.5 — ends the experiment after a maximum of 30 minutes.\n",
    "        - **Metric score threshold:** 0.085 — if a model achieves a normalized root mean squared error metric score of 0.085 or less, the experiment ends.\n",
    "    - **Concurrency:** do not change\n",
    "- **Featurization settings:**\n",
    "- Enable featurization: Selected — automatically preprocess the features before training.\n",
    "\n",
    "Click Next to go to the next selection pane.\n",
    "\n",
    "- **[Optional] Select the validation and test type**\n",
    "    - **Validation type:** Auto\n",
    "    - **Test dataset (preview):** No test dataset required"
   ]
  },
  {
   "cell_type": "markdown",
   "id": "5d9b608a",
   "metadata": {},
   "source": [
    "3. When you finish submitting the automated ML run details, it starts automatically. Wait for the run status to change from Preparing to Running.\n",
    "\n",
    "4. When the run status changes to Running, view the **Models** tab and observe as each possible combination of training algorithm and pre-processing steps is tried and the performance of the resulting model is evaluated. The page automatically refreshes periodically, but you can also select **↻ Refresh**. It might take 10 minutes or so before models start to appear, as the cluster nodes must be initialized before training can begin.\n",
    "\n",
    "5. Wait for the experiment to finish. It might take a while — now might be a good time for a coffee break!"
   ]
  },
  {
   "cell_type": "markdown",
   "id": "2d3e5930",
   "metadata": {},
   "source": [
    "<h3> Review the best model </h3>\n",
    "\n",
    "\n",
    "After the experiment has finished you can review the best performing model. In this case, you used exit criteria to stop the experiment. Thus the \"best\" model the experiment generated might not be the best possible model, just the best one found within the time allowed for this exercise.\n",
    "\n",
    "1. On the Details tab of the automated machine learning run, note the best model summary.\n",
    "\n",
    "<img src = \"images/image3.png\" width = 1000 height = 1000 />\n",
    "\n"
   ]
  },
  {
   "cell_type": "markdown",
   "id": "08d88981",
   "metadata": {},
   "source": [
    "2. Select the **Algorithm name** for the best model to view its details.\n",
    "\n",
    "    The best model is identified based on the evaluation metric you specified, Normalized root mean squared error.\n",
    "\n",
    "    A technique called cross-validation is used to calculate the evaluation metric. After the model is trained using a portion of the data, the remaining portion is used to iteratively test, or cross-validate, the trained model. The metric is calculated by comparing the predicted value from the test with the actual known value, or label.\n",
    "\n",
    "    The difference between the predicted and actual value, known as the residuals, indicates the amount of error in the model. The particular performance metric you used, normalized root mean squared error, is calculated by squaring the errors across all of the test cases, finding the mean of these squares, and then taking the square root. What all of this means is that smaller this value is, the more accurate the model's predictions."
   ]
  },
  {
   "cell_type": "markdown",
   "id": "35e393ee",
   "metadata": {},
   "source": [
    "3. Next to the Normalized root mean squared error value, select **View all other metrics** to see values of other possible evaluation metrics for a regression model.\n",
    "\n",
    "<img src = \"images/image4.png\" width = 1000 height = 1000 />"
   ]
  },
  {
   "cell_type": "markdown",
   "id": "e53a3d2c",
   "metadata": {},
   "source": [
    "4. Select the **Metrics** tab and select the **residuals** and **predicted_true** charts if they are not already selected.\n",
    "\n",
    "<img src = \"images/image5.png\" width = 1000 height = 1000 />\n",
    "\n",
    "    Review the charts which show the performance of the model. The chart compares the predicted values against the true values, and shows the residuals, the differences between predicted and actual values, as a histogram.\n",
    "\n",
    "    The Predicted vs. True chart should show a diagonal trend in which the predicted value correlates closely to the true value. The dotted line shows how a perfect model should perform. The closer the line of your model's average predicted value is to the dotted line, the better its performance. A histogram below the line chart shows the distribution of true values.\n",
    "    \n",
    "<img src = \"images/image6.png\" width = 1000 height = 1000 />\n",
    "   \n",
    "    The **Residual Histogram** shows the frequency of residual value ranges. Residuals represent variance between predicted and true values that can't be explained by the model, in other words, errors. You should hope to see the most frequently occurring residual values clustered around zero. You want to small errors with fewer errors at the extreme ends of the scale.\n",
    "\n",
    "<img src = \"images/image7.png\" width = 1000 height = 1000 />\n"
   ]
  },
  {
   "cell_type": "markdown",
   "id": "3165af0b",
   "metadata": {},
   "source": [
    "   \n"
   ]
  },
  {
   "cell_type": "markdown",
   "id": "61396b0a",
   "metadata": {},
   "source": [
    "5. Select the **Explanations** tab. Select an explanation ID amd then select **Aggregate feature Importance**. This chart shows how much each feature in the dataset influences the label prediction, like this:\n",
    "\n",
    "<img src = \"images/image8.png\" width = 1000 height = 1000 />"
   ]
  },
  {
   "cell_type": "markdown",
   "id": "bca3fbfe",
   "metadata": {},
   "source": [
    "<hr/>\n",
    "\n",
    "<center><h2>Deploy a model as a service</h2></center>\n",
    "After you've used automated machine learning to train some models, you can deploy the best performing model as a service for client applications to use."
   ]
  },
  {
   "cell_type": "markdown",
   "id": "4b68521e",
   "metadata": {},
   "source": [
    "<h3> Deploy a predictive service </h3>\n",
    "\n",
    "In Azure Machine Learning, you can deploy a service as an Azure Container Instances (ACI) or to an Azure Kubernetes Service (AKS) cluster. For production scenarios, an AKS deployment is recommended, for which you must create an inference cluster compute target. In this exercise, you'll use an ACI service, which is a suitable deployment target for testing, and does not require you to create an inference cluster.\n",
    "\n",
    "1. In [Azure Machine Learning studio](https://ml.azure.com/), on the **Automated ML** page, select the run for your automated machine learning experiment.\n",
    "\n",
    "2. On the **Details** tab, select the algorithm name for the best model.\n",
    "\n",
    "<img src = \"images/image9.png\" width = 1000 height = 1000 />"
   ]
  },
  {
   "cell_type": "markdown",
   "id": "569cf909",
   "metadata": {},
   "source": [
    "3. on the **Model** tab, select the **Deploy** button and use the **Deploy to web service** option to deploy the model with the following settings:\n",
    "\n",
    "**Name:** predict-rentals\n",
    "**Description:** Predict cycle rentals\n",
    "**Compute type:** Azure Container Instance\n",
    "**Enable authentication:** Selected\n",
    "\n",
    "4. Wait for the deployment to start - this may take a few seconds. Then, in the **Model summary** section, observe the **Deploy status** for the** predict-rentals** service, which should be **Running**. Wait for this status to change to Successful, which may take some time. You may need to select **↻ Refresh** periodically.\n",
    "\n",
    "5. In Azure Machine Learning studio, view the **Endpoints** page and select the **predict-rentals** real-time endpoint. Then select the **Consume** tab and note the following information there. If you do not see the **Consume** tab, the deployment is not completely finished - you will need to wait and refresh the page. You would need the information from the Consume tab to connect to your deployed service from a client application.\n",
    "\n",
    "    - The REST endpoint for your service\n",
    "    - The primary or secondary key for your service\n",
    "    \n",
    "    \n",
    "    <img src = \"images/image10.png\" width = 1000 height = 1000 />"
   ]
  },
  {
   "cell_type": "markdown",
   "id": "24d452f8",
   "metadata": {},
   "source": [
    "<h3> Test the deployed service </h3>\n",
    "\n",
    "Now you can test your deployed service.\n",
    "\n",
    "1. On the Endpoints page, open the predict-auto-price real-time endpoint.\n",
    "\n",
    "2. When the predict-auto-price endpoint opens, view the Test tab.\n",
    "\n",
    "3. In the input data pane, replace the template JSON with the following input data:\n",
    "\n",
    "\n",
    "<img src = \"images/image11.png\" width = 1000 height = 1000 />"
   ]
  },
  {
   "cell_type": "markdown",
   "id": "28a07822",
   "metadata": {},
   "source": [
    "4. Click on the Test button.\n",
    "\n",
    "5. Review the test results, which include a predicted number of rentals based on the input features. The test pane took the input data and used the model you trained to return the predicted number of rentals.\n",
    "\n",
    "<img src = \"images/image12.png\" width = 1000 height = 1000 />\n",
    "\n",
    "Let's review what you have done. You used a dataset of historical bicycle rental data to train a model. The model predicts the number of bicycle rentals expected on a given day, based on seasonal and meteorological features. In this case, the labels are number of bicycle rentals."
   ]
  },
  {
   "cell_type": "markdown",
   "id": "368f27dc",
   "metadata": {},
   "source": [
    "<h3> Knowledge check </h3>\n",
    "\n",
    "1. An automobile dealership wants to use historic car sales data to train a machine learning model. The model should predict the price of a pre-owned car based on its make, model, engine size, and mileage. What kind of machine learning model should the dealership use automated machine learning to create?\n",
    "\n",
    "Classification\n",
    "\n",
    "Regression\n",
    "\n",
    "Time series forecasting\n",
    "2. A bank wants to use historic loan repayment records to categorize loan applications as low-risk or high-risk based on characteristics like the loan amount, the income of the borrower, and the loan period. What kind of machine learning model should the bank use automated machine learning to create?\n",
    "\n",
    "Classification\n",
    "\n",
    "Regression\n",
    "\n",
    "Time series forecasting\n",
    "3. You want to use automated machine learning to train a regression model with the best possible R2 score. How should you configure the automated machine learning experiment?\n",
    "\n",
    "Set the Primary metric to R2 score\n",
    "\n",
    "Block all algorithms other than GradientBoosting\n",
    "\n",
    "Enable featurization"
   ]
  },
  {
   "cell_type": "markdown",
   "id": "d7925378",
   "metadata": {},
   "source": [
    "<h2> Summary </h2>\n",
    "\n",
    "\n",
    "In this module, you explored machine learning and learned how to use the automated machine learning capability of Azure Machine Learning to train and deploy a predictive model.\n",
    "\n",
    "<h2> Clean-up </h2>\n",
    "\n",
    "The web service you created is hosted in an Azure Container Instance. If you don't intend to experiment with it further, you should delete the endpoint to avoid accruing unnecessary Azure usage.\n",
    "\n",
    "In Azure Machine Learning studio, on the Endpoints tab, select the predict-rentals endpoint. Then select Delete (🗑) and confirm that you want to delete the endpoint.\n",
    "\n",
    "<mark style=\"background-color: #FFFF00\"> Note that: Deleting the endpoint ensures your subscription won't be charged for the container instance in which it is hosted. You will however be charged a small amount for data storage as long as the Azure Machine Learning workspace exists in your subscription. If you have finished exploring Azure Machine Learning, you can delete the Azure Machine Learning workspace and associated resources. However, if you plan to complete any other labs in this series, you will need to recreate it.</mark >\n",
    "    \n",
    "<mark style=\"background-color: #FFFF00\">  To delete your workspace:</mark >\n",
    "\n",
    "<mark style=\"background-color: #FFFF00\">1. In the Azure portal, in the Resource groups page, open the resource group you specified when creating your Azure Machine Learning workspace.</mark >\n",
    "\n",
    "\n",
    "<mark style=\"background-color: #FFFF00\"> 2. Click Delete resource group, type the resource group name to confirm you want to delete it, and select Delete.\n",
    "    </mark >"
   ]
  },
  {
   "cell_type": "code",
   "execution_count": null,
   "id": "3e3311f3",
   "metadata": {},
   "outputs": [],
   "source": []
  }
 ],
 "metadata": {
  "kernelspec": {
   "display_name": "Python 3 (ipykernel)",
   "language": "python",
   "name": "python3"
  },
  "language_info": {
   "codemirror_mode": {
    "name": "ipython",
    "version": 3
   },
   "file_extension": ".py",
   "mimetype": "text/x-python",
   "name": "python",
   "nbconvert_exporter": "python",
   "pygments_lexer": "ipython3",
   "version": "3.9.7"
  },
  "varInspector": {
   "cols": {
    "lenName": 16,
    "lenType": 16,
    "lenVar": 40
   },
   "kernels_config": {
    "python": {
     "delete_cmd_postfix": "",
     "delete_cmd_prefix": "del ",
     "library": "var_list.py",
     "varRefreshCmd": "print(var_dic_list())"
    },
    "r": {
     "delete_cmd_postfix": ") ",
     "delete_cmd_prefix": "rm(",
     "library": "var_list.r",
     "varRefreshCmd": "cat(var_dic_list()) "
    }
   },
   "types_to_exclude": [
    "module",
    "function",
    "builtin_function_or_method",
    "instance",
    "_Feature"
   ],
   "window_display": false
  }
 },
 "nbformat": 4,
 "nbformat_minor": 5
}
