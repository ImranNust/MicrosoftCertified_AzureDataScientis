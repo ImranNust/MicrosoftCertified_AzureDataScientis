{
 "cells": [
  {
   "cell_type": "markdown",
   "metadata": {
    "id": "Wc_79hyqeW1G"
   },
   "source": [
    "**<center><h1>Introduction</h1></center>**\n",
    "\n",
    "Training a great model is a start to a data science project, but having a trained model that existed in a notebook on a cluster at one point in time will not be enough. To move beyond this phase, you can use model management. In this module, you will learn how you can use MLflow in Azure Databricks to register and manage your models.\n",
    "\n",
    "\n",
    "**<h2>Learning Objectives</h2>**\n",
    "\n",
    "After completing this module, you'll be able to:\n",
    "\n",
    "- Describe considerations for model management.\n",
    "- Register models.\n",
    "- Manage model versioning.\n",
    "\n",
    "<hr>"
   ]
  },
  {
   "cell_type": "markdown",
   "metadata": {
    "id": "nPqBhKivuvUk"
   },
   "source": [
    "**<center><h1>Describe considerations for model management</h1></center>**\n",
    "\n",
    "The two key steps for model management in MLflow are **registration** and **versioning** of models.\n",
    "\n",
    "With registration, a data scientist stores the details of a model in the MLflow Model Registry, along with a name for ease of access. Users can retrieve the model from the registry and use that model to perform inference on new data sets. Next to that, it´s possible to serve models on Azure Databricks or in Azure Machine Learning, automatically generating a REST API to interact with the model.\n",
    "\n",
    "Once a model is out in production, there is still more work to do. As models change over time, model management becomes a process of training new candidate models, comparing to the current version and prior candidate models, and determining whether a candidate is worthy of becoming the next production model. MLflow's versioning system makes model management easy by labeling new versions of models and retaining information on prior model versions automatically. MLflow allows a data scientist to perform testing on various model versions and ensure that new models are performing better than older models.\n",
    "\n",
    "\n",
    "\n",
    "<hr>"
   ]
  },
  {
   "cell_type": "markdown",
   "metadata": {
    "id": "2AOYGD4704w4"
   },
   "source": [
    "**<center><h1>Register models</h1></center>**\n",
    "\n",
    "Once you have a model trained using the library of your choice, the next step is to register that model. Registration allows MLflow to keep track of the model, saving details on how the model performed in training, as well as the contents of the model itself.\n",
    "\n",
    "**<h2>The registration process</h2>**\n",
    "\n",
    "Registration is possible through the Azure Databricks UI and through code.\n",
    "\n",
    "**<h3>Registration through the UI</h3>**\n",
    "\n",
    "1. Registering a model is fairly straightforward. First, start with an experiment run.\n",
    "\n",
    "\n",
    "<img src=\"images/03-01-03-external-link (1).png\" />\n",
    "2. On the run details page, select the folder, which contains the model and then select **Register Model**.\n",
    "<img src=\"images/03-02-02-register-model.png\" />\n",
    "3. If you have not already created the model before, select the **Model** drop-down list and choose + **Create New Model**.\n",
    "<img src=\"images/03-02-02-create-model.png\" />\n",
    "4. Choose an appropriate name for the model and then select **Register**.\n",
    "<img src=\"images/03-02-02-name-model.png\" />\n",
    "5. At this point, model registration will occur and you will have a new model. Navigate to the **Models** menu to view the model.\n",
    "\n",
    "**<h2>Registration through code</h2>**\n",
    "\n",
    "The other method to register a model is through code. There are two ways we can register a model. The first method is to register directly from an experiment.\n",
    "\n",
    "```\n",
    "model_details = mlflow.register_model(model_uri=model_uri, name=model_name)\n",
    "```\n",
    "\n",
    "The second method is to register during a run by naming ```registered_model_name```.\n",
    "\n",
    "```\n",
    "with mlflow.start_run() as run:\n",
    "    mlflow.log_params(\"param1\", 123)\n",
    "    mlflow.sklearn.log_model(\n",
    "        sk_model=model,\n",
    "        artifact_path=\"model\",\n",
    "        registered_model_name=\"sklearn Trained Model\")\n",
    "\n",
    "```\n",
    "At this point, model registration will occur and you will have a new model. You can reference the model in code using the following method:\n",
    "\n",
    "```\n",
    "model = mlflow.sklearn.load_model(\n",
    "    model_uri=f\"models:/{model_name}/{model_version}\")\n",
    "```\n",
    "\n",
    "**<h2>The importance of model registration</h2>**\n",
    "Model registration allows MLflow and Azure Databricks to keep track of models. This is important for two reasons. First, registering a model allows you to serve the model for real-time or batch scoring. This makes the process of using a trained model easy, as now data scientists will not need to develop application code; the serving process builds that wrapper and exposes a REST API or method for batch scoring automatically.\n",
    "\n",
    "Second, registering a model allows you to create new versions of that model over time. This gives you the opportunity to track model changes and even perform comparisons between different historical versions of models. This helps answer a question of whether your model changes are significant - that is, newer models are definitely better than older models - or if the newer models are chasing noise and are not actually better than their predecessors.\n",
    "\n",
    "\n",
    "\n",
    "<hr>"
   ]
  },
  {
   "cell_type": "markdown",
   "metadata": {
    "id": "exJkxNHb05Kv"
   },
   "source": [
    "**<center><h1>Manage model versioning</h1></center>**\n",
    "\n",
    "With machine learning, model training is not a one-time process. Instead, models will update over time. Keeping track of these changes is possible in MLflow using versioning.\n",
    "\n",
    "\n",
    "**<h2>The versioning process</h2>**\n",
    "\n",
    "1. Versioning a model using the Azure Databricks UI is essentially the same as the model registration process. First, start with an experiment run.\n",
    "\n",
    "<img src=\"images/03-01-03-external-link (2).png\" />\n",
    "\n",
    "2. On the run details page, select the folder, which contains the model and then select **Register Model**.\n",
    "\n",
    "\n",
    "<img src=\"images/03-02-02-register-model (1).png\" />\n",
    "\n",
    "3. Because you have already created a model, select the **Model** drop-down list and choose the appropriate model name.\n",
    "\n",
    "<img src=\"images/03-02-03-version-model.png\" />\n",
    "\n",
    "4. Select **Register** to complete model versioning.\n",
    "\n",
    "At this point, you will have a new version of the model. Navigate to the **Models** menu to view the model and its versions.\n",
    "\n",
    "<img src=\"images/03-02-03-model-versions.png\" />\n",
    "\n",
    "**<h2>Stage model versions</h2>**\n",
    "\n",
    "In addition to creating versions of models, MLflow allows model versions to be in certain specified stages. These include:\n",
    "\n",
    "- **Production.** This is a model version, which is intended for deployment.\n",
    "- **Staging.** This is a model version, which is intended for testing prior to taking over in production.\n",
    "- **Archived.** This is a model version, which is no longer intended for use, usually because it has been supplanted by a superior model version.\n",
    "\n",
    "Model versions start out without a stage. There are two ways of doing this: through the Azure Databricks UI as well as through code.\n",
    "\n",
    "**<h2>Stage model versions through the UI</h2>**\n",
    "\n",
    "In order to transition a model version to a stage through the Azure Databricks UI, select the version link and in the **Stage** drop-down, select the new stage, either by requesting a transition or performing the transition. Performing a transition requires one of the following permissions: **Manage Staging Versions**, **Manage Production Versions**, or **Manage**. Any user with **Read** permissions or better may request a transition.\n",
    "\n",
    "<img src=\"images/03-02-03-transition-version.png\" />\n",
    "\n",
    "After performing this transition, return to the model details and the **Stage** column will contain information on the newly transitioned model version.\n",
    "\n",
    "<img src=\"images/03-02-03-transition-complete.png\" />\n",
    "\n",
    "**<h2>Stage model versions through code</h2>**\n",
    "\n",
    "In order to transition a model version to a stage through code, use the following method:\n",
    "\n",
    "```\n",
    "client.transition_model_version_stage(\n",
    "  name=model_details.name,\n",
    "  version=model_details.version,\n",
    "  stage='Staging',\n",
    ")\n",
    "```\n",
    "\n",
    "\n",
    "After performing this transition, use the following method to retrieve a model at a particular stage:\n",
    "\n",
    "```\n",
    "import mlflow.pyfunc\n",
    "model_uri = \"models:/{model_name}/{model_stage}\".format(model_name=model_name, model_stage=model_stage)\n",
    "model = mlflow.pyfunc.load_model(model_uri)\n",
    "```\n",
    "\n",
    "\n",
    "<hr>"
   ]
  },
  {
   "cell_type": "markdown",
   "metadata": {
    "id": "TbJny5sl05Yf"
   },
   "source": [
    "**<center><h1>Exercise - Manage models in Azure Databricks</h1></center>**\n",
    "\n",
    "Now, you will use Azure Databricks and MLflow to manage a model. This includes registering and serving the model through the user interface, followed by registering, serving, and versioning models through the Azure Databricks API.\n",
    "\n",
    "In this exercise, you will:\n",
    "\n",
    "- Register a Model using the UI.\n",
    "- Register a Model using the API.\n",
    "\n",
    "\n",
    "**<h2>Instructions</h2>**\n",
    "\n",
    "Follow these instructions to complete the exercise:\n",
    "\n",
    "1. Open the exercise instructions at https://aka.ms/mslearn-dp090.\n",
    "2. Complete the **Managing Models** exercise.\n",
    "\n",
    "\n",
    "\n",
    "<hr>"
   ]
  }
 ],
 "metadata": {
  "colab": {
   "collapsed_sections": [],
   "name": "Course4_Module6ManagemachinelearningmodelsinAzureDatabricks",
   "provenance": []
  },
  "kernelspec": {
   "display_name": "Python 3 (ipykernel)",
   "language": "python",
   "name": "python3"
  },
  "language_info": {
   "codemirror_mode": {
    "name": "ipython",
    "version": 3
   },
   "file_extension": ".py",
   "mimetype": "text/x-python",
   "name": "python",
   "nbconvert_exporter": "python",
   "pygments_lexer": "ipython3",
   "version": "3.9.7"
  },
  "varInspector": {
   "cols": {
    "lenName": 16,
    "lenType": 16,
    "lenVar": 40
   },
   "kernels_config": {
    "python": {
     "delete_cmd_postfix": "",
     "delete_cmd_prefix": "del ",
     "library": "var_list.py",
     "varRefreshCmd": "print(var_dic_list())"
    },
    "r": {
     "delete_cmd_postfix": ") ",
     "delete_cmd_prefix": "rm(",
     "library": "var_list.r",
     "varRefreshCmd": "cat(var_dic_list()) "
    }
   },
   "types_to_exclude": [
    "module",
    "function",
    "builtin_function_or_method",
    "instance",
    "_Feature"
   ],
   "window_display": false
  }
 },
 "nbformat": 4,
 "nbformat_minor": 1
}
