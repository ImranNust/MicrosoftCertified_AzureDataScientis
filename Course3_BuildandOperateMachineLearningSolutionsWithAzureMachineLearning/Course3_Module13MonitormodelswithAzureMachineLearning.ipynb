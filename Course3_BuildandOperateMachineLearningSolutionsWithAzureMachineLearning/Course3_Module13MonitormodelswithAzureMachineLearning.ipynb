{
 "cells": [
  {
   "cell_type": "markdown",
   "metadata": {
    "id": "Wc_79hyqeW1G"
   },
   "source": [
    "**<center><h1>Introduction</h1></center>**\n",
    "\n",
    "Application Insights is an application performance management service in Microsoft Azure that enables the capture, storage, and analysis of telemetry data from applications.\n",
    "\n",
    "<img src=\"images/10-01-app-sights.png\" />\n",
    "\n",
    "You can use Application Insights to monitor telemetry from many kinds of application, including applications that are not running in Azure. All that's required is a low-overhead instrumentation package to capture and send the telemetry data to Application Insights. The necessary package is already included in Azure Machine Learning Web services, so you can use it to capture and review telemetry from models published with Azure Machine Learning.\n",
    "\n",
    "**<h2>Learning objectives</h2>**\n",
    "\n",
    "In this module, you will learn how to:\n",
    "\n",
    "- Enable Application Insights monitoring for an Azure Machine Learning web service.\n",
    "- Capture and view model telemetry.\n",
    "\n",
    "\n",
    "<hr>"
   ]
  },
  {
   "cell_type": "markdown",
   "metadata": {
    "id": "RFJr5RbizGAi"
   },
   "source": [
    "**<center><h1>Enable Application Insights</h1></center>**\n",
    "\n",
    "To log telemetry in application insights from an Azure machine learning service, you must have an Application Insights resource associated with your Azure Machine Learning workspace, and you must configure your service to use it for telemetry logging.\n",
    "\n",
    "\n",
    "\n",
    "\n",
    "**<h2>Associate Application Insights with a workspace</h2>**\n",
    "\n",
    "When you create an Azure Machine Learning workspace, you can select an Azure Application Insights resource to associate with it. If you do not select an existing Application Insights resource, a new one is created in the same resource group as your workspace.\n",
    "\n",
    "You can determine the Application Insights resource associated with your workspace by viewing the Overview page of the workspace blade in the Azure portal, or by using the get_details() method of a Workspace object as shown in the following code example:\n",
    "```\n",
    "from azureml.core import Workspace\n",
    "\n",
    "ws = Workspace.from_config()\n",
    "ws.get_details()['applicationInsights']\n",
    "```\n",
    "\n",
    "\n",
    "**<h2>Enable Application Insights for a service</h2>**\n",
    "When deploying a new real-time service, you can enable Application Insights in the deployment configuration for the service, as shown in this example:\n",
    "```\n",
    "dep_config = AciWebservice.deploy_configuration(cpu_cores = 1,\n",
    "                                                memory_gb = 1,\n",
    "                                                enable_app_insights=True)\n",
    "```\n",
    "If you want to enable Application Insights for a service that is already deployed, you can modify the deployment configuration for Azure Kubernetes Service (AKS) based services in the Azure portal. Alternatively, you can update any web service by using the Azure Machine Learning SDK, like this:\n",
    "```\n",
    "service = ws.webservices['my-svc']\n",
    "service.update(enable_app_insights=True)\n",
    "```\n",
    "\n",
    "\n",
    "\n",
    "\n",
    "\n",
    "<hr>"
   ]
  },
  {
   "cell_type": "markdown",
   "metadata": {
    "id": "Z_E4i9QjzGO2"
   },
   "source": [
    "**<center><h1>Capture and view telemetry</h1></center>**\n",
    "\n",
    "Application Insights automatically captures any information written to the standard output and error logs, and provides a query capability to view data in these logs.\n",
    "\n",
    "\n",
    "**<h2>Write log data</h2>**\n",
    "\n",
    "To capture telemetry data for Application insights, you can write any values to the standard output log in the scoring script for your service by using a `print` statement, as shown in the following example:\n",
    "```\n",
    "def init():\n",
    "    global model\n",
    "    model = joblib.load(Model.get_model_path('my_model'))\n",
    "def run(raw_data):\n",
    "    data = json.loads(raw_data)['data']\n",
    "    predictions = model.predict(data)\n",
    "    log_txt = 'Data:' + str(data) + ' - Predictions:' + str(predictions)\n",
    "    print(log_txt)\n",
    "    return predictions.tolist()\n",
    "```\n",
    "Azure Machine Learning creates a custom dimension in the Application Insights data model for the output you write.\n",
    "\n",
    "\n",
    "**<h2>Query logs in Application Insights</h2>**\n",
    "\n",
    "To analyze captured log data, you can use the Log Analytics query interface for Application Insights in the Azure portal. This interface supports a SQL-like query syntax that you can use to extract fields from logged data, including custom dimensions created by your Azure Machine Learning service.\n",
    "\n",
    "For example, the following query returns the **timestamp** and **customDimensions.Content** fields from log traces that have a **message** field value of STDOUT (indicating the data is in the standard output log) and a **customDimensions.[\"Service Name\"]** field value of my-svc:\n",
    "\n",
    "```\n",
    "# SQL\n",
    "traces\n",
    "|where message == \"STDOUT\"\n",
    "  and customDimensions.[\"Service Name\"] = \"my-svc\"\n",
    "| project  timestamp, customDimensions.Content\n",
    "```\n",
    "This query returns the logged data as a table:\n",
    "\n",
    "<img src=\"images/image4.png\" />\n",
    "\n",
    "\n",
    "\n",
    "\n",
    "<hr>"
   ]
  },
  {
   "cell_type": "markdown",
   "metadata": {
    "id": "QHAH0PTXxR08"
   },
   "source": [
    "**<center><h1>Exercise - Monitor a model</h1></center>**\n",
    "\n",
    "\n",
    "Now it's your chance to monitor a model that is deployed as an Azure Machine Learning real-time service.\n",
    "\n",
    "In this exercise, you will:\n",
    "\n",
    "- Configure Application Insights for a deployed service.\n",
    "- Capture and view model telemetry.\n",
    "\n",
    "\n",
    "**<h2>Instructions</h2>**\n",
    "\n",
    "Follow these instructions to complete the exercise.\n",
    "\n",
    "1. If you do not already have an Azure subscription, sign up for a free trial at https://azure.microsoft.com.\n",
    "2. View the exercise repo at https://aka.ms/mslearn-dp100.\n",
    "3. If you have not already done so, complete the Create an Azure Machine Learning workspace exercise to provision an Azure Machine Learning workspace, create a compute instance, and clone the required files.\n",
    "4. Complete the **Monitor a model** exercise.\n",
    "\n",
    "\n",
    "\n",
    "<hr>"
   ]
  },
  {
   "cell_type": "markdown",
   "metadata": {
    "id": "ayAa6TEBMjXT"
   },
   "source": [
    "**<center><h1>Knowledge check</h1></center>**\n",
    "\n",
    "1. You have deployed a model as a real-time inferencing service in an Azure Kubernetes Service (AKS) cluster. What must you do to capture and analyze telemetry for this service?\n",
    "\n",
    "- Redeploy the model as an ACI service.\n",
    "\n",
    "- Enable application insights.\n",
    "\n",
    "- Move the AKS cluster to the same region as the Azure Machine Learning workspace.\n",
    "\n",
    "2. You want to include custom information in the telemetry for your inferencing service, and analyze it using Application Insights. What must you do in your service's entry script?\n",
    "\n",
    "- Use the Run.log method to log the custom metrics.\n",
    "\n",
    "- Save the custom metrics in the ./outputs folder.\n",
    "\n",
    "- Use a print statement to write the metrics in the STDOUT log.\n",
    "\n",
    "\n",
    "<hr>"
   ]
  },
  {
   "cell_type": "markdown",
   "metadata": {
    "id": "BKpz-P7vMpAW"
   },
   "source": [
    "**<center><h1>Summary</h1></center>**\n",
    "\n",
    "In this module, you learned how to:\n",
    "\n",
    "- Enable Application Insights monitoring for an Azure Machine Learning web service.\n",
    "- Capture and view model telemetry.\n",
    "\n",
    "\n",
    "To learn more about monitoring models with Azure Machine Learning, see [Monitor and collect data from ML web service endpoints](https://docs.microsoft.com/en-us/azure/machine-learning/how-to-enable-app-insights) in the Azure Machine Learning documentation.\n",
    "\n",
    "\n",
    "<hr>"
   ]
  }
 ],
 "metadata": {
  "colab": {
   "collapsed_sections": [],
   "name": "Course3_Module13MonitormodelswithAzureMachineLearning",
   "provenance": []
  },
  "kernelspec": {
   "display_name": "Python 3 (ipykernel)",
   "language": "python",
   "name": "python3"
  },
  "language_info": {
   "codemirror_mode": {
    "name": "ipython",
    "version": 3
   },
   "file_extension": ".py",
   "mimetype": "text/x-python",
   "name": "python",
   "nbconvert_exporter": "python",
   "pygments_lexer": "ipython3",
   "version": "3.9.7"
  },
  "varInspector": {
   "cols": {
    "lenName": 16,
    "lenType": 16,
    "lenVar": 40
   },
   "kernels_config": {
    "python": {
     "delete_cmd_postfix": "",
     "delete_cmd_prefix": "del ",
     "library": "var_list.py",
     "varRefreshCmd": "print(var_dic_list())"
    },
    "r": {
     "delete_cmd_postfix": ") ",
     "delete_cmd_prefix": "rm(",
     "library": "var_list.r",
     "varRefreshCmd": "cat(var_dic_list()) "
    }
   },
   "types_to_exclude": [
    "module",
    "function",
    "builtin_function_or_method",
    "instance",
    "_Feature"
   ],
   "window_display": false
  }
 },
 "nbformat": 4,
 "nbformat_minor": 1
}
