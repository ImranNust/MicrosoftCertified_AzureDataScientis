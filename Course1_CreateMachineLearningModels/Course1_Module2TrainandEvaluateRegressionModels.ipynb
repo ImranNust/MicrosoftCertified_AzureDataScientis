{
 "cells": [
  {
   "cell_type": "markdown",
   "metadata": {
    "id": "pwAp7LLhZ95Z"
   },
   "source": [
    "<center> <h1> Introduction </h1> </center>\n",
    "\n",
    "Regression is where models predict a number.\n",
    "\n",
    "In machine learning, the goal of regression is to create a model that can predict a numeric, quantifiable value, such as a price, amount, size, or other scalar number.\n",
    "\n",
    "Regression is a statistical technique of fundamental importance to science because of its ease of interpretation, robustness, and speed in calculation. Regression models provide an excellent foundation to understanding how more complex machine learning techniques work.\n",
    "\n",
    "In real world situations, particularly when little data are available, regression models are very useful for making predictions. For example, if a company that rents bicycles wants to predict the expected number of rentals on a given day in the future, a regression model can predict this number. A model could be created using existing data such as the number of bicycles that were rented on days where the season, day of the week, and so on, were also recorded.\n",
    "\n",
    "<img src = \"images/image1_new.png\" width = 1000 height = 1000 />"
   ]
  },
  {
   "cell_type": "markdown",
   "metadata": {
    "id": "jjhsi2wubS_a"
   },
   "source": [
    "<h2> Prerequisites </h2>\n",
    "\n",
    "- Knowledge of basic mathematics\n",
    "- Some experience programming in Python\n",
    "\n",
    "\n",
    "<h2> Learning objectives </h2>\n",
    "\n",
    "In this module, you will:\n",
    "\n",
    "- When to use regression models.\n",
    "- How to train and evaluate regression models using the Scikit-Learn framework.\n",
    "\n",
    "<hr>"
   ]
  },
  {
   "cell_type": "markdown",
   "metadata": {
    "id": "1B4sD5WibqRu"
   },
   "source": [
    "<center> <h1> What is regression? </h1> </center>\n",
    "\n",
    "\n",
    "Regression works by establishing a relationship between variables in the data that represent characteristics—known as the features—of the thing being observed, and the variable we're trying to predict—known as the label. Recall our company that rents bicycles and wants to predict the expected number of rentals in a given day. In this case, features include things like the day of the week, month, and so on, while the label is the number of bicycle rentals.\n",
    "\n",
    "To train the model, we start with a data sample containing the features, as well as known values for the label - so in this case we need historical data that includes dates, weather conditions, and the number of bicycle rentals.\n",
    "\n",
    "We'll then split this data sample into two subsets:\n",
    "\n",
    "- A training dataset to which we'll apply an algorithm that determines a function encapsulating the relationship between the feature values and the known label values.\n",
    "- A validation or test dataset that we can use to evaluate the model by using it to generate predictions for the label and comparing them to the actual known label values.\n",
    "\n",
    "The use of historic data with known label values to train a model makes regression an example of supervised machine learning."
   ]
  },
  {
   "cell_type": "markdown",
   "metadata": {
    "id": "heNNb4yVcxst"
   },
   "source": [
    "<h2> A simple example </h2>\n",
    "\n",
    "Let's take a simple example to see how the training and evaluation process works in principle. Suppose we simplify the scenario so that we use a single feature—average daily temperature—to predict the bicycle rentals label.\n",
    "\n",
    "We start with some data that includes known values for the average daily temperature feature and the bicycle rentals label.\n",
    "\n",
    "<img src = \"images/image2_new.png\"  />"
   ]
  },
  {
   "cell_type": "markdown",
   "metadata": {
    "id": "iX89IctHc61N"
   },
   "source": [
    "Now we'll randomly select five of these observations and use them to train a regression model. When we're talking about ‘training a model’, what we mean is finding a function (a mathematical equation; let’s call it $f$) that can use the temperature feature (which we’ll call $x$) to calculate the number of rentals (which we’ll call $y$). In other words, we need to define the following function: $f(x) = y$.\n",
    "\n",
    "Our training dataset looks like this:\n",
    "\n",
    "<img src = \"images/image3_new.png\"  />"
   ]
  },
  {
   "cell_type": "markdown",
   "metadata": {
    "id": "d8CMoJk6dFuv"
   },
   "source": [
    "Let's start by plotting the training values for $x$ and $y$ on a chart:\n",
    "\n",
    "\n",
    "<img src = \"images/image4_new.png\"  />"
   ]
  },
  {
   "cell_type": "markdown",
   "metadata": {
    "id": "0uXjKt6hdNmd"
   },
   "source": [
    "Now we need to fit these values to a function, allowing for some random variation. You can probably see that the plotted points form an almost straight diagonal line - in other words, there's an apparent linear relationship between $x$ and $y$, so we need to find a linear function that's the best fit for the data sample. There are various algorithms we can use to determine this function, which will ultimately find a straight line with minimal overall variance from the plotted points; like this:\n",
    "\n",
    "<img src = \"images/image5_new.png\"  />"
   ]
  },
  {
   "cell_type": "markdown",
   "metadata": {
    "id": "I245Mb_PdW2i"
   },
   "source": [
    "The line represents a linear function that can be used with any value of $x$ to apply the slope of the line and its intercept (where the line crosses the $y$ axis when $x$ is $0$) to calculate $y$. In this case, if we extended the line to the left we'd find that when $x$ is $0$, $y$ is around $20$, and the slope of the line is such that for each unit of $x$ you move along to the right, $y$ increases by around $1.7$. Our $f$ function therefore can be calculated as $20 + 1.7x$.\n",
    "\n",
    "Now that we've defined our predictive function, we can use it to predict labels for the validation data we held back and compare the predicted values (which we typically indicate with the symbol $ŷ$, or \"y-hat\") with the actual known $y$ values.\n",
    "\n",
    "<img src = \"images/image6.png\"  />"
   ]
  },
  {
   "cell_type": "markdown",
   "metadata": {
    "id": "2ltptISndus3"
   },
   "source": [
    "Let's see how the $y$ and $ŷ$ values compare in a plot:\n",
    "\n",
    "<img src = \"images/image7.png\"  />"
   ]
  },
  {
   "cell_type": "markdown",
   "metadata": {
    "id": "8tGy4w8Pd43h"
   },
   "source": [
    "The plotted points that are on the function line are the predicted $ŷ$ values calculated by the function, and the other plotted points are the actual $y$ values.\n",
    "\n",
    "There are various ways we can measure the variance between the predicted and actual values, and we can use these metrics to evaluate how well the model predicts.\n",
    "\n",
    "<mark>Note: Machine learning is based in statistics and math, and it's important to be aware of specific terms that statisticians and mathematicians (and therefore data scientists) use. You can think of the difference between a predicted label value and the actual label value as a measure of **error**. However, in practice, the \"actual\" values are based on sample observations (which themselves may be subject to some random variance). To make it clear that we're comparing a predicted value $(ŷ)$ with an observed value $(y)$ we refer to the difference between them as the residuals. We can summarize the **residuals** for all of the validation data predictions to calculate the overall **loss** in the model as a measure of its predictive performance.</mark>\n",
    "\n",
    "One of the most common ways to measure the loss is to square the individual residuals, sum the squares, and calculate the mean. Squaring the residuals has the effect of basing the calculation on absolute values (ignoring whether the difference is negative or positive) and giving more weight to larger differences. This metric is called the **Mean Squared Error**.\n",
    "\n",
    "For our validation data, the calculation looks like this:\n",
    "\n",
    "<img src = \"images/image8.png\"  />"
   ]
  },
  {
   "cell_type": "markdown",
   "metadata": {
    "id": "Ut3UE5QSes9H"
   },
   "source": [
    "So the loss for our model based on the MSE metric is 9.79.\n",
    "\n",
    "So is that any good? It's difficult to tell because MSE value isn't expressed in a meaningful unit of measurement. We do know that the lower the value is, the less loss there is in the model; and therefore, the better it is predicting. This makes it a useful metric to compare two models and find the one that performs best.\n",
    "\n",
    "Sometimes, it's more useful to express the loss in the same unit of measurement as the predicted label value itself - in this case, the number of rentals. It's possible to do this by calculating the square root of the MSE, which produces a metric known, unsurprisingly, as the **Root Mean Squared Error** (RMSE).\n",
    "\n",
    "$$√9.79 = 3.13$$\n",
    "\n",
    "So our model's RMSE indicates that the loss is just over 3, which you can interpret loosely as meaning that on average, incorrect predictions are wrong by around 3 rentals.\n",
    "\n",
    "There are many other metrics that can be used to measure loss in a regression. For example, $R^2$ (R-Squared) (sometimes known as coefficient of determination) is the correlation between $x$ and $y$ squared. This produces a value between $0$ and $1$ that measures the amount of variance that can be explained by the model. Generally, the closer this value is to $1$, the better the model predicts.\n",
    "\n",
    "<hr></hr>\n",
    "\n"
   ]
  },
  {
   "cell_type": "markdown",
   "metadata": {
    "id": "M0mEnvMOfAf8"
   },
   "source": [
    "<center><h1>Exercise - Train and evaluate a regression model</h1></center>"
   ]
  },
  {
   "cell_type": "markdown",
   "metadata": {
    "id": "s2ARRu70fQf5"
   },
   "source": [
    "<h2>Regression</h2>\n",
    "\n",
    "Supervised machine learning techniques involve training a model to operate on a set of features and predict a label using a dataset that includes some already-known label values. The training process fits the features to the known labels to define a general function that can be applied to new features for which the labels are unknown, and predict them. You can think of this function like this, in which $y$ represents the label we want to predict and $x$ represents the features the model uses to predict it.\n",
    "\n",
    "$$y = f(x)$$\n",
    " \n",
    "\n",
    "In most cases, $x$ is actually a vector that consists of multiple feature values, so to be a little more precise, the function could be expressed like this:\n",
    "\n",
    "$$y=([x_1, x_2, x_3, …])$$\n",
    " \n",
    "\n",
    "The goal of training the model is to find a function that performs some kind of calculation to the $x$ values that produces the result $y$. We do this by applying a machine learning algorithm that tries to fit the $x$ values to a calculation that produces $y$ reasonably accurately for all of the cases in the training dataset.\n",
    "\n",
    "There are lots of machine learning algorithms for supervised learning, and they can be broadly divided into two types:\n",
    "\n",
    "- **Regression algorithms:** Algorithms that predict a $y$ value that is a numeric value, such as the price of a house or the number of sales transactions.\n",
    "- **Classification algorithms:** Algorithms that predict to which category, or class, an observation belongs. The $y$ value in a classification model is a vector of probability values between $0$ and $1$, one for each class, indicating the probability of the observation belonging to each class.\n",
    "\n",
    "In this notebook, we'll focus on regression, using an example based on a real study in which data for a bicycle sharing scheme was collected and used to predict the number of rentals based on seasonality and weather conditions. We'll use a simplified version of the dataset from that study."
   ]
  },
  {
   "cell_type": "markdown",
   "metadata": {
    "id": "bJe856bdf-go"
   },
   "source": [
    "<h2> Explore the Data </h2>\n",
    "\n",
    "The first step in any machine learning project is to explore the data that you will use to train a model. The goal of this exploration is to try to understand the relationships between its attributes; in particular, any apparent correlation between the features and the label your model will try to predict. This may require some work to detect and fix issues in the data (such as dealing with missing values, errors, or outlier values), deriving new feature columns by transforming or combining existing features (a process known as feature engineering), normalizing numeric features (values you can measure or count) so they're on a similar scale, and encoding categorical features (values that represent discrete categories) as numeric indicators.\n",
    "\n",
    "Let's start by loading the bicycle sharing data as a **Pandas DataFrame** and viewing the first few rows.\n",
    "\n"
   ]
  },
  {
   "cell_type": "code",
   "execution_count": 1,
   "metadata": {
    "colab": {
     "base_uri": "https://localhost:8080/",
     "height": 270
    },
    "id": "qAHT2GceZU2v",
    "outputId": "c4cffbe9-b5df-47f3-b4c1-5e8ceb859df7"
   },
   "outputs": [
    {
     "data": {
      "text/html": [
       "<div>\n",
       "<style scoped>\n",
       "    .dataframe tbody tr th:only-of-type {\n",
       "        vertical-align: middle;\n",
       "    }\n",
       "\n",
       "    .dataframe tbody tr th {\n",
       "        vertical-align: top;\n",
       "    }\n",
       "\n",
       "    .dataframe thead th {\n",
       "        text-align: right;\n",
       "    }\n",
       "</style>\n",
       "<table border=\"1\" class=\"dataframe\">\n",
       "  <thead>\n",
       "    <tr style=\"text-align: right;\">\n",
       "      <th></th>\n",
       "      <th>instant</th>\n",
       "      <th>dteday</th>\n",
       "      <th>season</th>\n",
       "      <th>yr</th>\n",
       "      <th>mnth</th>\n",
       "      <th>holiday</th>\n",
       "      <th>weekday</th>\n",
       "      <th>workingday</th>\n",
       "      <th>weathersit</th>\n",
       "      <th>temp</th>\n",
       "      <th>atemp</th>\n",
       "      <th>hum</th>\n",
       "      <th>windspeed</th>\n",
       "      <th>rentals</th>\n",
       "    </tr>\n",
       "  </thead>\n",
       "  <tbody>\n",
       "    <tr>\n",
       "      <th>0</th>\n",
       "      <td>1</td>\n",
       "      <td>1/1/2011</td>\n",
       "      <td>1</td>\n",
       "      <td>0</td>\n",
       "      <td>1</td>\n",
       "      <td>0</td>\n",
       "      <td>6</td>\n",
       "      <td>0</td>\n",
       "      <td>2</td>\n",
       "      <td>0.344167</td>\n",
       "      <td>0.363625</td>\n",
       "      <td>0.805833</td>\n",
       "      <td>0.160446</td>\n",
       "      <td>331</td>\n",
       "    </tr>\n",
       "    <tr>\n",
       "      <th>1</th>\n",
       "      <td>2</td>\n",
       "      <td>1/2/2011</td>\n",
       "      <td>1</td>\n",
       "      <td>0</td>\n",
       "      <td>1</td>\n",
       "      <td>0</td>\n",
       "      <td>0</td>\n",
       "      <td>0</td>\n",
       "      <td>2</td>\n",
       "      <td>0.363478</td>\n",
       "      <td>0.353739</td>\n",
       "      <td>0.696087</td>\n",
       "      <td>0.248539</td>\n",
       "      <td>131</td>\n",
       "    </tr>\n",
       "    <tr>\n",
       "      <th>2</th>\n",
       "      <td>3</td>\n",
       "      <td>1/3/2011</td>\n",
       "      <td>1</td>\n",
       "      <td>0</td>\n",
       "      <td>1</td>\n",
       "      <td>0</td>\n",
       "      <td>1</td>\n",
       "      <td>1</td>\n",
       "      <td>1</td>\n",
       "      <td>0.196364</td>\n",
       "      <td>0.189405</td>\n",
       "      <td>0.437273</td>\n",
       "      <td>0.248309</td>\n",
       "      <td>120</td>\n",
       "    </tr>\n",
       "    <tr>\n",
       "      <th>3</th>\n",
       "      <td>4</td>\n",
       "      <td>1/4/2011</td>\n",
       "      <td>1</td>\n",
       "      <td>0</td>\n",
       "      <td>1</td>\n",
       "      <td>0</td>\n",
       "      <td>2</td>\n",
       "      <td>1</td>\n",
       "      <td>1</td>\n",
       "      <td>0.200000</td>\n",
       "      <td>0.212122</td>\n",
       "      <td>0.590435</td>\n",
       "      <td>0.160296</td>\n",
       "      <td>108</td>\n",
       "    </tr>\n",
       "    <tr>\n",
       "      <th>4</th>\n",
       "      <td>5</td>\n",
       "      <td>1/5/2011</td>\n",
       "      <td>1</td>\n",
       "      <td>0</td>\n",
       "      <td>1</td>\n",
       "      <td>0</td>\n",
       "      <td>3</td>\n",
       "      <td>1</td>\n",
       "      <td>1</td>\n",
       "      <td>0.226957</td>\n",
       "      <td>0.229270</td>\n",
       "      <td>0.436957</td>\n",
       "      <td>0.186900</td>\n",
       "      <td>82</td>\n",
       "    </tr>\n",
       "  </tbody>\n",
       "</table>\n",
       "</div>"
      ],
      "text/plain": [
       "   instant    dteday  season  yr  mnth  holiday  weekday  workingday  \\\n",
       "0        1  1/1/2011       1   0     1        0        6           0   \n",
       "1        2  1/2/2011       1   0     1        0        0           0   \n",
       "2        3  1/3/2011       1   0     1        0        1           1   \n",
       "3        4  1/4/2011       1   0     1        0        2           1   \n",
       "4        5  1/5/2011       1   0     1        0        3           1   \n",
       "\n",
       "   weathersit      temp     atemp       hum  windspeed  rentals  \n",
       "0           2  0.344167  0.363625  0.805833   0.160446      331  \n",
       "1           2  0.363478  0.353739  0.696087   0.248539      131  \n",
       "2           1  0.196364  0.189405  0.437273   0.248309      120  \n",
       "3           1  0.200000  0.212122  0.590435   0.160296      108  \n",
       "4           1  0.226957  0.229270  0.436957   0.186900       82  "
      ]
     },
     "execution_count": 1,
     "metadata": {},
     "output_type": "execute_result"
    }
   ],
   "source": [
    "import pandas as pd\n",
    "\n",
    "# load the training dataset\n",
    "path =  \"https://raw.githubusercontent.com/MicrosoftDocs/mslearn-introduction-to-machine-learning/main/Data/ml-basics/daily-bike-share.csv\" \n",
    "bike_data = pd.read_csv(path)\n",
    "bike_data.head()"
   ]
  },
  {
   "cell_type": "markdown",
   "metadata": {
    "id": "ChI9kzNCgTPN"
   },
   "source": [
    "The data consists of the following columns:\n",
    "\n",
    "- **instant:** A unique row identifier\n",
    "- **dteday:** The date on which the data was observed - in this case, the data was collected daily; so there's one row per date.\n",
    "- **season:** A numerically encoded value indicating the season (1:spring, 2:summer, 3:fall, 4:winter)\n",
    "- **yr:** The year of the study in which the observation was made (the study took place over two years - year 0 represents 2011, and year 1 represents 2012)\n",
    "- **mnth:** The calendar month in which the observation was made (1:January ... 12:December)\n",
    "- **holiday:** A binary value indicating whether or not the observation was made on a public holiday)\n",
    "- **weekday:** The day of the week on which the observation was made (0:Sunday ... 6:Saturday)\n",
    "- **workingday:** A binary value indicating whether or not the day is a working day (not a weekend or holiday)\n",
    "- **weathersit:** A categorical value indicating the weather situation (1:clear, 2:mist/cloud, 3:light rain/snow, 4:heavy rain/hail/snow/fog)\n",
    "- **temp:** The temperature in celsius (normalized)\n",
    "- **atemp:** The apparent (\"feels-like\") temperature in celsius (normalized)\n",
    "- **hum:** The humidity level (normalized)\n",
    "- **windspeed:** The windspeed (normalized)\n",
    "- **rentals:** The number of bicycle rentals recorded.\n",
    "\n",
    "In this dataset, **rentals** represents the label (the y value) our model must be trained to predict. The other columns are potential features (x values).\n",
    "\n",
    "As mentioned previously, you can perform some feature engineering to combine or derive new features. For example, let's add a new column named day to the dataframe by extracting the **day** component from the existing **dteday** column. The new column represents the day of the month from 1 to 31."
   ]
  },
  {
   "cell_type": "code",
   "execution_count": 2,
   "metadata": {
    "colab": {
     "base_uri": "https://localhost:8080/",
     "height": 1000
    },
    "id": "vxfYCxRogPQb",
    "outputId": "bbee90ac-b4b7-4e64-debe-4a02f65a65c3"
   },
   "outputs": [
    {
     "data": {
      "text/html": [
       "<div>\n",
       "<style scoped>\n",
       "    .dataframe tbody tr th:only-of-type {\n",
       "        vertical-align: middle;\n",
       "    }\n",
       "\n",
       "    .dataframe tbody tr th {\n",
       "        vertical-align: top;\n",
       "    }\n",
       "\n",
       "    .dataframe thead th {\n",
       "        text-align: right;\n",
       "    }\n",
       "</style>\n",
       "<table border=\"1\" class=\"dataframe\">\n",
       "  <thead>\n",
       "    <tr style=\"text-align: right;\">\n",
       "      <th></th>\n",
       "      <th>instant</th>\n",
       "      <th>dteday</th>\n",
       "      <th>season</th>\n",
       "      <th>yr</th>\n",
       "      <th>mnth</th>\n",
       "      <th>holiday</th>\n",
       "      <th>weekday</th>\n",
       "      <th>workingday</th>\n",
       "      <th>weathersit</th>\n",
       "      <th>temp</th>\n",
       "      <th>atemp</th>\n",
       "      <th>hum</th>\n",
       "      <th>windspeed</th>\n",
       "      <th>rentals</th>\n",
       "      <th>day</th>\n",
       "    </tr>\n",
       "  </thead>\n",
       "  <tbody>\n",
       "    <tr>\n",
       "      <th>0</th>\n",
       "      <td>1</td>\n",
       "      <td>1/1/2011</td>\n",
       "      <td>1</td>\n",
       "      <td>0</td>\n",
       "      <td>1</td>\n",
       "      <td>0</td>\n",
       "      <td>6</td>\n",
       "      <td>0</td>\n",
       "      <td>2</td>\n",
       "      <td>0.344167</td>\n",
       "      <td>0.363625</td>\n",
       "      <td>0.805833</td>\n",
       "      <td>0.160446</td>\n",
       "      <td>331</td>\n",
       "      <td>1</td>\n",
       "    </tr>\n",
       "    <tr>\n",
       "      <th>1</th>\n",
       "      <td>2</td>\n",
       "      <td>1/2/2011</td>\n",
       "      <td>1</td>\n",
       "      <td>0</td>\n",
       "      <td>1</td>\n",
       "      <td>0</td>\n",
       "      <td>0</td>\n",
       "      <td>0</td>\n",
       "      <td>2</td>\n",
       "      <td>0.363478</td>\n",
       "      <td>0.353739</td>\n",
       "      <td>0.696087</td>\n",
       "      <td>0.248539</td>\n",
       "      <td>131</td>\n",
       "      <td>2</td>\n",
       "    </tr>\n",
       "    <tr>\n",
       "      <th>2</th>\n",
       "      <td>3</td>\n",
       "      <td>1/3/2011</td>\n",
       "      <td>1</td>\n",
       "      <td>0</td>\n",
       "      <td>1</td>\n",
       "      <td>0</td>\n",
       "      <td>1</td>\n",
       "      <td>1</td>\n",
       "      <td>1</td>\n",
       "      <td>0.196364</td>\n",
       "      <td>0.189405</td>\n",
       "      <td>0.437273</td>\n",
       "      <td>0.248309</td>\n",
       "      <td>120</td>\n",
       "      <td>3</td>\n",
       "    </tr>\n",
       "    <tr>\n",
       "      <th>3</th>\n",
       "      <td>4</td>\n",
       "      <td>1/4/2011</td>\n",
       "      <td>1</td>\n",
       "      <td>0</td>\n",
       "      <td>1</td>\n",
       "      <td>0</td>\n",
       "      <td>2</td>\n",
       "      <td>1</td>\n",
       "      <td>1</td>\n",
       "      <td>0.200000</td>\n",
       "      <td>0.212122</td>\n",
       "      <td>0.590435</td>\n",
       "      <td>0.160296</td>\n",
       "      <td>108</td>\n",
       "      <td>4</td>\n",
       "    </tr>\n",
       "    <tr>\n",
       "      <th>4</th>\n",
       "      <td>5</td>\n",
       "      <td>1/5/2011</td>\n",
       "      <td>1</td>\n",
       "      <td>0</td>\n",
       "      <td>1</td>\n",
       "      <td>0</td>\n",
       "      <td>3</td>\n",
       "      <td>1</td>\n",
       "      <td>1</td>\n",
       "      <td>0.226957</td>\n",
       "      <td>0.229270</td>\n",
       "      <td>0.436957</td>\n",
       "      <td>0.186900</td>\n",
       "      <td>82</td>\n",
       "      <td>5</td>\n",
       "    </tr>\n",
       "    <tr>\n",
       "      <th>5</th>\n",
       "      <td>6</td>\n",
       "      <td>1/6/2011</td>\n",
       "      <td>1</td>\n",
       "      <td>0</td>\n",
       "      <td>1</td>\n",
       "      <td>0</td>\n",
       "      <td>4</td>\n",
       "      <td>1</td>\n",
       "      <td>1</td>\n",
       "      <td>0.204348</td>\n",
       "      <td>0.233209</td>\n",
       "      <td>0.518261</td>\n",
       "      <td>0.089565</td>\n",
       "      <td>88</td>\n",
       "      <td>6</td>\n",
       "    </tr>\n",
       "    <tr>\n",
       "      <th>6</th>\n",
       "      <td>7</td>\n",
       "      <td>1/7/2011</td>\n",
       "      <td>1</td>\n",
       "      <td>0</td>\n",
       "      <td>1</td>\n",
       "      <td>0</td>\n",
       "      <td>5</td>\n",
       "      <td>1</td>\n",
       "      <td>2</td>\n",
       "      <td>0.196522</td>\n",
       "      <td>0.208839</td>\n",
       "      <td>0.498696</td>\n",
       "      <td>0.168726</td>\n",
       "      <td>148</td>\n",
       "      <td>7</td>\n",
       "    </tr>\n",
       "    <tr>\n",
       "      <th>7</th>\n",
       "      <td>8</td>\n",
       "      <td>1/8/2011</td>\n",
       "      <td>1</td>\n",
       "      <td>0</td>\n",
       "      <td>1</td>\n",
       "      <td>0</td>\n",
       "      <td>6</td>\n",
       "      <td>0</td>\n",
       "      <td>2</td>\n",
       "      <td>0.165000</td>\n",
       "      <td>0.162254</td>\n",
       "      <td>0.535833</td>\n",
       "      <td>0.266804</td>\n",
       "      <td>68</td>\n",
       "      <td>8</td>\n",
       "    </tr>\n",
       "    <tr>\n",
       "      <th>8</th>\n",
       "      <td>9</td>\n",
       "      <td>1/9/2011</td>\n",
       "      <td>1</td>\n",
       "      <td>0</td>\n",
       "      <td>1</td>\n",
       "      <td>0</td>\n",
       "      <td>0</td>\n",
       "      <td>0</td>\n",
       "      <td>1</td>\n",
       "      <td>0.138333</td>\n",
       "      <td>0.116175</td>\n",
       "      <td>0.434167</td>\n",
       "      <td>0.361950</td>\n",
       "      <td>54</td>\n",
       "      <td>9</td>\n",
       "    </tr>\n",
       "    <tr>\n",
       "      <th>9</th>\n",
       "      <td>10</td>\n",
       "      <td>1/10/2011</td>\n",
       "      <td>1</td>\n",
       "      <td>0</td>\n",
       "      <td>1</td>\n",
       "      <td>0</td>\n",
       "      <td>1</td>\n",
       "      <td>1</td>\n",
       "      <td>1</td>\n",
       "      <td>0.150833</td>\n",
       "      <td>0.150888</td>\n",
       "      <td>0.482917</td>\n",
       "      <td>0.223267</td>\n",
       "      <td>41</td>\n",
       "      <td>10</td>\n",
       "    </tr>\n",
       "    <tr>\n",
       "      <th>10</th>\n",
       "      <td>11</td>\n",
       "      <td>1/11/2011</td>\n",
       "      <td>1</td>\n",
       "      <td>0</td>\n",
       "      <td>1</td>\n",
       "      <td>0</td>\n",
       "      <td>2</td>\n",
       "      <td>1</td>\n",
       "      <td>2</td>\n",
       "      <td>0.169091</td>\n",
       "      <td>0.191464</td>\n",
       "      <td>0.686364</td>\n",
       "      <td>0.122132</td>\n",
       "      <td>43</td>\n",
       "      <td>11</td>\n",
       "    </tr>\n",
       "    <tr>\n",
       "      <th>11</th>\n",
       "      <td>12</td>\n",
       "      <td>1/12/2011</td>\n",
       "      <td>1</td>\n",
       "      <td>0</td>\n",
       "      <td>1</td>\n",
       "      <td>0</td>\n",
       "      <td>3</td>\n",
       "      <td>1</td>\n",
       "      <td>1</td>\n",
       "      <td>0.172727</td>\n",
       "      <td>0.160473</td>\n",
       "      <td>0.599545</td>\n",
       "      <td>0.304627</td>\n",
       "      <td>25</td>\n",
       "      <td>12</td>\n",
       "    </tr>\n",
       "    <tr>\n",
       "      <th>12</th>\n",
       "      <td>13</td>\n",
       "      <td>1/13/2011</td>\n",
       "      <td>1</td>\n",
       "      <td>0</td>\n",
       "      <td>1</td>\n",
       "      <td>0</td>\n",
       "      <td>4</td>\n",
       "      <td>1</td>\n",
       "      <td>1</td>\n",
       "      <td>0.165000</td>\n",
       "      <td>0.150883</td>\n",
       "      <td>0.470417</td>\n",
       "      <td>0.301000</td>\n",
       "      <td>38</td>\n",
       "      <td>13</td>\n",
       "    </tr>\n",
       "    <tr>\n",
       "      <th>13</th>\n",
       "      <td>14</td>\n",
       "      <td>1/14/2011</td>\n",
       "      <td>1</td>\n",
       "      <td>0</td>\n",
       "      <td>1</td>\n",
       "      <td>0</td>\n",
       "      <td>5</td>\n",
       "      <td>1</td>\n",
       "      <td>1</td>\n",
       "      <td>0.160870</td>\n",
       "      <td>0.188413</td>\n",
       "      <td>0.537826</td>\n",
       "      <td>0.126548</td>\n",
       "      <td>54</td>\n",
       "      <td>14</td>\n",
       "    </tr>\n",
       "    <tr>\n",
       "      <th>14</th>\n",
       "      <td>15</td>\n",
       "      <td>1/15/2011</td>\n",
       "      <td>1</td>\n",
       "      <td>0</td>\n",
       "      <td>1</td>\n",
       "      <td>0</td>\n",
       "      <td>6</td>\n",
       "      <td>0</td>\n",
       "      <td>2</td>\n",
       "      <td>0.233333</td>\n",
       "      <td>0.248112</td>\n",
       "      <td>0.498750</td>\n",
       "      <td>0.157963</td>\n",
       "      <td>222</td>\n",
       "      <td>15</td>\n",
       "    </tr>\n",
       "    <tr>\n",
       "      <th>15</th>\n",
       "      <td>16</td>\n",
       "      <td>1/16/2011</td>\n",
       "      <td>1</td>\n",
       "      <td>0</td>\n",
       "      <td>1</td>\n",
       "      <td>0</td>\n",
       "      <td>0</td>\n",
       "      <td>0</td>\n",
       "      <td>1</td>\n",
       "      <td>0.231667</td>\n",
       "      <td>0.234217</td>\n",
       "      <td>0.483750</td>\n",
       "      <td>0.188433</td>\n",
       "      <td>251</td>\n",
       "      <td>16</td>\n",
       "    </tr>\n",
       "    <tr>\n",
       "      <th>16</th>\n",
       "      <td>17</td>\n",
       "      <td>1/17/2011</td>\n",
       "      <td>1</td>\n",
       "      <td>0</td>\n",
       "      <td>1</td>\n",
       "      <td>1</td>\n",
       "      <td>1</td>\n",
       "      <td>0</td>\n",
       "      <td>2</td>\n",
       "      <td>0.175833</td>\n",
       "      <td>0.176771</td>\n",
       "      <td>0.537500</td>\n",
       "      <td>0.194017</td>\n",
       "      <td>117</td>\n",
       "      <td>17</td>\n",
       "    </tr>\n",
       "    <tr>\n",
       "      <th>17</th>\n",
       "      <td>18</td>\n",
       "      <td>1/18/2011</td>\n",
       "      <td>1</td>\n",
       "      <td>0</td>\n",
       "      <td>1</td>\n",
       "      <td>0</td>\n",
       "      <td>2</td>\n",
       "      <td>1</td>\n",
       "      <td>2</td>\n",
       "      <td>0.216667</td>\n",
       "      <td>0.232333</td>\n",
       "      <td>0.861667</td>\n",
       "      <td>0.146775</td>\n",
       "      <td>9</td>\n",
       "      <td>18</td>\n",
       "    </tr>\n",
       "    <tr>\n",
       "      <th>18</th>\n",
       "      <td>19</td>\n",
       "      <td>1/19/2011</td>\n",
       "      <td>1</td>\n",
       "      <td>0</td>\n",
       "      <td>1</td>\n",
       "      <td>0</td>\n",
       "      <td>3</td>\n",
       "      <td>1</td>\n",
       "      <td>2</td>\n",
       "      <td>0.292174</td>\n",
       "      <td>0.298422</td>\n",
       "      <td>0.741739</td>\n",
       "      <td>0.208317</td>\n",
       "      <td>78</td>\n",
       "      <td>19</td>\n",
       "    </tr>\n",
       "    <tr>\n",
       "      <th>19</th>\n",
       "      <td>20</td>\n",
       "      <td>1/20/2011</td>\n",
       "      <td>1</td>\n",
       "      <td>0</td>\n",
       "      <td>1</td>\n",
       "      <td>0</td>\n",
       "      <td>4</td>\n",
       "      <td>1</td>\n",
       "      <td>2</td>\n",
       "      <td>0.261667</td>\n",
       "      <td>0.255050</td>\n",
       "      <td>0.538333</td>\n",
       "      <td>0.195904</td>\n",
       "      <td>83</td>\n",
       "      <td>20</td>\n",
       "    </tr>\n",
       "    <tr>\n",
       "      <th>20</th>\n",
       "      <td>21</td>\n",
       "      <td>1/21/2011</td>\n",
       "      <td>1</td>\n",
       "      <td>0</td>\n",
       "      <td>1</td>\n",
       "      <td>0</td>\n",
       "      <td>5</td>\n",
       "      <td>1</td>\n",
       "      <td>1</td>\n",
       "      <td>0.177500</td>\n",
       "      <td>0.157833</td>\n",
       "      <td>0.457083</td>\n",
       "      <td>0.353242</td>\n",
       "      <td>75</td>\n",
       "      <td>21</td>\n",
       "    </tr>\n",
       "    <tr>\n",
       "      <th>21</th>\n",
       "      <td>22</td>\n",
       "      <td>1/22/2011</td>\n",
       "      <td>1</td>\n",
       "      <td>0</td>\n",
       "      <td>1</td>\n",
       "      <td>0</td>\n",
       "      <td>6</td>\n",
       "      <td>0</td>\n",
       "      <td>1</td>\n",
       "      <td>0.059130</td>\n",
       "      <td>0.079070</td>\n",
       "      <td>0.400000</td>\n",
       "      <td>0.171970</td>\n",
       "      <td>93</td>\n",
       "      <td>22</td>\n",
       "    </tr>\n",
       "    <tr>\n",
       "      <th>22</th>\n",
       "      <td>23</td>\n",
       "      <td>1/23/2011</td>\n",
       "      <td>1</td>\n",
       "      <td>0</td>\n",
       "      <td>1</td>\n",
       "      <td>0</td>\n",
       "      <td>0</td>\n",
       "      <td>0</td>\n",
       "      <td>1</td>\n",
       "      <td>0.096522</td>\n",
       "      <td>0.098839</td>\n",
       "      <td>0.436522</td>\n",
       "      <td>0.246600</td>\n",
       "      <td>150</td>\n",
       "      <td>23</td>\n",
       "    </tr>\n",
       "    <tr>\n",
       "      <th>23</th>\n",
       "      <td>24</td>\n",
       "      <td>1/24/2011</td>\n",
       "      <td>1</td>\n",
       "      <td>0</td>\n",
       "      <td>1</td>\n",
       "      <td>0</td>\n",
       "      <td>1</td>\n",
       "      <td>1</td>\n",
       "      <td>1</td>\n",
       "      <td>0.097391</td>\n",
       "      <td>0.117930</td>\n",
       "      <td>0.491739</td>\n",
       "      <td>0.158330</td>\n",
       "      <td>86</td>\n",
       "      <td>24</td>\n",
       "    </tr>\n",
       "    <tr>\n",
       "      <th>24</th>\n",
       "      <td>25</td>\n",
       "      <td>1/25/2011</td>\n",
       "      <td>1</td>\n",
       "      <td>0</td>\n",
       "      <td>1</td>\n",
       "      <td>0</td>\n",
       "      <td>2</td>\n",
       "      <td>1</td>\n",
       "      <td>2</td>\n",
       "      <td>0.223478</td>\n",
       "      <td>0.234526</td>\n",
       "      <td>0.616957</td>\n",
       "      <td>0.129796</td>\n",
       "      <td>186</td>\n",
       "      <td>25</td>\n",
       "    </tr>\n",
       "    <tr>\n",
       "      <th>25</th>\n",
       "      <td>26</td>\n",
       "      <td>1/26/2011</td>\n",
       "      <td>1</td>\n",
       "      <td>0</td>\n",
       "      <td>1</td>\n",
       "      <td>0</td>\n",
       "      <td>3</td>\n",
       "      <td>1</td>\n",
       "      <td>3</td>\n",
       "      <td>0.217500</td>\n",
       "      <td>0.203600</td>\n",
       "      <td>0.862500</td>\n",
       "      <td>0.293850</td>\n",
       "      <td>34</td>\n",
       "      <td>26</td>\n",
       "    </tr>\n",
       "    <tr>\n",
       "      <th>26</th>\n",
       "      <td>27</td>\n",
       "      <td>1/27/2011</td>\n",
       "      <td>1</td>\n",
       "      <td>0</td>\n",
       "      <td>1</td>\n",
       "      <td>0</td>\n",
       "      <td>4</td>\n",
       "      <td>1</td>\n",
       "      <td>1</td>\n",
       "      <td>0.195000</td>\n",
       "      <td>0.219700</td>\n",
       "      <td>0.687500</td>\n",
       "      <td>0.113837</td>\n",
       "      <td>15</td>\n",
       "      <td>27</td>\n",
       "    </tr>\n",
       "    <tr>\n",
       "      <th>27</th>\n",
       "      <td>28</td>\n",
       "      <td>1/28/2011</td>\n",
       "      <td>1</td>\n",
       "      <td>0</td>\n",
       "      <td>1</td>\n",
       "      <td>0</td>\n",
       "      <td>5</td>\n",
       "      <td>1</td>\n",
       "      <td>2</td>\n",
       "      <td>0.203478</td>\n",
       "      <td>0.223317</td>\n",
       "      <td>0.793043</td>\n",
       "      <td>0.123300</td>\n",
       "      <td>38</td>\n",
       "      <td>28</td>\n",
       "    </tr>\n",
       "    <tr>\n",
       "      <th>28</th>\n",
       "      <td>29</td>\n",
       "      <td>1/29/2011</td>\n",
       "      <td>1</td>\n",
       "      <td>0</td>\n",
       "      <td>1</td>\n",
       "      <td>0</td>\n",
       "      <td>6</td>\n",
       "      <td>0</td>\n",
       "      <td>1</td>\n",
       "      <td>0.196522</td>\n",
       "      <td>0.212126</td>\n",
       "      <td>0.651739</td>\n",
       "      <td>0.145365</td>\n",
       "      <td>123</td>\n",
       "      <td>29</td>\n",
       "    </tr>\n",
       "    <tr>\n",
       "      <th>29</th>\n",
       "      <td>30</td>\n",
       "      <td>1/30/2011</td>\n",
       "      <td>1</td>\n",
       "      <td>0</td>\n",
       "      <td>1</td>\n",
       "      <td>0</td>\n",
       "      <td>0</td>\n",
       "      <td>0</td>\n",
       "      <td>1</td>\n",
       "      <td>0.216522</td>\n",
       "      <td>0.250322</td>\n",
       "      <td>0.722174</td>\n",
       "      <td>0.073983</td>\n",
       "      <td>140</td>\n",
       "      <td>30</td>\n",
       "    </tr>\n",
       "    <tr>\n",
       "      <th>30</th>\n",
       "      <td>31</td>\n",
       "      <td>1/31/2011</td>\n",
       "      <td>1</td>\n",
       "      <td>0</td>\n",
       "      <td>1</td>\n",
       "      <td>0</td>\n",
       "      <td>1</td>\n",
       "      <td>1</td>\n",
       "      <td>2</td>\n",
       "      <td>0.180833</td>\n",
       "      <td>0.186250</td>\n",
       "      <td>0.603750</td>\n",
       "      <td>0.187192</td>\n",
       "      <td>42</td>\n",
       "      <td>31</td>\n",
       "    </tr>\n",
       "    <tr>\n",
       "      <th>31</th>\n",
       "      <td>32</td>\n",
       "      <td>2/1/2011</td>\n",
       "      <td>1</td>\n",
       "      <td>0</td>\n",
       "      <td>2</td>\n",
       "      <td>0</td>\n",
       "      <td>2</td>\n",
       "      <td>1</td>\n",
       "      <td>2</td>\n",
       "      <td>0.192174</td>\n",
       "      <td>0.234530</td>\n",
       "      <td>0.829565</td>\n",
       "      <td>0.053213</td>\n",
       "      <td>47</td>\n",
       "      <td>1</td>\n",
       "    </tr>\n",
       "  </tbody>\n",
       "</table>\n",
       "</div>"
      ],
      "text/plain": [
       "    instant     dteday  season  yr  mnth  holiday  weekday  workingday  \\\n",
       "0         1   1/1/2011       1   0     1        0        6           0   \n",
       "1         2   1/2/2011       1   0     1        0        0           0   \n",
       "2         3   1/3/2011       1   0     1        0        1           1   \n",
       "3         4   1/4/2011       1   0     1        0        2           1   \n",
       "4         5   1/5/2011       1   0     1        0        3           1   \n",
       "5         6   1/6/2011       1   0     1        0        4           1   \n",
       "6         7   1/7/2011       1   0     1        0        5           1   \n",
       "7         8   1/8/2011       1   0     1        0        6           0   \n",
       "8         9   1/9/2011       1   0     1        0        0           0   \n",
       "9        10  1/10/2011       1   0     1        0        1           1   \n",
       "10       11  1/11/2011       1   0     1        0        2           1   \n",
       "11       12  1/12/2011       1   0     1        0        3           1   \n",
       "12       13  1/13/2011       1   0     1        0        4           1   \n",
       "13       14  1/14/2011       1   0     1        0        5           1   \n",
       "14       15  1/15/2011       1   0     1        0        6           0   \n",
       "15       16  1/16/2011       1   0     1        0        0           0   \n",
       "16       17  1/17/2011       1   0     1        1        1           0   \n",
       "17       18  1/18/2011       1   0     1        0        2           1   \n",
       "18       19  1/19/2011       1   0     1        0        3           1   \n",
       "19       20  1/20/2011       1   0     1        0        4           1   \n",
       "20       21  1/21/2011       1   0     1        0        5           1   \n",
       "21       22  1/22/2011       1   0     1        0        6           0   \n",
       "22       23  1/23/2011       1   0     1        0        0           0   \n",
       "23       24  1/24/2011       1   0     1        0        1           1   \n",
       "24       25  1/25/2011       1   0     1        0        2           1   \n",
       "25       26  1/26/2011       1   0     1        0        3           1   \n",
       "26       27  1/27/2011       1   0     1        0        4           1   \n",
       "27       28  1/28/2011       1   0     1        0        5           1   \n",
       "28       29  1/29/2011       1   0     1        0        6           0   \n",
       "29       30  1/30/2011       1   0     1        0        0           0   \n",
       "30       31  1/31/2011       1   0     1        0        1           1   \n",
       "31       32   2/1/2011       1   0     2        0        2           1   \n",
       "\n",
       "    weathersit      temp     atemp       hum  windspeed  rentals  day  \n",
       "0            2  0.344167  0.363625  0.805833   0.160446      331    1  \n",
       "1            2  0.363478  0.353739  0.696087   0.248539      131    2  \n",
       "2            1  0.196364  0.189405  0.437273   0.248309      120    3  \n",
       "3            1  0.200000  0.212122  0.590435   0.160296      108    4  \n",
       "4            1  0.226957  0.229270  0.436957   0.186900       82    5  \n",
       "5            1  0.204348  0.233209  0.518261   0.089565       88    6  \n",
       "6            2  0.196522  0.208839  0.498696   0.168726      148    7  \n",
       "7            2  0.165000  0.162254  0.535833   0.266804       68    8  \n",
       "8            1  0.138333  0.116175  0.434167   0.361950       54    9  \n",
       "9            1  0.150833  0.150888  0.482917   0.223267       41   10  \n",
       "10           2  0.169091  0.191464  0.686364   0.122132       43   11  \n",
       "11           1  0.172727  0.160473  0.599545   0.304627       25   12  \n",
       "12           1  0.165000  0.150883  0.470417   0.301000       38   13  \n",
       "13           1  0.160870  0.188413  0.537826   0.126548       54   14  \n",
       "14           2  0.233333  0.248112  0.498750   0.157963      222   15  \n",
       "15           1  0.231667  0.234217  0.483750   0.188433      251   16  \n",
       "16           2  0.175833  0.176771  0.537500   0.194017      117   17  \n",
       "17           2  0.216667  0.232333  0.861667   0.146775        9   18  \n",
       "18           2  0.292174  0.298422  0.741739   0.208317       78   19  \n",
       "19           2  0.261667  0.255050  0.538333   0.195904       83   20  \n",
       "20           1  0.177500  0.157833  0.457083   0.353242       75   21  \n",
       "21           1  0.059130  0.079070  0.400000   0.171970       93   22  \n",
       "22           1  0.096522  0.098839  0.436522   0.246600      150   23  \n",
       "23           1  0.097391  0.117930  0.491739   0.158330       86   24  \n",
       "24           2  0.223478  0.234526  0.616957   0.129796      186   25  \n",
       "25           3  0.217500  0.203600  0.862500   0.293850       34   26  \n",
       "26           1  0.195000  0.219700  0.687500   0.113837       15   27  \n",
       "27           2  0.203478  0.223317  0.793043   0.123300       38   28  \n",
       "28           1  0.196522  0.212126  0.651739   0.145365      123   29  \n",
       "29           1  0.216522  0.250322  0.722174   0.073983      140   30  \n",
       "30           2  0.180833  0.186250  0.603750   0.187192       42   31  \n",
       "31           2  0.192174  0.234530  0.829565   0.053213       47    1  "
      ]
     },
     "execution_count": 2,
     "metadata": {},
     "output_type": "execute_result"
    }
   ],
   "source": [
    "bike_data['day'] = pd.DatetimeIndex(bike_data['dteday']).day\n",
    "bike_data.head(32)"
   ]
  },
  {
   "cell_type": "markdown",
   "metadata": {
    "id": "TTgoVuX9hCbK"
   },
   "source": [
    "OK, let's start our analysis of the data by examining a few key descriptive statistics. We can use the dataframe's **describe** method to generate these for the numeric features as well as the **rentals** label column."
   ]
  },
  {
   "cell_type": "code",
   "execution_count": 3,
   "metadata": {
    "colab": {
     "base_uri": "https://localhost:8080/",
     "height": 300
    },
    "id": "PN7M0pqnhJ5p",
    "outputId": "c05be83c-3a41-45cc-d321-f92edf2d6e0e"
   },
   "outputs": [
    {
     "data": {
      "text/html": [
       "<div>\n",
       "<style scoped>\n",
       "    .dataframe tbody tr th:only-of-type {\n",
       "        vertical-align: middle;\n",
       "    }\n",
       "\n",
       "    .dataframe tbody tr th {\n",
       "        vertical-align: top;\n",
       "    }\n",
       "\n",
       "    .dataframe thead th {\n",
       "        text-align: right;\n",
       "    }\n",
       "</style>\n",
       "<table border=\"1\" class=\"dataframe\">\n",
       "  <thead>\n",
       "    <tr style=\"text-align: right;\">\n",
       "      <th></th>\n",
       "      <th>temp</th>\n",
       "      <th>atemp</th>\n",
       "      <th>hum</th>\n",
       "      <th>windspeed</th>\n",
       "      <th>rentals</th>\n",
       "    </tr>\n",
       "  </thead>\n",
       "  <tbody>\n",
       "    <tr>\n",
       "      <th>count</th>\n",
       "      <td>731.000000</td>\n",
       "      <td>731.000000</td>\n",
       "      <td>731.000000</td>\n",
       "      <td>731.000000</td>\n",
       "      <td>731.000000</td>\n",
       "    </tr>\n",
       "    <tr>\n",
       "      <th>mean</th>\n",
       "      <td>0.495385</td>\n",
       "      <td>0.474354</td>\n",
       "      <td>0.627894</td>\n",
       "      <td>0.190486</td>\n",
       "      <td>848.176471</td>\n",
       "    </tr>\n",
       "    <tr>\n",
       "      <th>std</th>\n",
       "      <td>0.183051</td>\n",
       "      <td>0.162961</td>\n",
       "      <td>0.142429</td>\n",
       "      <td>0.077498</td>\n",
       "      <td>686.622488</td>\n",
       "    </tr>\n",
       "    <tr>\n",
       "      <th>min</th>\n",
       "      <td>0.059130</td>\n",
       "      <td>0.079070</td>\n",
       "      <td>0.000000</td>\n",
       "      <td>0.022392</td>\n",
       "      <td>2.000000</td>\n",
       "    </tr>\n",
       "    <tr>\n",
       "      <th>25%</th>\n",
       "      <td>0.337083</td>\n",
       "      <td>0.337842</td>\n",
       "      <td>0.520000</td>\n",
       "      <td>0.134950</td>\n",
       "      <td>315.500000</td>\n",
       "    </tr>\n",
       "    <tr>\n",
       "      <th>50%</th>\n",
       "      <td>0.498333</td>\n",
       "      <td>0.486733</td>\n",
       "      <td>0.626667</td>\n",
       "      <td>0.180975</td>\n",
       "      <td>713.000000</td>\n",
       "    </tr>\n",
       "    <tr>\n",
       "      <th>75%</th>\n",
       "      <td>0.655417</td>\n",
       "      <td>0.608602</td>\n",
       "      <td>0.730209</td>\n",
       "      <td>0.233214</td>\n",
       "      <td>1096.000000</td>\n",
       "    </tr>\n",
       "    <tr>\n",
       "      <th>max</th>\n",
       "      <td>0.861667</td>\n",
       "      <td>0.840896</td>\n",
       "      <td>0.972500</td>\n",
       "      <td>0.507463</td>\n",
       "      <td>3410.000000</td>\n",
       "    </tr>\n",
       "  </tbody>\n",
       "</table>\n",
       "</div>"
      ],
      "text/plain": [
       "             temp       atemp         hum   windspeed      rentals\n",
       "count  731.000000  731.000000  731.000000  731.000000   731.000000\n",
       "mean     0.495385    0.474354    0.627894    0.190486   848.176471\n",
       "std      0.183051    0.162961    0.142429    0.077498   686.622488\n",
       "min      0.059130    0.079070    0.000000    0.022392     2.000000\n",
       "25%      0.337083    0.337842    0.520000    0.134950   315.500000\n",
       "50%      0.498333    0.486733    0.626667    0.180975   713.000000\n",
       "75%      0.655417    0.608602    0.730209    0.233214  1096.000000\n",
       "max      0.861667    0.840896    0.972500    0.507463  3410.000000"
      ]
     },
     "execution_count": 3,
     "metadata": {},
     "output_type": "execute_result"
    }
   ],
   "source": [
    "numeric_features = ['temp', 'atemp', 'hum', 'windspeed']\n",
    "bike_data[numeric_features + ['rentals']].describe()"
   ]
  },
  {
   "cell_type": "markdown",
   "metadata": {
    "id": "jAfEaE91gSVH"
   },
   "source": [
    "The statistics reveal some information about the distribution of the data in each of the numeric fields, including the number of observations (there are 731 records), the mean, standard deviation, minimum and maximum values, and the quartile values (the threshold values for 25%, 50% - which is also the median, and 75% of the data). From this, we can see that the mean number of daily rentals is around 848; but there's a comparatively large standard deviation, indicating a lot of variance in the number of rentals per day.\n",
    "\n",
    "We might get a clearer idea of the distribution of rentals values by visualizing the data. Common plot types for visualizing numeric data distributions are histograms and box plots, so let's use Python's **matplotlib** library to create one of each of these for the **rentals** column."
   ]
  },
  {
   "cell_type": "code",
   "execution_count": 4,
   "metadata": {
    "colab": {
     "base_uri": "https://localhost:8080/",
     "height": 801
    },
    "id": "g8s0uW0UhW4F",
    "outputId": "83ef0cbb-c393-4dc4-b608-cc16a4a5707f"
   },
   "outputs": [
    {
     "name": "stderr",
     "output_type": "stream",
     "text": [
      "C:\\Users\\IMRANQ~1\\AppData\\Local\\Temp/ipykernel_8704/2229708211.py:30: UserWarning: Matplotlib is currently using module://matplotlib_inline.backend_inline, which is a non-GUI backend, so cannot show the figure.\n",
      "  fig.show()\n"
     ]
    },
    {
     "data": {
      "image/png": "[encoded data removed]",
      "text/plain": [
       "<Figure size 648x864 with 2 Axes>"
      ]
     },
     "metadata": {
      "needs_background": "light"
     },
     "output_type": "display_data"
    }
   ],
   "source": [
    "import pandas as pd\n",
    "import matplotlib.pyplot as plt\n",
    "\n",
    "# This ensures plots are displayed inline in the Jupyter notebook\n",
    "%matplotlib inline\n",
    "\n",
    "# Get the label column\n",
    "label = bike_data['rentals']\n",
    "\n",
    "\n",
    "# Create a figure for 2 subplots (2 rows, 1 column)\n",
    "fig, ax = plt.subplots(2, 1, figsize = (9,12))\n",
    "\n",
    "# Plot the histogram   \n",
    "ax[0].hist(label, bins=100)\n",
    "ax[0].set_ylabel('Frequency')\n",
    "\n",
    "# Add lines for the mean, median, and mode\n",
    "ax[0].axvline(label.mean(), color='magenta', linestyle='dashed', linewidth=2)\n",
    "ax[0].axvline(label.median(), color='cyan', linestyle='dashed', linewidth=2)\n",
    "\n",
    "# Plot the boxplot   \n",
    "ax[1].boxplot(label, vert=False)\n",
    "ax[1].set_xlabel('Rentals')\n",
    "\n",
    "# Add a title to the Figure\n",
    "fig.suptitle('Rental Distribution')\n",
    "\n",
    "# Show the figure\n",
    "fig.show()\n"
   ]
  },
  {
   "cell_type": "markdown",
   "metadata": {
    "id": "DAg6IsmwhYBy"
   },
   "source": [
    "The plots show that the number of daily rentals ranges from 0 to just over 3,400. However, the mean (and median) number of daily rentals is closer to the low end of that range, with most of the data between 0 and around 2,200 rentals. The few values above this are shown in the box plot as small circles, indicating that they are outliers - in other words, unusually high or low values beyond the typical range of most of the data.\n",
    "\n",
    "We can do the same kind of visual exploration of the numeric features. Let's create a histogram for each of these."
   ]
  },
  {
   "cell_type": "code",
   "execution_count": 5,
   "metadata": {
    "colab": {
     "base_uri": "https://localhost:8080/",
     "height": 1000
    },
    "id": "WA2McmpThbWm",
    "outputId": "8459e868-ac42-4435-c434-a11c25e3fa95"
   },
   "outputs": [
    {
     "data": {
      "image/png": "[encoded data removed]",
      "text/plain": [
       "<Figure size 648x432 with 1 Axes>"
      ]
     },
     "metadata": {
      "needs_background": "light"
     },
     "output_type": "display_data"
    },
    {
     "data": {
      "image/png": "[encoded data removed]",
      "text/plain": [
       "<Figure size 648x432 with 1 Axes>"
      ]
     },
     "metadata": {
      "needs_background": "light"
     },
     "output_type": "display_data"
    },
    {
     "data": {
      "image/png": "[encoded data removed]",
      "text/plain": [
       "<Figure size 648x432 with 1 Axes>"
      ]
     },
     "metadata": {
      "needs_background": "light"
     },
     "output_type": "display_data"
    },
    {
     "data": {
      "image/png": "[encoded data removed]",
      "text/plain": [
       "<Figure size 648x432 with 1 Axes>"
      ]
     },
     "metadata": {
      "needs_background": "light"
     },
     "output_type": "display_data"
    }
   ],
   "source": [
    "# Plot a histogram for each numeric feature\n",
    "for col in numeric_features:\n",
    "    fig = plt.figure(figsize=(9, 6))\n",
    "    ax = fig.gca()\n",
    "    feature = bike_data[col]\n",
    "    feature.hist(bins=100, ax = ax)\n",
    "    ax.axvline(feature.mean(), color='magenta', linestyle='dashed', linewidth=2)\n",
    "    ax.axvline(feature.median(), color='cyan', linestyle='dashed', linewidth=2)\n",
    "    ax.set_title(col)\n",
    "plt.show()"
   ]
  },
  {
   "cell_type": "markdown",
   "metadata": {
    "id": "q_fCyIjMhdod"
   },
   "source": [
    "The numeric features seem to be more normally distributed, with the mean and median nearer the middle of the range of values, coinciding with where the most commonly occurring values are.\n",
    "\n",
    "<mark>Note: The distributions are not truly normal in the statistical sense, which would result in a smooth, symmetric \"bell-curve\" histogram with the mean and mode (the most common value) in the center; but they do generally indicate that most of the observations have a value somewhere near the middle.</mark>\n",
    "\n",
    "We've explored the distribution of the numeric values in the dataset, but what about the categorical features? These aren't continuous numbers on a scale, so we can't use histograms; but we can plot a bar chart showing the count of each discrete value for each category."
   ]
  },
  {
   "cell_type": "code",
   "execution_count": 6,
   "metadata": {
    "colab": {
     "base_uri": "https://localhost:8080/",
     "height": 1000
    },
    "id": "1ol3JFquhkRC",
    "outputId": "49b83367-2597-4964-f850-ee7ecca83957"
   },
   "outputs": [
    {
     "data": {
      "image/png": "[encoded data removed]",
      "text/plain": [
       "<Figure size 648x432 with 1 Axes>"
      ]
     },
     "metadata": {
      "needs_background": "light"
     },
     "output_type": "display_data"
    },
    {
     "data": {
      "image/png": "[encoded data removed]",
      "text/plain": [
       "<Figure size 648x432 with 1 Axes>"
      ]
     },
     "metadata": {
      "needs_background": "light"
     },
     "output_type": "display_data"
    },
    {
     "data": {
      "image/png": "[encoded data removed]",
      "text/plain": [
       "<Figure size 648x432 with 1 Axes>"
      ]
     },
     "metadata": {
      "needs_background": "light"
     },
     "output_type": "display_data"
    },
    {
     "data": {
      "image/png": "[encoded data removed]",
      "text/plain": [
       "<Figure size 648x432 with 1 Axes>"
      ]
     },
     "metadata": {
      "needs_background": "light"
     },
     "output_type": "display_data"
    },
    {
     "data": {
      "image/png": "[encoded data removed]",
      "text/plain": [
       "<Figure size 648x432 with 1 Axes>"
      ]
     },
     "metadata": {
      "needs_background": "light"
     },
     "output_type": "display_data"
    },
    {
     "data": {
      "image/png": "[encoded data removed]",
      "text/plain": [
       "<Figure size 648x432 with 1 Axes>"
      ]
     },
     "metadata": {
      "needs_background": "light"
     },
     "output_type": "display_data"
    },
    {
     "data": {
      "image/png": "[encoded data removed]",
      "text/plain": [
       "<Figure size 648x432 with 1 Axes>"
      ]
     },
     "metadata": {
      "needs_background": "light"
     },
     "output_type": "display_data"
    }
   ],
   "source": [
    "import numpy as np\n",
    "\n",
    "# plot a bar plot for each categorical feature count\n",
    "categorical_features = ['season','mnth','holiday','weekday','workingday','weathersit', 'day']\n",
    "\n",
    "for col in categorical_features:\n",
    "    counts = bike_data[col].value_counts().sort_index()\n",
    "    fig = plt.figure(figsize=(9, 6))\n",
    "    ax = fig.gca()\n",
    "    counts.plot.bar(ax = ax, color='steelblue')\n",
    "    ax.set_title(col + ' counts')\n",
    "    ax.set_xlabel(col) \n",
    "    ax.set_ylabel(\"Frequency\")\n",
    "plt.show()\n"
   ]
  },
  {
   "cell_type": "markdown",
   "metadata": {
    "id": "Vt6k_XYqhpwr"
   },
   "source": [
    "Many of the categorical features show a more or less uniform distribution (meaning there's roughly the same number of rows for each category). Exceptions to this include:\n",
    "\n",
    "- **holiday:** There are many fewer days that are holidays than days that aren't.\n",
    "- **workingday:** There are more working days than non-working days.\n",
    "- **weathersit:** Most days are category 1 (clear), with category 2 (mist and cloud) the next most common. There are comparatively few category 3 (light rain or snow) days, and no category 4 (heavy rain, hail, or fog) days at all.\n",
    "\n",
    "Now that we know something about the distribution of the data in our columns, we can start to look for relationships between the features and the **rentals** label we want to be able to predict.\n",
    "\n",
    "For the numeric features, we can create scatter plots that show the intersection of feature and label values. We can also calculate the correlation statistic to quantify the apparent relationship.."
   ]
  },
  {
   "cell_type": "code",
   "execution_count": 7,
   "metadata": {
    "colab": {
     "base_uri": "https://localhost:8080/",
     "height": 1000
    },
    "id": "hieVR-5hh1nu",
    "outputId": "46b8e420-d13a-459b-fe7f-bf1cb431ca53"
   },
   "outputs": [
    {
     "data": {
      "image/png": "[encoded data removed]",
      "text/plain": [
       "<Figure size 648x432 with 1 Axes>"
      ]
     },
     "metadata": {
      "needs_background": "light"
     },
     "output_type": "display_data"
    },
    {
     "data": {
      "image/png": "[encoded data removed]",
      "text/plain": [
       "<Figure size 648x432 with 1 Axes>"
      ]
     },
     "metadata": {
      "needs_background": "light"
     },
     "output_type": "display_data"
    },
    {
     "data": {
      "image/png": "[encoded data removed]",
      "text/plain": [
       "<Figure size 648x432 with 1 Axes>"
      ]
     },
     "metadata": {
      "needs_background": "light"
     },
     "output_type": "display_data"
    },
    {
     "data": {
      "image/png": "[encoded data removed]",
      "text/plain": [
       "<Figure size 648x432 with 1 Axes>"
      ]
     },
     "metadata": {
      "needs_background": "light"
     },
     "output_type": "display_data"
    }
   ],
   "source": [
    "for col in numeric_features:\n",
    "    fig = plt.figure(figsize=(9, 6))\n",
    "    ax = fig.gca()\n",
    "    feature = bike_data[col]\n",
    "    label = bike_data['rentals']\n",
    "    correlation = feature.corr(label)\n",
    "    plt.scatter(x=feature, y=label)\n",
    "    plt.xlabel(col)\n",
    "    plt.ylabel('Bike Rentals')\n",
    "    ax.set_title('rentals vs ' + col + '- correlation: ' + str(correlation))\n",
    "plt.show()\n"
   ]
  },
  {
   "cell_type": "markdown",
   "metadata": {
    "id": "eZSbtgPuh2W3"
   },
   "source": [
    "The results aren't conclusive, but if you look closely at the scatter plots for **temp** and **atemp**, you can see a vague diagonal trend showing that higher rental counts tend to coincide with higher temperatures; and a correlation value of just over 0.5 for both of these features supports this observation. Conversely, the plots for **hum** and **windspeed** show a slightly negative correlation, indicating that there are fewer rentals on days with high humidity or windspeed.\n",
    "\n",
    "Now let's compare the categorical features to the label. We'll do this by creating box plots that show the distribution of rental counts for each category."
   ]
  },
  {
   "cell_type": "code",
   "execution_count": 8,
   "metadata": {
    "colab": {
     "base_uri": "https://localhost:8080/",
     "height": 1000
    },
    "id": "IhQ8yMRhh_6M",
    "outputId": "c9609233-64c9-42d6-eb5b-591dc6dcdf99"
   },
   "outputs": [
    {
     "data": {
      "image/png": "[encoded data removed]",
      "text/plain": [
       "<Figure size 648x432 with 1 Axes>"
      ]
     },
     "metadata": {
      "needs_background": "light"
     },
     "output_type": "display_data"
    },
    {
     "data": {
      "image/png": "[encoded data removed]",
      "text/plain": [
       "<Figure size 648x432 with 1 Axes>"
      ]
     },
     "metadata": {
      "needs_background": "light"
     },
     "output_type": "display_data"
    },
    {
     "data": {
      "image/png": "[encoded data removed]",
      "text/plain": [
       "<Figure size 648x432 with 1 Axes>"
      ]
     },
     "metadata": {
      "needs_background": "light"
     },
     "output_type": "display_data"
    },
    {
     "data": {
      "image/png": "[encoded data removed]",
      "text/plain": [
       "<Figure size 648x432 with 1 Axes>"
      ]
     },
     "metadata": {
      "needs_background": "light"
     },
     "output_type": "display_data"
    },
    {
     "data": {
      "image/png": "[encoded data removed]",
      "text/plain": [
       "<Figure size 648x432 with 1 Axes>"
      ]
     },
     "metadata": {
      "needs_background": "light"
     },
     "output_type": "display_data"
    },
    {
     "data": {
      "image/png": "[encoded data removed]",
      "text/plain": [
       "<Figure size 648x432 with 1 Axes>"
      ]
     },
     "metadata": {
      "needs_background": "light"
     },
     "output_type": "display_data"
    },
    {
     "data": {
      "image/png": "[encoded data removed]",
      "text/plain": [
       "<Figure size 648x432 with 1 Axes>"
      ]
     },
     "metadata": {
      "needs_background": "light"
     },
     "output_type": "display_data"
    }
   ],
   "source": [
    "# plot a boxplot for the label by each categorical feature\n",
    "for col in categorical_features:\n",
    "    fig = plt.figure(figsize=(9, 6))\n",
    "    ax = fig.gca()\n",
    "    bike_data.boxplot(column = 'rentals', by = col, ax = ax)\n",
    "    ax.set_title('Label by ' + col)\n",
    "    ax.set_ylabel(\"Bike Rentals\")\n",
    "plt.show()"
   ]
  },
  {
   "cell_type": "markdown",
   "metadata": {
    "id": "hAF2Teb1iAi0"
   },
   "source": [
    "The plots show some variance in the relationship between some category values and rentals. For example, there's a clear difference in the distribution of rentals on weekends (**weekday** 0 or 6) and those during the working week (**weekday** 1 to 5). Similarly, there are notable differences for **holiday** and **workingday** categories. There's a noticeable trend that shows different rental distributions in summer and fall months compared to spring and winter months. The **weathersit** category also seems to make a difference in rental distribution. The **day** feature we created for the day of the month shows little variation, indicating that it's probably not predictive of the number of rentals."
   ]
  },
  {
   "cell_type": "markdown",
   "metadata": {
    "id": "1WC53YRPibAw"
   },
   "source": [
    "<h2> Train a Regression Model</h2>\n",
    "\n",
    "Now that we've explored the data, it's time to use it to train a regression model that uses the features we've identified as potentially predictive to predict the **rentals** label. The first thing we need to do is to separate the features we want to use to train the model from the label we want it to predict."
   ]
  },
  {
   "cell_type": "code",
   "execution_count": 9,
   "metadata": {
    "colab": {
     "base_uri": "https://localhost:8080/"
    },
    "id": "NWPVC0odihxg",
    "outputId": "cc223fb9-5f27-4ba9-ed28-e546a8a43b85"
   },
   "outputs": [
    {
     "name": "stdout",
     "output_type": "stream",
     "text": [
      "Features:\n",
      "[[1.        1.        0.        6.        0.        2.        0.344167\n",
      "  0.363625  0.805833  0.160446 ]\n",
      " [1.        1.        0.        0.        0.        2.        0.363478\n",
      "  0.353739  0.696087  0.248539 ]\n",
      " [1.        1.        0.        1.        1.        1.        0.196364\n",
      "  0.189405  0.437273  0.248309 ]\n",
      " [1.        1.        0.        2.        1.        1.        0.2\n",
      "  0.212122  0.590435  0.160296 ]\n",
      " [1.        1.        0.        3.        1.        1.        0.226957\n",
      "  0.22927   0.436957  0.1869   ]\n",
      " [1.        1.        0.        4.        1.        1.        0.204348\n",
      "  0.233209  0.518261  0.0895652]\n",
      " [1.        1.        0.        5.        1.        2.        0.196522\n",
      "  0.208839  0.498696  0.168726 ]\n",
      " [1.        1.        0.        6.        0.        2.        0.165\n",
      "  0.162254  0.535833  0.266804 ]\n",
      " [1.        1.        0.        0.        0.        1.        0.138333\n",
      "  0.116175  0.434167  0.36195  ]\n",
      " [1.        1.        0.        1.        1.        1.        0.150833\n",
      "  0.150888  0.482917  0.223267 ]]\n",
      "\n",
      "Labels:\n",
      "[331 131 120 108  82  88 148  68  54  41]\n"
     ]
    }
   ],
   "source": [
    "# Separate features and labels\n",
    "X, y = bike_data[['season','mnth', 'holiday','weekday','workingday','weathersit','temp', 'atemp', 'hum', 'windspeed']].values, bike_data['rentals'].values\n",
    "print('Features:',X[:10], '\\nLabels:', y[:10], sep='\\n')"
   ]
  },
  {
   "cell_type": "markdown",
   "metadata": {
    "id": "UwPPDTe2iiZx"
   },
   "source": [
    "After separating the dataset, we now have numpy arrays named **X** containing the features, and **y** containing the labels.\n",
    "\n",
    "We could train a model using all of the data; but it's common practice in supervised learning to split the data into two subsets; a (typically larger) set with which to train the model, and a smaller \"hold-back\" set with which to validate the trained model. This enables us to evaluate how well the model performs when used with the validation dataset by comparing the predicted labels to the known labels. It's important to split the data randomly (rather than say, taking the first 70% of the data for training and keeping the rest for validation). This helps ensure that the two subsets of data are statistically comparable (so we validate the model with data that has a similar statistical distribution to the data on which it was trained).\n",
    "\n",
    "To randomly split the data, we'll use the **train_test_split** function in the **scikit-learn** library. This library is one of the most widely used machine learning packages for Python."
   ]
  },
  {
   "cell_type": "code",
   "execution_count": 10,
   "metadata": {
    "colab": {
     "base_uri": "https://localhost:8080/"
    },
    "id": "0X_snYWlis74",
    "outputId": "7158a368-7f3f-4c06-d1c9-85a2cd29fe20"
   },
   "outputs": [
    {
     "name": "stdout",
     "output_type": "stream",
     "text": [
      "Training Set: 511 rows\n",
      "Test Set: 220 rows\n"
     ]
    }
   ],
   "source": [
    "from sklearn.model_selection import train_test_split\n",
    "\n",
    "# Split data 70%-30% into training set and test set\n",
    "X_train, X_test, y_train, y_test = train_test_split(X, y, test_size=0.30, random_state=0)\n",
    "\n",
    "print ('Training Set: %d rows\\nTest Set: %d rows' % (X_train.shape[0], X_test.shape[0]))"
   ]
  },
  {
   "cell_type": "markdown",
   "metadata": {
    "id": "nQtcNeVHitpq"
   },
   "source": [
    "Now we have the following four datasets:\n",
    "\n",
    "- **X_train:** The feature values we'll use to train the model\n",
    "- **y_train:** The corresponding labels we'll use to train the model\n",
    "- **X_test:** The feature values we'll use to validate the model\n",
    "- **y_test:** The corresponding labels we'll use to validate the model\n",
    "\n",
    "Now we're ready to train a model by fitting a suitable regression algorithm to the training data. We'll use a linear regression algorithm, a common starting point for regression that works by trying to find a linear relationship between the X values and the y label. The resulting model is a function that conceptually defines a line where every possible X and y value combination intersect.\n",
    "\n",
    "In **Scikit-Learn**, training algorithms are encapsulated in estimators, and in this case we'll use the **LinearRegression** estimator to train a linear regression model."
   ]
  },
  {
   "cell_type": "code",
   "execution_count": 11,
   "metadata": {
    "colab": {
     "base_uri": "https://localhost:8080/"
    },
    "id": "zofR3PSJi-BG",
    "outputId": "ea0a068b-b3ac-4870-e852-7f76ee4ac3c9"
   },
   "outputs": [
    {
     "name": "stdout",
     "output_type": "stream",
     "text": [
      "LinearRegression()\n"
     ]
    }
   ],
   "source": [
    "# Train the model\n",
    "from sklearn.linear_model import LinearRegression\n",
    "\n",
    "# Fit a linear regression model on the training set\n",
    "model = LinearRegression().fit(X_train, y_train)\n",
    "print (model)"
   ]
  },
  {
   "cell_type": "markdown",
   "metadata": {
    "id": "b5-qymhGi-cr"
   },
   "source": [
    "<h2> Evaluate the Trained Model </h2>\n",
    "\n",
    "Now that we've trained the model, we can use it to predict rental counts for the features we held back in our validation dataset. Then we can compare these predictions to the actual label values to evaluate how well (or not!) the model is working."
   ]
  },
  {
   "cell_type": "code",
   "execution_count": 12,
   "metadata": {
    "colab": {
     "base_uri": "https://localhost:8080/"
    },
    "id": "zlNYewv3jD1m",
    "outputId": "ca41721e-c047-4e04-9630-d3d06f1235ea"
   },
   "outputs": [
    {
     "name": "stdout",
     "output_type": "stream",
     "text": [
      "Predicted labels:  [1896. 1184. 1007.  -28.  314.  385.  475.  590. 1476.  -22.]\n",
      "Actual labels   :  [2418  754  222   47  244  145  240  555 3252   38]\n"
     ]
    }
   ],
   "source": [
    "import numpy as np\n",
    "\n",
    "predictions = model.predict(X_test)\n",
    "np.set_printoptions(suppress=True)\n",
    "print('Predicted labels: ', np.round(predictions)[:10])\n",
    "print('Actual labels   : ' ,y_test[:10])"
   ]
  },
  {
   "cell_type": "markdown",
   "metadata": {
    "id": "CXdFLj6MjERs"
   },
   "source": [
    "Comparing each prediction with its corresponding \"ground truth\" actual value isn't a very efficient way to determine how well the model is predicting. Let's see if we can get a better indication by visualizing a scatter plot that compares the predictions to the actual labels. We'll also overlay a trend line to get a general sense for how well the predicted labels align with the true labels."
   ]
  },
  {
   "cell_type": "code",
   "execution_count": 13,
   "metadata": {
    "colab": {
     "base_uri": "https://localhost:8080/",
     "height": 295
    },
    "id": "1ppBcrnHjHIA",
    "outputId": "7a4aeb9c-e2f3-4cce-f516-f42aaeefa03a"
   },
   "outputs": [
    {
     "data": {
      "image/png": "[encoded data removed]",
      "text/plain": [
       "<Figure size 432x288 with 1 Axes>"
      ]
     },
     "metadata": {
      "needs_background": "light"
     },
     "output_type": "display_data"
    }
   ],
   "source": [
    "import matplotlib.pyplot as plt\n",
    "\n",
    "%matplotlib inline\n",
    "\n",
    "plt.scatter(y_test, predictions)\n",
    "plt.xlabel('Actual Labels')\n",
    "plt.ylabel('Predicted Labels')\n",
    "plt.title('Daily Bike Share Predictions')\n",
    "# overlay the regression line\n",
    "z = np.polyfit(y_test, predictions, 1)\n",
    "p = np.poly1d(z)\n",
    "plt.plot(y_test,p(y_test), color='magenta')\n",
    "plt.show()"
   ]
  },
  {
   "cell_type": "markdown",
   "metadata": {
    "id": "nApcapUwjKoC"
   },
   "source": [
    "There's a definite diagonal trend, and the intersections of the predicted and actual values are generally following the path of the trend line; but there's a fair amount of difference between the ideal function represented by the line and the results. This variance represents the residuals of the model - in other words, the difference between the label predicted when the model applies the coefficients it learned during training to the validation data, and the actual value of the validation label. These residuals when evaluated from the validation data indicate the expected level of error when the model is used with new data for which the label is unknown.\n",
    "\n",
    "You can quantify the residuals by calculating a number of commonly used evaluation metrics. We'll focus on the following three:\n",
    "\n",
    "- **Mean Square Error (MSE):** The mean of the squared differences between predicted and actual values. This yields a relative metric in which the smaller the value, the better the fit of the model\n",
    "- **Root Mean Square Error (RMSE):** The square root of the MSE. This yields an absolute metric in the same unit as the label (in this case, numbers of rentals). The smaller the value, the better the model (in a simplistic sense, it represents the average number of rentals by which the predictions are wrong!)\n",
    "- **Coefficient of Determination (usually known as R-squared or R2):** A relative metric in which the higher the value, the better the fit of the model. In essence, this metric represents how much of the variance between predicted and actual label values the model is able to explain.\n",
    "\n",
    "<mark>Note: You can find out more about these and other metrics for evaluating regression models in the [Scikit-Learn documentation](https://scikit-learn.org/stable/modules/model_evaluation.html#regression-metrics)</mark>\n",
    "\n",
    "Let's use Scikit-Learn to calculate these metrics for our model, based on the predictions it generated for the validation data."
   ]
  },
  {
   "cell_type": "code",
   "execution_count": 14,
   "metadata": {
    "colab": {
     "base_uri": "https://localhost:8080/"
    },
    "id": "hMZuMIG3jgJj",
    "outputId": "6515ae33-189b-4415-cc37-663d18d57a02"
   },
   "outputs": [
    {
     "name": "stdout",
     "output_type": "stream",
     "text": [
      "MSE: 201972.55947035606\n",
      "RMSE: 449.41357285951665\n",
      "R2: 0.6040454736919187\n"
     ]
    }
   ],
   "source": [
    "from sklearn.metrics import mean_squared_error, r2_score\n",
    "\n",
    "mse = mean_squared_error(y_test, predictions)\n",
    "print(\"MSE:\", mse)\n",
    "\n",
    "rmse = np.sqrt(mse)\n",
    "print(\"RMSE:\", rmse)\n",
    "\n",
    "r2 = r2_score(y_test, predictions)\n",
    "print(\"R2:\", r2)"
   ]
  },
  {
   "cell_type": "markdown",
   "metadata": {
    "id": "gd9SEiZMjgze"
   },
   "source": [
    "So now we've quantified the ability of our model to predict the number of rentals. It definitely has some predictive power, but we can probably do better!\n",
    "\n",
    "<hr>\n",
    "</hr>"
   ]
  },
  {
   "cell_type": "markdown",
   "metadata": {
    "id": "N7BOY0fljmue"
   },
   "source": [
    "<center><h1> Discover new regression models </h1></center>\n",
    "\n",
    "\n",
    "In Unit 2, we looked at fitting a straight line to data points. However, regression can fit many kinds of relationships, including those with multiple factors, and those where the importance of one factor depends on another."
   ]
  },
  {
   "cell_type": "markdown",
   "metadata": {
    "id": "Qfv9G9aijvlE"
   },
   "source": [
    "<h2> Experimenting with models </h2>\n",
    "\n",
    "Regression models are often chosen because they work with small data samples, are robust, easy to interpret, and a variety exist.\n",
    "\n",
    "**Linear regression** is the simplest form of regression, with no limit to the number of features used. Linear regression comes in many forms - often named by the number of features used and the shape of the curve that fits.\n",
    "\n",
    "**Decision trees** take a step-by-step approach to predicting a variable. If we think of our bicycle example, the decision tree may be first split examples between ones that are during Spring/Summer and Autumn/Winter, make a prediction based on the day of the week. Spring/Summer-Monday may have a bike rental rate of 100 per day, while Autumn/Winter-Monday may have a rental rate of 20 per day.\n",
    "\n",
    "**Ensemble algorithms** construct not just one decision tree, but a large number of trees - allowing better predictions on more complex data. Ensemble algorithms, such as Random Forest, are widely used in machine learning and science due to their strong prediction abilities.\n",
    "\n",
    "Data scientists often experiment with using different models. In the following exercise, we'll experiment with different types of models to compare how they perform on the same data.\n",
    "\n",
    "<hr>\n",
    "</hr>\n"
   ]
  },
  {
   "cell_type": "markdown",
   "metadata": {
    "id": "7p4UpmBpj8ia"
   },
   "source": [
    "<center><h1>Exercise - Experiment with more powerful regression models</h1></center>"
   ]
  },
  {
   "cell_type": "markdown",
   "metadata": {
    "id": "vb8c23wWkCqt"
   },
   "source": [
    "<h2>Regression - Experimenting with additional models </h2>\n",
    "\n",
    "\n",
    "In the previous notebook, we used simple regression models to look at the relationship between features of a bike rentals dataset. In this notebook, we'll experiment with more complex models to improve our regression performance.\n",
    "\n",
    "Let's start by loading the bicycle sharing data as a **Pandas** DataFrame and viewing the first few rows. We'll also split our data into training and test datasets."
   ]
  },
  {
   "cell_type": "code",
   "execution_count": 15,
   "metadata": {
    "colab": {
     "base_uri": "https://localhost:8080/"
    },
    "id": "x3kfJQ7GkKaS",
    "outputId": "5bf3b40a-78f1-41a2-dee7-4c753ea74829"
   },
   "outputs": [
    {
     "name": "stdout",
     "output_type": "stream",
     "text": [
      "   instant    dteday  season  yr  mnth  holiday  weekday  workingday  \\\n",
      "0        1  1/1/2011       1   0     1        0        6           0   \n",
      "1        2  1/2/2011       1   0     1        0        0           0   \n",
      "2        3  1/3/2011       1   0     1        0        1           1   \n",
      "3        4  1/4/2011       1   0     1        0        2           1   \n",
      "4        5  1/5/2011       1   0     1        0        3           1   \n",
      "\n",
      "   weathersit      temp     atemp       hum  windspeed  rentals  day  \n",
      "0           2  0.344167  0.363625  0.805833   0.160446      331    1  \n",
      "1           2  0.363478  0.353739  0.696087   0.248539      131    2  \n",
      "2           1  0.196364  0.189405  0.437273   0.248309      120    3  \n",
      "3           1  0.200000  0.212122  0.590435   0.160296      108    4  \n",
      "4           1  0.226957  0.229270  0.436957   0.186900       82    5  \n",
      "Training Set: 511 rows\n",
      "Test Set: 220 rows\n"
     ]
    }
   ],
   "source": [
    "# Import modules we'll need for this notebook\n",
    "import pandas as pd\n",
    "from sklearn.linear_model import LinearRegression\n",
    "from sklearn.metrics import mean_squared_error, r2_score\n",
    "from sklearn.model_selection import train_test_split\n",
    "import numpy as np\n",
    "import matplotlib.pyplot as plt\n",
    "%matplotlib inline\n",
    "\n",
    "# load the training dataset\n",
    "path = \"https://raw.githubusercontent.com/MicrosoftDocs/mslearn-introduction-to-machine-learning/main/Data/ml-basics/daily-bike-share.csv\"\n",
    "bike_data = pd.read_csv(path)\n",
    "bike_data['day'] = pd.DatetimeIndex(bike_data['dteday']).day\n",
    "numeric_features = ['temp', 'atemp', 'hum', 'windspeed']\n",
    "categorical_features = ['season','mnth','holiday','weekday','workingday','weathersit', 'day']\n",
    "bike_data[numeric_features + ['rentals']].describe()\n",
    "print(bike_data.head())\n",
    "\n",
    "\n",
    "# Separate features and labels\n",
    "# After separating the dataset, we now have numpy arrays named **X** containing the features, and **y** containing the labels.\n",
    "X, y = bike_data[['season','mnth', 'holiday','weekday','workingday','weathersit','temp', 'atemp', 'hum', 'windspeed']].values, bike_data['rentals'].values\n",
    "\n",
    "# Split data 70%-30% into training set and test set\n",
    "X_train, X_test, y_train, y_test = train_test_split(X, y, test_size=0.30, random_state=0)\n",
    "\n",
    "print ('Training Set: %d rows\\nTest Set: %d rows' % (X_train.shape[0], X_test.shape[0]))\n"
   ]
  },
  {
   "cell_type": "markdown",
   "metadata": {
    "id": "cPxrleqokPRq"
   },
   "source": [
    "Now we have the following four datasets:\n",
    "\n",
    "- **X_train:** The feature values we'll use to train the model\n",
    "- **y_train:** The corresponding labels we'll use to train the model\n",
    "- **X_test:** The feature values we'll use to validate the model\n",
    "- **y_test:** The corresponding labels we'll use to validate the model\n",
    "\n",
    "Now we're ready to train a model by fitting a suitable regression algorithm to the training data.\n",
    "\n"
   ]
  },
  {
   "cell_type": "markdown",
   "metadata": {
    "id": "OAbpN1Fike0I"
   },
   "source": [
    "<h2>Experiment with Algorithms</h2>\n",
    "\n",
    "The linear regression algorithm we used last time to train the model has some predictive capability, but there are many kinds of regression algorithm we could try, including:\n",
    "\n",
    "- **Linear algorithms:** Not just the Linear Regression algorithm we used above (which is technically an Ordinary Least Squares algorithm), but other variants such as Lasso and Ridge.\n",
    "- **Tree-based algorithms:** Algorithms that build a decision tree to reach a prediction.\n",
    "- **Ensemble algorithms:** Algorithms that combine the outputs of multiple base algorithms to improve generalizability.\n",
    "\n",
    "Note: For a full list of Scikit-Learn estimators that encapsulate algorithms for supervised machine learning, see the [Scikit-Learn documentation](https://scikit-learn.org/stable/supervised_learning.html). There are many algorithms to choose from, but for most real-world scenarios, the [Scikit-Learn estimator cheat sheet](https://scikit-learn.org/stable/tutorial/machine_learning_map/index.html) can help you find a suitable starting point."
   ]
  },
  {
   "cell_type": "markdown",
   "metadata": {
    "id": "6414niK5k4hQ"
   },
   "source": [
    "<h2> Try Another Linear Algorithm </h2>\n",
    "\n",
    "\n",
    "Let's try training our regression model by using a **Lasso** algorithm. We can do this by just changing the estimator in the training code."
   ]
  },
  {
   "cell_type": "code",
   "execution_count": 16,
   "metadata": {
    "colab": {
     "base_uri": "https://localhost:8080/",
     "height": 382
    },
    "id": "K2wgmTEnk_zi",
    "outputId": "ce18d7fa-8fd2-4e89-ea5d-98c6d15aa338"
   },
   "outputs": [
    {
     "name": "stdout",
     "output_type": "stream",
     "text": [
      "Lasso() \n",
      "\n",
      "MSE: 201155.70593338404\n",
      "RMSE: 448.5038527519959\n",
      "R2: 0.6056468637824488\n"
     ]
    },
    {
     "data": {
      "image/png": "[encoded data removed]",
      "text/plain": [
       "<Figure size 432x288 with 1 Axes>"
      ]
     },
     "metadata": {
      "needs_background": "light"
     },
     "output_type": "display_data"
    }
   ],
   "source": [
    "from sklearn.linear_model import Lasso\n",
    "\n",
    "# Fit a lasso model on the training set\n",
    "model = Lasso().fit(X_train, y_train)\n",
    "print (model, \"\\n\")\n",
    "\n",
    "# Evaluate the model using the test data\n",
    "predictions = model.predict(X_test)\n",
    "mse = mean_squared_error(y_test, predictions)\n",
    "print(\"MSE:\", mse)\n",
    "rmse = np.sqrt(mse)\n",
    "print(\"RMSE:\", rmse)\n",
    "r2 = r2_score(y_test, predictions)\n",
    "print(\"R2:\", r2)\n",
    "\n",
    "# Plot predicted vs actual\n",
    "plt.scatter(y_test, predictions)\n",
    "plt.xlabel('Actual Labels')\n",
    "plt.ylabel('Predicted Labels')\n",
    "plt.title('Daily Bike Share Predictions')\n",
    "# overlay the regression line\n",
    "z = np.polyfit(y_test, predictions, 1)\n",
    "p = np.poly1d(z)\n",
    "plt.plot(y_test,p(y_test), color='magenta')\n",
    "plt.show()"
   ]
  },
  {
   "cell_type": "markdown",
   "metadata": {
    "id": "Fy3FSf_8lD8r"
   },
   "source": [
    "<h2> Try a Decision Tree Algorithm </h2>\n",
    "\n",
    "As an alternative to a linear model, there's a category of algorithms for machine learning that uses a tree-based approach in which the features in the dataset are examined in a series of evaluations, each of which results in a branch in a decision tree based on the feature value. At the end of each series of branches are leaf-nodes with the predicted label value based on the feature values.\n",
    "\n",
    "It's easiest to see how this works with an example. Let's train a Decision Tree regression model using the bike rental data. After training the model, the code below will print the model definition and a text representation of the tree it uses to predict label values."
   ]
  },
  {
   "cell_type": "code",
   "execution_count": 17,
   "metadata": {
    "colab": {
     "base_uri": "https://localhost:8080/"
    },
    "id": "P0I7FKlUlIFF",
    "outputId": "15e66081-0307-4a3e-93c4-6f135b9c15f5"
   },
   "outputs": [
    {
     "name": "stdout",
     "output_type": "stream",
     "text": [
      "DecisionTreeRegressor() \n",
      "\n",
      "|--- feature_6 <= 0.45\n",
      "|   |--- feature_4 <= 0.50\n",
      "|   |   |--- feature_7 <= 0.32\n",
      "|   |   |   |--- feature_8 <= 0.41\n",
      "|   |   |   |   |--- feature_1 <= 2.50\n",
      "|   |   |   |   |   |--- feature_9 <= 0.33\n",
      "|   |   |   |   |   |   |--- feature_6 <= 0.28\n",
      "|   |   |   |   |   |   |   |--- value: [515.00]\n",
      "|   |   |   |   |   |   |--- feature_6 >  0.28\n",
      "|   |   |   |   |   |   |   |--- value: [558.00]\n",
      "|   |   |   |   |   |--- feature_9 >  0.33\n",
      "|   |   |   |   |   |   |--- value: [317.00]\n",
      "|   |   |   |   |--- feature_1 >  2.50\n",
      "|   |   |   |   |   |--- feature_9 <= 0.28\n",
      "|   |   |   |   |   |   |--- feature_9 <= 0.22\n",
      "|   |   |   |   |   |   |   |--- value: [981.00]\n",
      "|   |   |   |   |   |   |--- feature_9 >  0.22\n",
      "|   |   |   |   |   |   |   |--- value: [968.00]\n",
      "|   |   |   |   |   |--- feature_9 >  0.28\n",
      "|   |   |   |   |   |   |--- feature_1 <= 7.00\n",
      "|   |   |   |   |   |   |   |--- value: [710.00]\n",
      "|   |   |   |   |   |   |--- feature_1 >  7.00\n",
      "|   |   |   |   |   |   |   |--- value: [532.00]\n",
      "|   |   |   |--- feature_8 >  0.41\n",
      "|   |   |   |   |--- feature_7 <= 0.25\n",
      "|   |   |   |   |   |--- feature_6 <= 0.18\n",
      "|   |   |   |   |   |   |--- feature_8 <= 0.43\n",
      "|   |   |   |   |   |   |   |--- value: [284.00]\n",
      "|   |   |   |   |   |   |--- feature_8 >  0.43\n",
      "|   |   |   |   |   |   |   |--- feature_8 <= 0.45\n",
      "|   |   |   |   |   |   |   |   |--- value: [150.00]\n",
      "|   |   |   |   |   |   |   |--- feature_8 >  0.45\n",
      "|   |   |   |   |   |   |   |   |--- feature_2 <= 0.50\n",
      "|   |   |   |   |   |   |   |   |   |--- feature_8 <= 0.50\n",
      "|   |   |   |   |   |   |   |   |   |   |--- value: [73.00]\n",
      "|   |   |   |   |   |   |   |   |   |--- feature_8 >  0.50\n",
      "|   |   |   |   |   |   |   |   |   |   |--- feature_9 <= 0.24\n",
      "|   |   |   |   |   |   |   |   |   |   |   |--- value: [67.00]\n",
      "|   |   |   |   |   |   |   |   |   |   |--- feature_9 >  0.24\n",
      "|   |   |   |   |   |   |   |   |   |   |   |--- value: [68.00]\n",
      "|   |   |   |   |   |   |   |   |--- feature_2 >  0.50\n",
      "|   |   |   |   |   |   |   |   |   |--- value: [117.00]\n",
      "|   |   |   |   |   |--- feature_6 >  0.18\n",
      "|   |   |   |   |   |   |--- feature_9 <= 0.17\n",
      "|   |   |   |   |   |   |   |--- feature_8 <= 0.69\n",
      "|   |   |   |   |   |   |   |   |--- value: [123.00]\n",
      "|   |   |   |   |   |   |   |--- feature_8 >  0.69\n",
      "|   |   |   |   |   |   |   |   |--- value: [140.00]\n",
      "|   |   |   |   |   |   |--- feature_9 >  0.17\n",
      "|   |   |   |   |   |   |   |--- feature_7 <= 0.19\n",
      "|   |   |   |   |   |   |   |   |--- value: [333.00]\n",
      "|   |   |   |   |   |   |   |--- feature_7 >  0.19\n",
      "|   |   |   |   |   |   |   |   |--- feature_8 <= 0.53\n",
      "|   |   |   |   |   |   |   |   |   |--- feature_3 <= 0.50\n",
      "|   |   |   |   |   |   |   |   |   |   |--- value: [251.00]\n",
      "|   |   |   |   |   |   |   |   |   |--- feature_3 >  0.50\n",
      "|   |   |   |   |   |   |   |   |   |   |--- feature_6 <= 0.23\n",
      "|   |   |   |   |   |   |   |   |   |   |   |--- value: [217.00]\n",
      "|   |   |   |   |   |   |   |   |   |   |--- feature_6 >  0.23\n",
      "|   |   |   |   |   |   |   |   |   |   |   |--- value: [205.00]\n",
      "|   |   |   |   |   |   |   |   |--- feature_8 >  0.53\n",
      "|   |   |   |   |   |   |   |   |   |--- feature_1 <= 7.00\n",
      "|   |   |   |   |   |   |   |   |   |   |--- value: [288.00]\n",
      "|   |   |   |   |   |   |   |   |   |--- feature_1 >  7.00\n",
      "|   |   |   |   |   |   |   |   |   |   |--- value: [275.00]\n",
      "|   |   |   |   |--- feature_7 >  0.25\n",
      "|   |   |   |   |   |--- feature_9 <= 0.11\n",
      "|   |   |   |   |   |   |--- value: [706.00]\n",
      "|   |   |   |   |   |--- feature_9 >  0.11\n",
      "|   |   |   |   |   |   |--- feature_8 <= 0.54\n",
      "|   |   |   |   |   |   |   |--- feature_5 <= 1.50\n",
      "|   |   |   |   |   |   |   |   |--- feature_7 <= 0.26\n",
      "|   |   |   |   |   |   |   |   |   |--- value: [309.00]\n",
      "|   |   |   |   |   |   |   |   |--- feature_7 >  0.26\n",
      "|   |   |   |   |   |   |   |   |   |--- feature_0 <= 2.50\n",
      "|   |   |   |   |   |   |   |   |   |   |--- feature_9 <= 0.16\n",
      "|   |   |   |   |   |   |   |   |   |   |   |--- value: [408.00]\n",
      "|   |   |   |   |   |   |   |   |   |   |--- feature_9 >  0.16\n",
      "|   |   |   |   |   |   |   |   |   |   |   |--- truncated branch of depth 2\n",
      "|   |   |   |   |   |   |   |   |   |--- feature_0 >  2.50\n",
      "|   |   |   |   |   |   |   |   |   |   |--- feature_6 <= 0.30\n",
      "|   |   |   |   |   |   |   |   |   |   |   |--- value: [502.00]\n",
      "|   |   |   |   |   |   |   |   |   |   |--- feature_6 >  0.30\n",
      "|   |   |   |   |   |   |   |   |   |   |   |--- value: [440.00]\n",
      "|   |   |   |   |   |   |   |--- feature_5 >  1.50\n",
      "|   |   |   |   |   |   |   |   |--- value: [618.00]\n",
      "|   |   |   |   |   |   |--- feature_8 >  0.54\n",
      "|   |   |   |   |   |   |   |--- feature_3 <= 0.50\n",
      "|   |   |   |   |   |   |   |   |--- feature_5 <= 1.50\n",
      "|   |   |   |   |   |   |   |   |   |--- value: [354.00]\n",
      "|   |   |   |   |   |   |   |   |--- feature_5 >  1.50\n",
      "|   |   |   |   |   |   |   |   |   |--- value: [318.00]\n",
      "|   |   |   |   |   |   |   |--- feature_3 >  0.50\n",
      "|   |   |   |   |   |   |   |   |--- feature_3 <= 3.50\n",
      "|   |   |   |   |   |   |   |   |   |--- value: [195.00]\n",
      "|   |   |   |   |   |   |   |   |--- feature_3 >  3.50\n",
      "|   |   |   |   |   |   |   |   |   |--- value: [155.00]\n",
      "|   |   |--- feature_7 >  0.32\n",
      "|   |   |   |--- feature_9 <= 0.25\n",
      "|   |   |   |   |--- feature_7 <= 0.38\n",
      "|   |   |   |   |   |--- feature_7 <= 0.36\n",
      "|   |   |   |   |   |   |--- feature_6 <= 0.36\n",
      "|   |   |   |   |   |   |   |--- feature_1 <= 10.50\n",
      "|   |   |   |   |   |   |   |   |--- feature_7 <= 0.33\n",
      "|   |   |   |   |   |   |   |   |   |--- feature_9 <= 0.21\n",
      "|   |   |   |   |   |   |   |   |   |   |--- feature_7 <= 0.32\n",
      "|   |   |   |   |   |   |   |   |   |   |   |--- truncated branch of depth 2\n",
      "|   |   |   |   |   |   |   |   |   |   |--- feature_7 >  0.32\n",
      "|   |   |   |   |   |   |   |   |   |   |   |--- value: [1047.00]\n",
      "|   |   |   |   |   |   |   |   |   |--- feature_9 >  0.21\n",
      "|   |   |   |   |   |   |   |   |   |   |--- value: [724.00]\n",
      "|   |   |   |   |   |   |   |   |--- feature_7 >  0.33\n",
      "|   |   |   |   |   |   |   |   |   |--- feature_3 <= 3.00\n",
      "|   |   |   |   |   |   |   |   |   |   |--- feature_7 <= 0.35\n",
      "|   |   |   |   |   |   |   |   |   |   |   |--- truncated branch of depth 2\n",
      "|   |   |   |   |   |   |   |   |   |   |--- feature_7 >  0.35\n",
      "|   |   |   |   |   |   |   |   |   |   |   |--- value: [694.00]\n",
      "|   |   |   |   |   |   |   |   |   |--- feature_3 >  3.00\n",
      "|   |   |   |   |   |   |   |   |   |   |--- value: [879.00]\n",
      "|   |   |   |   |   |   |   |--- feature_1 >  10.50\n",
      "|   |   |   |   |   |   |   |   |--- feature_8 <= 0.57\n",
      "|   |   |   |   |   |   |   |   |   |--- feature_8 <= 0.51\n",
      "|   |   |   |   |   |   |   |   |   |   |--- value: [943.00]\n",
      "|   |   |   |   |   |   |   |   |   |--- feature_8 >  0.51\n",
      "|   |   |   |   |   |   |   |   |   |   |--- feature_7 <= 0.33\n",
      "|   |   |   |   |   |   |   |   |   |   |   |--- value: [1156.00]\n",
      "|   |   |   |   |   |   |   |   |   |   |--- feature_7 >  0.33\n",
      "|   |   |   |   |   |   |   |   |   |   |   |--- truncated branch of depth 2\n",
      "|   |   |   |   |   |   |   |   |--- feature_8 >  0.57\n",
      "|   |   |   |   |   |   |   |   |   |--- feature_9 <= 0.10\n",
      "|   |   |   |   |   |   |   |   |   |   |--- feature_8 <= 0.66\n",
      "|   |   |   |   |   |   |   |   |   |   |   |--- value: [955.00]\n",
      "|   |   |   |   |   |   |   |   |   |   |--- feature_8 >  0.66\n",
      "|   |   |   |   |   |   |   |   |   |   |   |--- truncated branch of depth 2\n",
      "|   |   |   |   |   |   |   |   |   |--- feature_9 >  0.10\n",
      "|   |   |   |   |   |   |   |   |   |   |--- feature_7 <= 0.34\n",
      "|   |   |   |   |   |   |   |   |   |   |   |--- value: [922.00]\n",
      "|   |   |   |   |   |   |   |   |   |   |--- feature_7 >  0.34\n",
      "|   |   |   |   |   |   |   |   |   |   |   |--- value: [767.00]\n",
      "|   |   |   |   |   |   |--- feature_6 >  0.36\n",
      "|   |   |   |   |   |   |   |--- value: [1658.00]\n",
      "|   |   |   |   |   |--- feature_7 >  0.36\n",
      "|   |   |   |   |   |   |--- feature_3 <= 5.00\n",
      "|   |   |   |   |   |   |   |--- feature_2 <= 0.50\n",
      "|   |   |   |   |   |   |   |   |--- value: [538.00]\n",
      "|   |   |   |   |   |   |   |--- feature_2 >  0.50\n",
      "|   |   |   |   |   |   |   |   |--- value: [560.00]\n",
      "|   |   |   |   |   |   |--- feature_3 >  5.00\n",
      "|   |   |   |   |   |   |   |--- value: [331.00]\n",
      "|   |   |   |   |--- feature_7 >  0.38\n",
      "|   |   |   |   |   |--- feature_9 <= 0.24\n",
      "|   |   |   |   |   |   |--- feature_9 <= 0.15\n",
      "|   |   |   |   |   |   |   |--- feature_9 <= 0.11\n",
      "|   |   |   |   |   |   |   |   |--- feature_6 <= 0.40\n",
      "|   |   |   |   |   |   |   |   |   |--- feature_8 <= 0.80\n",
      "|   |   |   |   |   |   |   |   |   |   |--- value: [1249.00]\n",
      "|   |   |   |   |   |   |   |   |   |--- feature_8 >  0.80\n",
      "|   |   |   |   |   |   |   |   |   |   |--- value: [1153.00]\n",
      "|   |   |   |   |   |   |   |   |--- feature_6 >  0.40\n",
      "|   |   |   |   |   |   |   |   |   |--- value: [1619.00]\n",
      "|   |   |   |   |   |   |   |--- feature_9 >  0.11\n",
      "|   |   |   |   |   |   |   |   |--- feature_1 <= 10.50\n",
      "|   |   |   |   |   |   |   |   |   |--- value: [2252.00]\n",
      "|   |   |   |   |   |   |   |   |--- feature_1 >  10.50\n",
      "|   |   |   |   |   |   |   |   |   |--- value: [2290.00]\n",
      "|   |   |   |   |   |   |--- feature_9 >  0.15\n",
      "|   |   |   |   |   |   |   |--- feature_7 <= 0.38\n",
      "|   |   |   |   |   |   |   |   |--- value: [1651.00]\n",
      "|   |   |   |   |   |   |   |--- feature_7 >  0.38\n",
      "|   |   |   |   |   |   |   |   |--- feature_9 <= 0.20\n",
      "|   |   |   |   |   |   |   |   |   |--- feature_9 <= 0.15\n",
      "|   |   |   |   |   |   |   |   |   |   |--- value: [1188.00]\n",
      "|   |   |   |   |   |   |   |   |   |--- feature_9 >  0.15\n",
      "|   |   |   |   |   |   |   |   |   |   |--- feature_8 <= 0.58\n",
      "|   |   |   |   |   |   |   |   |   |   |   |--- value: [1070.00]\n",
      "|   |   |   |   |   |   |   |   |   |   |--- feature_8 >  0.58\n",
      "|   |   |   |   |   |   |   |   |   |   |   |--- truncated branch of depth 2\n",
      "|   |   |   |   |   |   |   |   |--- feature_9 >  0.20\n",
      "|   |   |   |   |   |   |   |   |   |--- feature_1 <= 8.00\n",
      "|   |   |   |   |   |   |   |   |   |   |--- value: [642.00]\n",
      "|   |   |   |   |   |   |   |   |   |--- feature_1 >  8.00\n",
      "|   |   |   |   |   |   |   |   |   |   |--- value: [665.00]\n",
      "|   |   |   |   |   |--- feature_9 >  0.24\n",
      "|   |   |   |   |   |   |--- value: [2301.00]\n",
      "|   |   |   |--- feature_9 >  0.25\n",
      "|   |   |   |   |--- feature_5 <= 2.50\n",
      "|   |   |   |   |   |--- feature_7 <= 0.35\n",
      "|   |   |   |   |   |   |--- value: [397.00]\n",
      "|   |   |   |   |   |--- feature_7 >  0.35\n",
      "|   |   |   |   |   |   |--- feature_3 <= 3.00\n",
      "|   |   |   |   |   |   |   |--- value: [982.00]\n",
      "|   |   |   |   |   |   |--- feature_3 >  3.00\n",
      "|   |   |   |   |   |   |   |--- feature_7 <= 0.40\n",
      "|   |   |   |   |   |   |   |   |--- value: [640.00]\n",
      "|   |   |   |   |   |   |   |--- feature_7 >  0.40\n",
      "|   |   |   |   |   |   |   |   |--- value: [480.00]\n",
      "|   |   |   |   |--- feature_5 >  2.50\n",
      "|   |   |   |   |   |--- feature_8 <= 0.86\n",
      "|   |   |   |   |   |   |--- value: [120.00]\n",
      "|   |   |   |   |   |--- feature_8 >  0.86\n",
      "|   |   |   |   |   |   |--- value: [121.00]\n",
      "|   |--- feature_4 >  0.50\n",
      "|   |   |--- feature_6 <= 0.34\n",
      "|   |   |   |--- feature_1 <= 2.50\n",
      "|   |   |   |   |--- feature_7 <= 0.29\n",
      "|   |   |   |   |   |--- feature_6 <= 0.19\n",
      "|   |   |   |   |   |   |--- feature_7 <= 0.14\n",
      "|   |   |   |   |   |   |   |--- feature_3 <= 2.50\n",
      "|   |   |   |   |   |   |   |   |--- feature_9 <= 0.26\n",
      "|   |   |   |   |   |   |   |   |   |--- value: [86.00]\n",
      "|   |   |   |   |   |   |   |   |--- feature_9 >  0.26\n",
      "|   |   |   |   |   |   |   |   |   |--- value: [89.00]\n",
      "|   |   |   |   |   |   |   |--- feature_3 >  2.50\n",
      "|   |   |   |   |   |   |   |   |--- value: [95.00]\n",
      "|   |   |   |   |   |   |--- feature_7 >  0.14\n",
      "|   |   |   |   |   |   |   |--- feature_8 <= 0.46\n",
      "|   |   |   |   |   |   |   |   |--- feature_6 <= 0.18\n",
      "|   |   |   |   |   |   |   |   |   |--- value: [75.00]\n",
      "|   |   |   |   |   |   |   |   |--- feature_6 >  0.18\n",
      "|   |   |   |   |   |   |   |   |   |--- value: [61.00]\n",
      "|   |   |   |   |   |   |   |--- feature_8 >  0.46\n",
      "|   |   |   |   |   |   |   |   |--- feature_9 <= 0.30\n",
      "|   |   |   |   |   |   |   |   |   |--- feature_9 <= 0.21\n",
      "|   |   |   |   |   |   |   |   |   |   |--- feature_3 <= 2.00\n",
      "|   |   |   |   |   |   |   |   |   |   |   |--- value: [42.00]\n",
      "|   |   |   |   |   |   |   |   |   |   |--- feature_3 >  2.00\n",
      "|   |   |   |   |   |   |   |   |   |   |   |--- truncated branch of depth 2\n",
      "|   |   |   |   |   |   |   |   |   |--- feature_9 >  0.21\n",
      "|   |   |   |   |   |   |   |   |   |   |--- feature_6 <= 0.16\n",
      "|   |   |   |   |   |   |   |   |   |   |   |--- value: [41.00]\n",
      "|   |   |   |   |   |   |   |   |   |   |--- feature_6 >  0.16\n",
      "|   |   |   |   |   |   |   |   |   |   |   |--- value: [38.00]\n",
      "|   |   |   |   |   |   |   |   |--- feature_9 >  0.30\n",
      "|   |   |   |   |   |   |   |   |   |--- value: [25.00]\n",
      "|   |   |   |   |   |--- feature_6 >  0.19\n",
      "|   |   |   |   |   |   |--- feature_3 <= 4.50\n",
      "|   |   |   |   |   |   |   |--- feature_9 <= 0.26\n",
      "|   |   |   |   |   |   |   |   |--- feature_3 <= 2.50\n",
      "|   |   |   |   |   |   |   |   |   |--- feature_9 <= 0.15\n",
      "|   |   |   |   |   |   |   |   |   |   |--- feature_3 <= 1.50\n",
      "|   |   |   |   |   |   |   |   |   |   |   |--- truncated branch of depth 2\n",
      "|   |   |   |   |   |   |   |   |   |   |--- feature_3 >  1.50\n",
      "|   |   |   |   |   |   |   |   |   |   |   |--- value: [186.00]\n",
      "|   |   |   |   |   |   |   |   |   |--- feature_9 >  0.15\n",
      "|   |   |   |   |   |   |   |   |   |   |--- feature_9 <= 0.19\n",
      "|   |   |   |   |   |   |   |   |   |   |   |--- truncated branch of depth 2\n",
      "|   |   |   |   |   |   |   |   |   |   |--- feature_9 >  0.19\n",
      "|   |   |   |   |   |   |   |   |   |   |   |--- truncated branch of depth 2\n",
      "|   |   |   |   |   |   |   |   |--- feature_3 >  2.50\n",
      "|   |   |   |   |   |   |   |   |   |--- feature_8 <= 0.51\n",
      "|   |   |   |   |   |   |   |   |   |   |--- feature_6 <= 0.22\n",
      "|   |   |   |   |   |   |   |   |   |   |   |--- truncated branch of depth 2\n",
      "|   |   |   |   |   |   |   |   |   |   |--- feature_6 >  0.22\n",
      "|   |   |   |   |   |   |   |   |   |   |   |--- value: [82.00]\n",
      "|   |   |   |   |   |   |   |   |   |--- feature_8 >  0.51\n",
      "|   |   |   |   |   |   |   |   |   |   |--- feature_6 <= 0.20\n",
      "|   |   |   |   |   |   |   |   |   |   |   |--- value: [15.00]\n",
      "|   |   |   |   |   |   |   |   |   |   |--- feature_6 >  0.20\n",
      "|   |   |   |   |   |   |   |   |   |   |   |--- truncated branch of depth 4\n",
      "|   |   |   |   |   |   |   |--- feature_9 >  0.26\n",
      "|   |   |   |   |   |   |   |   |--- feature_8 <= 0.82\n",
      "|   |   |   |   |   |   |   |   |   |--- feature_8 <= 0.66\n",
      "|   |   |   |   |   |   |   |   |   |   |--- value: [64.00]\n",
      "|   |   |   |   |   |   |   |   |   |--- feature_8 >  0.66\n",
      "|   |   |   |   |   |   |   |   |   |   |--- value: [72.00]\n",
      "|   |   |   |   |   |   |   |   |--- feature_8 >  0.82\n",
      "|   |   |   |   |   |   |   |   |   |--- value: [34.00]\n",
      "|   |   |   |   |   |   |--- feature_3 >  4.50\n",
      "|   |   |   |   |   |   |   |--- feature_8 <= 0.47\n",
      "|   |   |   |   |   |   |   |   |--- value: [115.00]\n",
      "|   |   |   |   |   |   |   |--- feature_8 >  0.47\n",
      "|   |   |   |   |   |   |   |   |--- feature_9 <= 0.27\n",
      "|   |   |   |   |   |   |   |   |   |--- feature_1 <= 1.50\n",
      "|   |   |   |   |   |   |   |   |   |   |--- value: [148.00]\n",
      "|   |   |   |   |   |   |   |   |   |--- feature_1 >  1.50\n",
      "|   |   |   |   |   |   |   |   |   |   |--- value: [149.00]\n",
      "|   |   |   |   |   |   |   |   |--- feature_9 >  0.27\n",
      "|   |   |   |   |   |   |   |   |   |--- value: [174.00]\n",
      "|   |   |   |   |--- feature_7 >  0.29\n",
      "|   |   |   |   |   |--- feature_3 <= 4.50\n",
      "|   |   |   |   |   |   |--- feature_5 <= 1.50\n",
      "|   |   |   |   |   |   |   |--- feature_3 <= 2.50\n",
      "|   |   |   |   |   |   |   |   |--- feature_3 <= 1.50\n",
      "|   |   |   |   |   |   |   |   |   |--- value: [206.00]\n",
      "|   |   |   |   |   |   |   |   |--- feature_3 >  1.50\n",
      "|   |   |   |   |   |   |   |   |   |--- feature_8 <= 0.62\n",
      "|   |   |   |   |   |   |   |   |   |   |--- value: [163.00]\n",
      "|   |   |   |   |   |   |   |   |   |--- feature_8 >  0.62\n",
      "|   |   |   |   |   |   |   |   |   |   |--- value: [173.00]\n",
      "|   |   |   |   |   |   |   |--- feature_3 >  2.50\n",
      "|   |   |   |   |   |   |   |   |--- value: [218.00]\n",
      "|   |   |   |   |   |   |--- feature_5 >  1.50\n",
      "|   |   |   |   |   |   |   |--- feature_3 <= 3.00\n",
      "|   |   |   |   |   |   |   |   |--- value: [135.00]\n",
      "|   |   |   |   |   |   |   |--- feature_3 >  3.00\n",
      "|   |   |   |   |   |   |   |   |--- value: [74.00]\n",
      "|   |   |   |   |   |--- feature_3 >  4.50\n",
      "|   |   |   |   |   |   |--- feature_7 <= 0.30\n",
      "|   |   |   |   |   |   |   |--- value: [227.00]\n",
      "|   |   |   |   |   |   |--- feature_7 >  0.30\n",
      "|   |   |   |   |   |   |   |--- feature_9 <= 0.17\n",
      "|   |   |   |   |   |   |   |   |--- value: [307.00]\n",
      "|   |   |   |   |   |   |   |--- feature_9 >  0.17\n",
      "|   |   |   |   |   |   |   |   |--- value: [310.00]\n",
      "|   |   |   |--- feature_1 >  2.50\n",
      "|   |   |   |   |--- feature_9 <= 0.20\n",
      "|   |   |   |   |   |--- feature_9 <= 0.12\n",
      "|   |   |   |   |   |   |--- feature_9 <= 0.06\n",
      "|   |   |   |   |   |   |   |--- feature_7 <= 0.33\n",
      "|   |   |   |   |   |   |   |   |--- value: [362.00]\n",
      "|   |   |   |   |   |   |   |--- feature_7 >  0.33\n",
      "|   |   |   |   |   |   |   |   |--- value: [337.00]\n",
      "|   |   |   |   |   |   |--- feature_9 >  0.06\n",
      "|   |   |   |   |   |   |   |--- feature_3 <= 3.50\n",
      "|   |   |   |   |   |   |   |   |--- feature_5 <= 1.50\n",
      "|   |   |   |   |   |   |   |   |   |--- value: [143.00]\n",
      "|   |   |   |   |   |   |   |   |--- feature_5 >  1.50\n",
      "|   |   |   |   |   |   |   |   |   |--- feature_6 <= 0.27\n",
      "|   |   |   |   |   |   |   |   |   |   |--- value: [174.00]\n",
      "|   |   |   |   |   |   |   |   |   |--- feature_6 >  0.27\n",
      "|   |   |   |   |   |   |   |   |   |   |--- value: [178.00]\n",
      "|   |   |   |   |   |   |   |--- feature_3 >  3.50\n",
      "|   |   |   |   |   |   |   |   |--- feature_7 <= 0.31\n",
      "|   |   |   |   |   |   |   |   |   |--- feature_0 <= 2.50\n",
      "|   |   |   |   |   |   |   |   |   |   |--- value: [254.00]\n",
      "|   |   |   |   |   |   |   |   |   |--- feature_0 >  2.50\n",
      "|   |   |   |   |   |   |   |   |   |   |--- value: [243.00]\n",
      "|   |   |   |   |   |   |   |   |--- feature_7 >  0.31\n",
      "|   |   |   |   |   |   |   |   |   |--- feature_6 <= 0.30\n",
      "|   |   |   |   |   |   |   |   |   |   |--- value: [261.00]\n",
      "|   |   |   |   |   |   |   |   |   |--- feature_6 >  0.30\n",
      "|   |   |   |   |   |   |   |   |   |   |--- value: [268.00]\n",
      "|   |   |   |   |   |--- feature_9 >  0.12\n",
      "|   |   |   |   |   |   |--- feature_8 <= 0.64\n",
      "|   |   |   |   |   |   |   |--- feature_8 <= 0.45\n",
      "|   |   |   |   |   |   |   |   |--- feature_1 <= 7.00\n",
      "|   |   |   |   |   |   |   |   |   |--- value: [316.00]\n",
      "|   |   |   |   |   |   |   |   |--- feature_1 >  7.00\n",
      "|   |   |   |   |   |   |   |   |   |--- value: [245.00]\n",
      "|   |   |   |   |   |   |   |--- feature_8 >  0.45\n",
      "|   |   |   |   |   |   |   |   |--- feature_9 <= 0.14\n",
      "|   |   |   |   |   |   |   |   |   |--- feature_7 <= 0.31\n",
      "|   |   |   |   |   |   |   |   |   |   |--- value: [429.00]\n",
      "|   |   |   |   |   |   |   |   |   |--- feature_7 >  0.31\n",
      "|   |   |   |   |   |   |   |   |   |   |--- value: [491.00]\n",
      "|   |   |   |   |   |   |   |   |--- feature_9 >  0.14\n",
      "|   |   |   |   |   |   |   |   |   |--- feature_6 <= 0.30\n",
      "|   |   |   |   |   |   |   |   |   |   |--- feature_9 <= 0.17\n",
      "|   |   |   |   |   |   |   |   |   |   |   |--- truncated branch of depth 3\n",
      "|   |   |   |   |   |   |   |   |   |   |--- feature_9 >  0.17\n",
      "|   |   |   |   |   |   |   |   |   |   |   |--- truncated branch of depth 2\n",
      "|   |   |   |   |   |   |   |   |   |--- feature_6 >  0.30\n",
      "|   |   |   |   |   |   |   |   |   |   |--- feature_9 <= 0.14\n",
      "|   |   |   |   |   |   |   |   |   |   |   |--- value: [359.00]\n",
      "|   |   |   |   |   |   |   |   |   |   |--- feature_9 >  0.14\n",
      "|   |   |   |   |   |   |   |   |   |   |   |--- truncated branch of depth 3\n",
      "|   |   |   |   |   |   |--- feature_8 >  0.64\n",
      "|   |   |   |   |   |   |   |--- feature_8 <= 0.65\n",
      "|   |   |   |   |   |   |   |   |--- value: [168.00]\n",
      "|   |   |   |   |   |   |   |--- feature_8 >  0.65\n",
      "|   |   |   |   |   |   |   |   |--- feature_8 <= 0.72\n",
      "|   |   |   |   |   |   |   |   |   |--- feature_6 <= 0.32\n",
      "|   |   |   |   |   |   |   |   |   |   |--- value: [289.00]\n",
      "|   |   |   |   |   |   |   |   |   |--- feature_6 >  0.32\n",
      "|   |   |   |   |   |   |   |   |   |   |--- value: [314.00]\n",
      "|   |   |   |   |   |   |   |   |--- feature_8 >  0.72\n",
      "|   |   |   |   |   |   |   |   |   |--- value: [349.00]\n",
      "|   |   |   |   |--- feature_9 >  0.20\n",
      "|   |   |   |   |   |--- feature_8 <= 0.78\n",
      "|   |   |   |   |   |   |--- feature_9 <= 0.23\n",
      "|   |   |   |   |   |   |   |--- feature_9 <= 0.21\n",
      "|   |   |   |   |   |   |   |   |--- feature_6 <= 0.28\n",
      "|   |   |   |   |   |   |   |   |   |--- feature_7 <= 0.26\n",
      "|   |   |   |   |   |   |   |   |   |   |--- value: [221.00]\n",
      "|   |   |   |   |   |   |   |   |   |--- feature_7 >  0.26\n",
      "|   |   |   |   |   |   |   |   |   |   |--- value: [222.00]\n",
      "|   |   |   |   |   |   |   |   |--- feature_6 >  0.28\n",
      "|   |   |   |   |   |   |   |   |   |--- value: [198.00]\n",
      "|   |   |   |   |   |   |   |--- feature_9 >  0.21\n",
      "|   |   |   |   |   |   |   |   |--- feature_6 <= 0.28\n",
      "|   |   |   |   |   |   |   |   |   |--- feature_6 <= 0.23\n",
      "|   |   |   |   |   |   |   |   |   |   |--- value: [123.00]\n",
      "|   |   |   |   |   |   |   |   |   |--- feature_6 >  0.23\n",
      "|   |   |   |   |   |   |   |   |   |   |--- value: [137.00]\n",
      "|   |   |   |   |   |   |   |   |--- feature_6 >  0.28\n",
      "|   |   |   |   |   |   |   |   |   |--- feature_3 <= 4.00\n",
      "|   |   |   |   |   |   |   |   |   |   |--- value: [191.00]\n",
      "|   |   |   |   |   |   |   |   |   |--- feature_3 >  4.00\n",
      "|   |   |   |   |   |   |   |   |   |   |--- value: [177.00]\n",
      "|   |   |   |   |   |   |--- feature_9 >  0.23\n",
      "|   |   |   |   |   |   |   |--- feature_3 <= 4.50\n",
      "|   |   |   |   |   |   |   |   |--- feature_8 <= 0.56\n",
      "|   |   |   |   |   |   |   |   |   |--- feature_0 <= 1.50\n",
      "|   |   |   |   |   |   |   |   |   |   |--- feature_9 <= 0.26\n",
      "|   |   |   |   |   |   |   |   |   |   |   |--- value: [203.00]\n",
      "|   |   |   |   |   |   |   |   |   |   |--- feature_9 >  0.26\n",
      "|   |   |   |   |   |   |   |   |   |   |   |--- truncated branch of depth 3\n",
      "|   |   |   |   |   |   |   |   |   |--- feature_0 >  1.50\n",
      "|   |   |   |   |   |   |   |   |   |   |--- feature_0 <= 3.00\n",
      "|   |   |   |   |   |   |   |   |   |   |   |--- value: [317.00]\n",
      "|   |   |   |   |   |   |   |   |   |   |--- feature_0 >  3.00\n",
      "|   |   |   |   |   |   |   |   |   |   |   |--- value: [326.00]\n",
      "|   |   |   |   |   |   |   |   |--- feature_8 >  0.56\n",
      "|   |   |   |   |   |   |   |   |   |--- feature_0 <= 3.00\n",
      "|   |   |   |   |   |   |   |   |   |   |--- feature_3 <= 2.50\n",
      "|   |   |   |   |   |   |   |   |   |   |   |--- value: [195.00]\n",
      "|   |   |   |   |   |   |   |   |   |   |--- feature_3 >  2.50\n",
      "|   |   |   |   |   |   |   |   |   |   |   |--- value: [247.00]\n",
      "|   |   |   |   |   |   |   |   |   |--- feature_0 >  3.00\n",
      "|   |   |   |   |   |   |   |   |   |   |--- feature_5 <= 1.50\n",
      "|   |   |   |   |   |   |   |   |   |   |   |--- value: [150.00]\n",
      "|   |   |   |   |   |   |   |   |   |   |--- feature_5 >  1.50\n",
      "|   |   |   |   |   |   |   |   |   |   |   |--- value: [139.00]\n",
      "|   |   |   |   |   |   |   |--- feature_3 >  4.50\n",
      "|   |   |   |   |   |   |   |   |--- feature_1 <= 7.00\n",
      "|   |   |   |   |   |   |   |   |   |--- feature_6 <= 0.31\n",
      "|   |   |   |   |   |   |   |   |   |   |--- feature_7 <= 0.27\n",
      "|   |   |   |   |   |   |   |   |   |   |   |--- value: [300.00]\n",
      "|   |   |   |   |   |   |   |   |   |   |--- feature_7 >  0.27\n",
      "|   |   |   |   |   |   |   |   |   |   |   |--- value: [307.00]\n",
      "|   |   |   |   |   |   |   |   |   |--- feature_6 >  0.31\n",
      "|   |   |   |   |   |   |   |   |   |   |--- value: [247.00]\n",
      "|   |   |   |   |   |   |   |   |--- feature_1 >  7.00\n",
      "|   |   |   |   |   |   |   |   |   |--- value: [456.00]\n",
      "|   |   |   |   |   |--- feature_8 >  0.78\n",
      "|   |   |   |   |   |   |--- feature_0 <= 1.50\n",
      "|   |   |   |   |   |   |   |--- value: [9.00]\n",
      "|   |   |   |   |   |   |--- feature_0 >  1.50\n",
      "|   |   |   |   |   |   |   |--- feature_7 <= 0.28\n",
      "|   |   |   |   |   |   |   |   |--- feature_6 <= 0.28\n",
      "|   |   |   |   |   |   |   |   |   |--- value: [179.00]\n",
      "|   |   |   |   |   |   |   |   |--- feature_6 >  0.28\n",
      "|   |   |   |   |   |   |   |   |   |--- value: [166.00]\n",
      "|   |   |   |   |   |   |   |--- feature_7 >  0.28\n",
      "|   |   |   |   |   |   |   |   |--- feature_6 <= 0.30\n",
      "|   |   |   |   |   |   |   |   |   |--- value: [123.00]\n",
      "|   |   |   |   |   |   |   |   |--- feature_6 >  0.30\n",
      "|   |   |   |   |   |   |   |   |   |--- value: [87.00]\n",
      "|   |   |--- feature_6 >  0.34\n",
      "|   |   |   |--- feature_3 <= 4.50\n",
      "|   |   |   |   |--- feature_8 <= 0.48\n",
      "|   |   |   |   |   |--- feature_7 <= 0.42\n",
      "|   |   |   |   |   |   |--- feature_8 <= 0.44\n",
      "|   |   |   |   |   |   |   |--- feature_6 <= 0.40\n",
      "|   |   |   |   |   |   |   |   |--- feature_9 <= 0.23\n",
      "|   |   |   |   |   |   |   |   |   |--- value: [229.00]\n",
      "|   |   |   |   |   |   |   |   |--- feature_9 >  0.23\n",
      "|   |   |   |   |   |   |   |   |   |--- feature_8 <= 0.38\n",
      "|   |   |   |   |   |   |   |   |   |   |--- value: [340.00]\n",
      "|   |   |   |   |   |   |   |   |   |--- feature_8 >  0.38\n",
      "|   |   |   |   |   |   |   |   |   |   |--- value: [324.00]\n",
      "|   |   |   |   |   |   |   |--- feature_6 >  0.40\n",
      "|   |   |   |   |   |   |   |   |--- value: [208.00]\n",
      "|   |   |   |   |   |   |--- feature_8 >  0.44\n",
      "|   |   |   |   |   |   |   |--- feature_3 <= 3.50\n",
      "|   |   |   |   |   |   |   |   |--- feature_8 <= 0.47\n",
      "|   |   |   |   |   |   |   |   |   |--- feature_9 <= 0.27\n",
      "|   |   |   |   |   |   |   |   |   |   |--- value: [518.00]\n",
      "|   |   |   |   |   |   |   |   |   |--- feature_9 >  0.27\n",
      "|   |   |   |   |   |   |   |   |   |   |--- value: [482.00]\n",
      "|   |   |   |   |   |   |   |   |--- feature_8 >  0.47\n",
      "|   |   |   |   |   |   |   |   |   |--- value: [413.00]\n",
      "|   |   |   |   |   |   |   |--- feature_3 >  3.50\n",
      "|   |   |   |   |   |   |   |   |--- value: [663.00]\n",
      "|   |   |   |   |   |--- feature_7 >  0.42\n",
      "|   |   |   |   |   |   |--- feature_8 <= 0.40\n",
      "|   |   |   |   |   |   |   |--- value: [1192.00]\n",
      "|   |   |   |   |   |   |--- feature_8 >  0.40\n",
      "|   |   |   |   |   |   |   |--- feature_9 <= 0.32\n",
      "|   |   |   |   |   |   |   |   |--- feature_0 <= 3.00\n",
      "|   |   |   |   |   |   |   |   |   |--- value: [819.00]\n",
      "|   |   |   |   |   |   |   |   |--- feature_0 >  3.00\n",
      "|   |   |   |   |   |   |   |   |   |--- value: [834.00]\n",
      "|   |   |   |   |   |   |   |--- feature_9 >  0.32\n",
      "|   |   |   |   |   |   |   |   |--- value: [795.00]\n",
      "|   |   |   |   |--- feature_8 >  0.48\n",
      "|   |   |   |   |   |--- feature_5 <= 1.50\n",
      "|   |   |   |   |   |   |--- feature_8 <= 0.55\n",
      "|   |   |   |   |   |   |   |--- feature_1 <= 2.50\n",
      "|   |   |   |   |   |   |   |   |--- feature_6 <= 0.36\n",
      "|   |   |   |   |   |   |   |   |   |--- feature_7 <= 0.36\n",
      "|   |   |   |   |   |   |   |   |   |   |--- value: [141.00]\n",
      "|   |   |   |   |   |   |   |   |   |--- feature_7 >  0.36\n",
      "|   |   |   |   |   |   |   |   |   |   |--- value: [199.00]\n",
      "|   |   |   |   |   |   |   |   |--- feature_6 >  0.36\n",
      "|   |   |   |   |   |   |   |   |   |--- feature_9 <= 0.25\n",
      "|   |   |   |   |   |   |   |   |   |   |--- value: [259.00]\n",
      "|   |   |   |   |   |   |   |   |   |--- feature_9 >  0.25\n",
      "|   |   |   |   |   |   |   |   |   |   |--- value: [253.00]\n",
      "|   |   |   |   |   |   |   |--- feature_1 >  2.50\n",
      "|   |   |   |   |   |   |   |   |--- feature_6 <= 0.42\n",
      "|   |   |   |   |   |   |   |   |   |--- value: [432.00]\n",
      "|   |   |   |   |   |   |   |   |--- feature_6 >  0.42\n",
      "|   |   |   |   |   |   |   |   |   |--- value: [331.00]\n",
      "|   |   |   |   |   |   |--- feature_8 >  0.55\n",
      "|   |   |   |   |   |   |   |--- feature_8 <= 0.65\n",
      "|   |   |   |   |   |   |   |   |--- feature_9 <= 0.19\n",
      "|   |   |   |   |   |   |   |   |   |--- feature_1 <= 7.50\n",
      "|   |   |   |   |   |   |   |   |   |   |--- value: [571.00]\n",
      "|   |   |   |   |   |   |   |   |   |--- feature_1 >  7.50\n",
      "|   |   |   |   |   |   |   |   |   |   |--- value: [615.00]\n",
      "|   |   |   |   |   |   |   |   |--- feature_9 >  0.19\n",
      "|   |   |   |   |   |   |   |   |   |--- feature_7 <= 0.42\n",
      "|   |   |   |   |   |   |   |   |   |   |--- value: [394.00]\n",
      "|   |   |   |   |   |   |   |   |   |--- feature_7 >  0.42\n",
      "|   |   |   |   |   |   |   |   |   |   |--- value: [460.00]\n",
      "|   |   |   |   |   |   |   |--- feature_8 >  0.65\n",
      "|   |   |   |   |   |   |   |   |--- feature_9 <= 0.10\n",
      "|   |   |   |   |   |   |   |   |   |--- feature_8 <= 0.74\n",
      "|   |   |   |   |   |   |   |   |   |   |--- feature_7 <= 0.40\n",
      "|   |   |   |   |   |   |   |   |   |   |   |--- value: [370.00]\n",
      "|   |   |   |   |   |   |   |   |   |   |--- feature_7 >  0.40\n",
      "|   |   |   |   |   |   |   |   |   |   |   |--- value: [376.00]\n",
      "|   |   |   |   |   |   |   |   |   |--- feature_8 >  0.74\n",
      "|   |   |   |   |   |   |   |   |   |   |--- value: [305.00]\n",
      "|   |   |   |   |   |   |   |   |--- feature_9 >  0.10\n",
      "|   |   |   |   |   |   |   |   |   |--- feature_0 <= 2.50\n",
      "|   |   |   |   |   |   |   |   |   |   |--- value: [439.00]\n",
      "|   |   |   |   |   |   |   |   |   |--- feature_0 >  2.50\n",
      "|   |   |   |   |   |   |   |   |   |   |--- feature_7 <= 0.40\n",
      "|   |   |   |   |   |   |   |   |   |   |   |--- value: [410.00]\n",
      "|   |   |   |   |   |   |   |   |   |   |--- feature_7 >  0.40\n",
      "|   |   |   |   |   |   |   |   |   |   |   |--- value: [433.00]\n",
      "|   |   |   |   |   |--- feature_5 >  1.50\n",
      "|   |   |   |   |   |   |--- feature_6 <= 0.38\n",
      "|   |   |   |   |   |   |   |--- feature_9 <= 0.17\n",
      "|   |   |   |   |   |   |   |   |--- feature_1 <= 10.50\n",
      "|   |   |   |   |   |   |   |   |   |--- value: [330.00]\n",
      "|   |   |   |   |   |   |   |   |--- feature_1 >  10.50\n",
      "|   |   |   |   |   |   |   |   |   |--- feature_7 <= 0.38\n",
      "|   |   |   |   |   |   |   |   |   |   |--- value: [466.00]\n",
      "|   |   |   |   |   |   |   |   |   |--- feature_7 >  0.38\n",
      "|   |   |   |   |   |   |   |   |   |   |--- value: [534.00]\n",
      "|   |   |   |   |   |   |   |--- feature_9 >  0.17\n",
      "|   |   |   |   |   |   |   |   |--- feature_9 <= 0.35\n",
      "|   |   |   |   |   |   |   |   |   |--- feature_8 <= 0.82\n",
      "|   |   |   |   |   |   |   |   |   |   |--- feature_9 <= 0.19\n",
      "|   |   |   |   |   |   |   |   |   |   |   |--- value: [269.00]\n",
      "|   |   |   |   |   |   |   |   |   |   |--- feature_9 >  0.19\n",
      "|   |   |   |   |   |   |   |   |   |   |   |--- truncated branch of depth 3\n",
      "|   |   |   |   |   |   |   |   |   |--- feature_8 >  0.82\n",
      "|   |   |   |   |   |   |   |   |   |   |--- value: [203.00]\n",
      "|   |   |   |   |   |   |   |   |--- feature_9 >  0.35\n",
      "|   |   |   |   |   |   |   |   |   |--- value: [127.00]\n",
      "|   |   |   |   |   |   |--- feature_6 >  0.38\n",
      "|   |   |   |   |   |   |   |--- feature_9 <= 0.26\n",
      "|   |   |   |   |   |   |   |   |--- feature_1 <= 3.00\n",
      "|   |   |   |   |   |   |   |   |   |--- value: [190.00]\n",
      "|   |   |   |   |   |   |   |   |--- feature_1 >  3.00\n",
      "|   |   |   |   |   |   |   |   |   |--- feature_7 <= 0.40\n",
      "|   |   |   |   |   |   |   |   |   |   |--- value: [233.00]\n",
      "|   |   |   |   |   |   |   |   |   |--- feature_7 >  0.40\n",
      "|   |   |   |   |   |   |   |   |   |   |--- feature_6 <= 0.42\n",
      "|   |   |   |   |   |   |   |   |   |   |   |--- truncated branch of depth 3\n",
      "|   |   |   |   |   |   |   |   |   |   |--- feature_6 >  0.42\n",
      "|   |   |   |   |   |   |   |   |   |   |   |--- truncated branch of depth 2\n",
      "|   |   |   |   |   |   |   |--- feature_9 >  0.26\n",
      "|   |   |   |   |   |   |   |   |--- feature_8 <= 0.75\n",
      "|   |   |   |   |   |   |   |   |   |--- feature_8 <= 0.69\n",
      "|   |   |   |   |   |   |   |   |   |   |--- feature_1 <= 8.00\n",
      "|   |   |   |   |   |   |   |   |   |   |   |--- value: [167.00]\n",
      "|   |   |   |   |   |   |   |   |   |   |--- feature_1 >  8.00\n",
      "|   |   |   |   |   |   |   |   |   |   |   |--- value: [181.00]\n",
      "|   |   |   |   |   |   |   |   |   |--- feature_8 >  0.69\n",
      "|   |   |   |   |   |   |   |   |   |   |--- value: [255.00]\n",
      "|   |   |   |   |   |   |   |   |--- feature_8 >  0.75\n",
      "|   |   |   |   |   |   |   |   |   |--- feature_5 <= 2.50\n",
      "|   |   |   |   |   |   |   |   |   |   |--- feature_3 <= 2.00\n",
      "|   |   |   |   |   |   |   |   |   |   |   |--- value: [81.00]\n",
      "|   |   |   |   |   |   |   |   |   |   |--- feature_3 >  2.00\n",
      "|   |   |   |   |   |   |   |   |   |   |   |--- value: [112.00]\n",
      "|   |   |   |   |   |   |   |   |   |--- feature_5 >  2.50\n",
      "|   |   |   |   |   |   |   |   |   |   |--- feature_7 <= 0.42\n",
      "|   |   |   |   |   |   |   |   |   |   |   |--- value: [50.00]\n",
      "|   |   |   |   |   |   |   |   |   |   |--- feature_7 >  0.42\n",
      "|   |   |   |   |   |   |   |   |   |   |   |--- value: [2.00]\n",
      "|   |   |   |--- feature_3 >  4.50\n",
      "|   |   |   |   |--- feature_8 <= 0.39\n",
      "|   |   |   |   |   |--- value: [1807.00]\n",
      "|   |   |   |   |--- feature_8 >  0.39\n",
      "|   |   |   |   |   |--- feature_5 <= 1.50\n",
      "|   |   |   |   |   |   |--- feature_7 <= 0.37\n",
      "|   |   |   |   |   |   |   |--- feature_6 <= 0.35\n",
      "|   |   |   |   |   |   |   |   |--- value: [484.00]\n",
      "|   |   |   |   |   |   |   |--- feature_6 >  0.35\n",
      "|   |   |   |   |   |   |   |   |--- feature_7 <= 0.36\n",
      "|   |   |   |   |   |   |   |   |   |--- value: [709.00]\n",
      "|   |   |   |   |   |   |   |   |--- feature_7 >  0.36\n",
      "|   |   |   |   |   |   |   |   |   |--- value: [618.00]\n",
      "|   |   |   |   |   |   |--- feature_7 >  0.37\n",
      "|   |   |   |   |   |   |   |--- feature_6 <= 0.37\n",
      "|   |   |   |   |   |   |   |   |--- value: [1603.00]\n",
      "|   |   |   |   |   |   |   |--- feature_6 >  0.37\n",
      "|   |   |   |   |   |   |   |   |--- value: [1095.00]\n",
      "|   |   |   |   |   |--- feature_5 >  1.50\n",
      "|   |   |   |   |   |   |--- feature_7 <= 0.37\n",
      "|   |   |   |   |   |   |   |--- feature_7 <= 0.36\n",
      "|   |   |   |   |   |   |   |   |--- value: [178.00]\n",
      "|   |   |   |   |   |   |   |--- feature_7 >  0.36\n",
      "|   |   |   |   |   |   |   |   |--- value: [246.00]\n",
      "|   |   |   |   |   |   |--- feature_7 >  0.37\n",
      "|   |   |   |   |   |   |   |--- feature_6 <= 0.39\n",
      "|   |   |   |   |   |   |   |   |--- value: [796.00]\n",
      "|   |   |   |   |   |   |   |--- feature_6 >  0.39\n",
      "|   |   |   |   |   |   |   |   |--- feature_9 <= 0.19\n",
      "|   |   |   |   |   |   |   |   |   |--- value: [548.00]\n",
      "|   |   |   |   |   |   |   |   |--- feature_9 >  0.19\n",
      "|   |   |   |   |   |   |   |   |   |--- feature_0 <= 2.50\n",
      "|   |   |   |   |   |   |   |   |   |   |--- value: [447.00]\n",
      "|   |   |   |   |   |   |   |   |   |--- feature_0 >  2.50\n",
      "|   |   |   |   |   |   |   |   |   |   |--- value: [470.00]\n",
      "|--- feature_6 >  0.45\n",
      "|   |--- feature_4 <= 0.50\n",
      "|   |   |--- feature_8 <= 0.83\n",
      "|   |   |   |--- feature_1 <= 10.50\n",
      "|   |   |   |   |--- feature_9 <= 0.28\n",
      "|   |   |   |   |   |--- feature_7 <= 0.77\n",
      "|   |   |   |   |   |   |--- feature_8 <= 0.67\n",
      "|   |   |   |   |   |   |   |--- feature_9 <= 0.09\n",
      "|   |   |   |   |   |   |   |   |--- value: [3065.00]\n",
      "|   |   |   |   |   |   |   |--- feature_9 >  0.09\n",
      "|   |   |   |   |   |   |   |   |--- feature_8 <= 0.66\n",
      "|   |   |   |   |   |   |   |   |   |--- feature_9 <= 0.15\n",
      "|   |   |   |   |   |   |   |   |   |   |--- feature_9 <= 0.14\n",
      "|   |   |   |   |   |   |   |   |   |   |   |--- truncated branch of depth 8\n",
      "|   |   |   |   |   |   |   |   |   |   |--- feature_9 >  0.14\n",
      "|   |   |   |   |   |   |   |   |   |   |   |--- truncated branch of depth 3\n",
      "|   |   |   |   |   |   |   |   |   |--- feature_9 >  0.15\n",
      "|   |   |   |   |   |   |   |   |   |   |--- feature_9 <= 0.16\n",
      "|   |   |   |   |   |   |   |   |   |   |   |--- truncated branch of depth 4\n",
      "|   |   |   |   |   |   |   |   |   |   |--- feature_9 >  0.16\n",
      "|   |   |   |   |   |   |   |   |   |   |   |--- truncated branch of depth 10\n",
      "|   |   |   |   |   |   |   |   |--- feature_8 >  0.66\n",
      "|   |   |   |   |   |   |   |   |   |--- value: [3031.00]\n",
      "|   |   |   |   |   |   |--- feature_8 >  0.67\n",
      "|   |   |   |   |   |   |   |--- feature_7 <= 0.67\n",
      "|   |   |   |   |   |   |   |   |--- feature_7 <= 0.50\n",
      "|   |   |   |   |   |   |   |   |   |--- feature_1 <= 4.00\n",
      "|   |   |   |   |   |   |   |   |   |   |--- value: [2207.00]\n",
      "|   |   |   |   |   |   |   |   |   |--- feature_1 >  4.00\n",
      "|   |   |   |   |   |   |   |   |   |   |--- feature_8 <= 0.74\n",
      "|   |   |   |   |   |   |   |   |   |   |   |--- truncated branch of depth 2\n",
      "|   |   |   |   |   |   |   |   |   |   |--- feature_8 >  0.74\n",
      "|   |   |   |   |   |   |   |   |   |   |   |--- value: [1138.00]\n",
      "|   |   |   |   |   |   |   |   |--- feature_7 >  0.50\n",
      "|   |   |   |   |   |   |   |   |   |--- feature_0 <= 1.50\n",
      "|   |   |   |   |   |   |   |   |   |   |--- value: [3155.00]\n",
      "|   |   |   |   |   |   |   |   |   |--- feature_0 >  1.50\n",
      "|   |   |   |   |   |   |   |   |   |   |--- feature_6 <= 0.69\n",
      "|   |   |   |   |   |   |   |   |   |   |   |--- truncated branch of depth 7\n",
      "|   |   |   |   |   |   |   |   |   |   |--- feature_6 >  0.69\n",
      "|   |   |   |   |   |   |   |   |   |   |   |--- truncated branch of depth 6\n",
      "|   |   |   |   |   |   |   |--- feature_7 >  0.67\n",
      "|   |   |   |   |   |   |   |   |--- feature_6 <= 0.74\n",
      "|   |   |   |   |   |   |   |   |   |--- feature_3 <= 0.50\n",
      "|   |   |   |   |   |   |   |   |   |   |--- feature_7 <= 0.70\n",
      "|   |   |   |   |   |   |   |   |   |   |   |--- value: [1249.00]\n",
      "|   |   |   |   |   |   |   |   |   |   |--- feature_7 >  0.70\n",
      "|   |   |   |   |   |   |   |   |   |   |   |--- value: [1298.00]\n",
      "|   |   |   |   |   |   |   |   |   |--- feature_3 >  0.50\n",
      "|   |   |   |   |   |   |   |   |   |   |--- feature_2 <= 0.50\n",
      "|   |   |   |   |   |   |   |   |   |   |   |--- value: [1521.00]\n",
      "|   |   |   |   |   |   |   |   |   |   |--- feature_2 >  0.50\n",
      "|   |   |   |   |   |   |   |   |   |   |   |--- value: [1549.00]\n",
      "|   |   |   |   |   |   |   |   |--- feature_6 >  0.74\n",
      "|   |   |   |   |   |   |   |   |   |--- value: [1920.00]\n",
      "|   |   |   |   |   |--- feature_7 >  0.77\n",
      "|   |   |   |   |   |   |--- feature_7 <= 0.80\n",
      "|   |   |   |   |   |   |   |--- value: [1203.00]\n",
      "|   |   |   |   |   |   |--- feature_7 >  0.80\n",
      "|   |   |   |   |   |   |   |--- value: [987.00]\n",
      "|   |   |   |   |--- feature_9 >  0.28\n",
      "|   |   |   |   |   |--- feature_6 <= 0.47\n",
      "|   |   |   |   |   |   |--- value: [1558.00]\n",
      "|   |   |   |   |   |--- feature_6 >  0.47\n",
      "|   |   |   |   |   |   |--- feature_6 <= 0.57\n",
      "|   |   |   |   |   |   |   |--- value: [998.00]\n",
      "|   |   |   |   |   |   |--- feature_6 >  0.57\n",
      "|   |   |   |   |   |   |   |--- value: [1198.00]\n",
      "|   |   |   |--- feature_1 >  10.50\n",
      "|   |   |   |   |--- feature_6 <= 0.47\n",
      "|   |   |   |   |   |--- value: [787.00]\n",
      "|   |   |   |   |--- feature_6 >  0.47\n",
      "|   |   |   |   |   |--- value: [1097.00]\n",
      "|   |   |--- feature_8 >  0.83\n",
      "|   |   |   |--- feature_9 <= 0.30\n",
      "|   |   |   |   |--- feature_3 <= 3.00\n",
      "|   |   |   |   |   |--- feature_9 <= 0.19\n",
      "|   |   |   |   |   |   |--- value: [1582.00]\n",
      "|   |   |   |   |   |--- feature_9 >  0.19\n",
      "|   |   |   |   |   |   |--- value: [1483.00]\n",
      "|   |   |   |   |--- feature_3 >  3.00\n",
      "|   |   |   |   |   |--- feature_9 <= 0.21\n",
      "|   |   |   |   |   |   |--- feature_6 <= 0.51\n",
      "|   |   |   |   |   |   |   |--- value: [1033.00]\n",
      "|   |   |   |   |   |   |--- feature_6 >  0.51\n",
      "|   |   |   |   |   |   |   |--- value: [902.00]\n",
      "|   |   |   |   |   |--- feature_9 >  0.21\n",
      "|   |   |   |   |   |   |--- value: [1462.00]\n",
      "|   |   |   |--- feature_9 >  0.30\n",
      "|   |   |   |   |--- value: [226.00]\n",
      "|   |--- feature_4 >  0.50\n",
      "|   |   |--- feature_8 <= 0.83\n",
      "|   |   |   |--- feature_3 <= 4.50\n",
      "|   |   |   |   |--- feature_7 <= 0.53\n",
      "|   |   |   |   |   |--- feature_9 <= 0.10\n",
      "|   |   |   |   |   |   |--- feature_7 <= 0.47\n",
      "|   |   |   |   |   |   |   |--- value: [1348.00]\n",
      "|   |   |   |   |   |   |--- feature_7 >  0.47\n",
      "|   |   |   |   |   |   |   |--- feature_6 <= 0.53\n",
      "|   |   |   |   |   |   |   |   |--- feature_7 <= 0.50\n",
      "|   |   |   |   |   |   |   |   |   |--- feature_8 <= 0.59\n",
      "|   |   |   |   |   |   |   |   |   |   |--- value: [830.00]\n",
      "|   |   |   |   |   |   |   |   |   |--- feature_8 >  0.59\n",
      "|   |   |   |   |   |   |   |   |   |   |--- value: [846.00]\n",
      "|   |   |   |   |   |   |   |   |--- feature_7 >  0.50\n",
      "|   |   |   |   |   |   |   |   |   |--- value: [763.00]\n",
      "|   |   |   |   |   |   |   |--- feature_6 >  0.53\n",
      "|   |   |   |   |   |   |   |   |--- value: [1122.00]\n",
      "|   |   |   |   |   |--- feature_9 >  0.10\n",
      "|   |   |   |   |   |   |--- feature_9 <= 0.23\n",
      "|   |   |   |   |   |   |   |--- feature_3 <= 2.50\n",
      "|   |   |   |   |   |   |   |   |--- feature_8 <= 0.64\n",
      "|   |   |   |   |   |   |   |   |   |--- feature_9 <= 0.18\n",
      "|   |   |   |   |   |   |   |   |   |   |--- feature_1 <= 7.50\n",
      "|   |   |   |   |   |   |   |   |   |   |   |--- truncated branch of depth 3\n",
      "|   |   |   |   |   |   |   |   |   |   |--- feature_1 >  7.50\n",
      "|   |   |   |   |   |   |   |   |   |   |   |--- truncated branch of depth 2\n",
      "|   |   |   |   |   |   |   |   |   |--- feature_9 >  0.18\n",
      "|   |   |   |   |   |   |   |   |   |   |--- feature_8 <= 0.52\n",
      "|   |   |   |   |   |   |   |   |   |   |   |--- value: [838.00]\n",
      "|   |   |   |   |   |   |   |   |   |   |--- feature_8 >  0.52\n",
      "|   |   |   |   |   |   |   |   |   |   |   |--- value: [922.00]\n",
      "|   |   |   |   |   |   |   |   |--- feature_8 >  0.64\n",
      "|   |   |   |   |   |   |   |   |   |--- feature_9 <= 0.14\n",
      "|   |   |   |   |   |   |   |   |   |   |--- feature_8 <= 0.74\n",
      "|   |   |   |   |   |   |   |   |   |   |   |--- value: [637.00]\n",
      "|   |   |   |   |   |   |   |   |   |   |--- feature_8 >  0.74\n",
      "|   |   |   |   |   |   |   |   |   |   |   |--- value: [699.00]\n",
      "|   |   |   |   |   |   |   |   |   |--- feature_9 >  0.14\n",
      "|   |   |   |   |   |   |   |   |   |   |--- feature_8 <= 0.69\n",
      "|   |   |   |   |   |   |   |   |   |   |   |--- value: [409.00]\n",
      "|   |   |   |   |   |   |   |   |   |   |--- feature_8 >  0.69\n",
      "|   |   |   |   |   |   |   |   |   |   |   |--- value: [486.00]\n",
      "|   |   |   |   |   |   |   |--- feature_3 >  2.50\n",
      "|   |   |   |   |   |   |   |   |--- feature_7 <= 0.50\n",
      "|   |   |   |   |   |   |   |   |   |--- feature_9 <= 0.13\n",
      "|   |   |   |   |   |   |   |   |   |   |--- value: [655.00]\n",
      "|   |   |   |   |   |   |   |   |   |--- feature_9 >  0.13\n",
      "|   |   |   |   |   |   |   |   |   |   |--- feature_6 <= 0.46\n",
      "|   |   |   |   |   |   |   |   |   |   |   |--- value: [516.00]\n",
      "|   |   |   |   |   |   |   |   |   |   |--- feature_6 >  0.46\n",
      "|   |   |   |   |   |   |   |   |   |   |   |--- truncated branch of depth 4\n",
      "|   |   |   |   |   |   |   |   |--- feature_7 >  0.50\n",
      "|   |   |   |   |   |   |   |   |   |--- feature_8 <= 0.70\n",
      "|   |   |   |   |   |   |   |   |   |   |--- feature_6 <= 0.54\n",
      "|   |   |   |   |   |   |   |   |   |   |   |--- value: [559.00]\n",
      "|   |   |   |   |   |   |   |   |   |   |--- feature_6 >  0.54\n",
      "|   |   |   |   |   |   |   |   |   |   |   |--- value: [550.00]\n",
      "|   |   |   |   |   |   |   |   |   |--- feature_8 >  0.70\n",
      "|   |   |   |   |   |   |   |   |   |   |--- feature_7 <= 0.52\n",
      "|   |   |   |   |   |   |   |   |   |   |   |--- value: [735.00]\n",
      "|   |   |   |   |   |   |   |   |   |   |--- feature_7 >  0.52\n",
      "|   |   |   |   |   |   |   |   |   |   |   |--- value: [695.00]\n",
      "|   |   |   |   |   |   |--- feature_9 >  0.23\n",
      "|   |   |   |   |   |   |   |--- feature_7 <= 0.47\n",
      "|   |   |   |   |   |   |   |   |--- feature_7 <= 0.46\n",
      "|   |   |   |   |   |   |   |   |   |--- feature_9 <= 0.31\n",
      "|   |   |   |   |   |   |   |   |   |   |--- value: [614.00]\n",
      "|   |   |   |   |   |   |   |   |   |--- feature_9 >  0.31\n",
      "|   |   |   |   |   |   |   |   |   |   |--- value: [745.00]\n",
      "|   |   |   |   |   |   |   |   |--- feature_7 >  0.46\n",
      "|   |   |   |   |   |   |   |   |   |--- value: [471.00]\n",
      "|   |   |   |   |   |   |   |--- feature_7 >  0.47\n",
      "|   |   |   |   |   |   |   |   |--- feature_1 <= 4.50\n",
      "|   |   |   |   |   |   |   |   |   |--- feature_3 <= 2.50\n",
      "|   |   |   |   |   |   |   |   |   |   |--- value: [905.00]\n",
      "|   |   |   |   |   |   |   |   |   |--- feature_3 >  2.50\n",
      "|   |   |   |   |   |   |   |   |   |   |--- value: [834.00]\n",
      "|   |   |   |   |   |   |   |   |--- feature_1 >  4.50\n",
      "|   |   |   |   |   |   |   |   |   |--- value: [1008.00]\n",
      "|   |   |   |   |--- feature_7 >  0.53\n",
      "|   |   |   |   |   |--- feature_9 <= 0.13\n",
      "|   |   |   |   |   |   |--- feature_7 <= 0.72\n",
      "|   |   |   |   |   |   |   |--- feature_6 <= 0.68\n",
      "|   |   |   |   |   |   |   |   |--- feature_8 <= 0.82\n",
      "|   |   |   |   |   |   |   |   |   |--- feature_9 <= 0.09\n",
      "|   |   |   |   |   |   |   |   |   |   |--- feature_6 <= 0.63\n",
      "|   |   |   |   |   |   |   |   |   |   |   |--- truncated branch of depth 2\n",
      "|   |   |   |   |   |   |   |   |   |   |--- feature_6 >  0.63\n",
      "|   |   |   |   |   |   |   |   |   |   |   |--- truncated branch of depth 2\n",
      "|   |   |   |   |   |   |   |   |   |--- feature_9 >  0.09\n",
      "|   |   |   |   |   |   |   |   |   |   |--- feature_6 <= 0.64\n",
      "|   |   |   |   |   |   |   |   |   |   |   |--- truncated branch of depth 6\n",
      "|   |   |   |   |   |   |   |   |   |   |--- feature_6 >  0.64\n",
      "|   |   |   |   |   |   |   |   |   |   |   |--- truncated branch of depth 3\n",
      "|   |   |   |   |   |   |   |   |--- feature_8 >  0.82\n",
      "|   |   |   |   |   |   |   |   |   |--- value: [1334.00]\n",
      "|   |   |   |   |   |   |   |--- feature_6 >  0.68\n",
      "|   |   |   |   |   |   |   |   |--- feature_9 <= 0.12\n",
      "|   |   |   |   |   |   |   |   |   |--- feature_6 <= 0.69\n",
      "|   |   |   |   |   |   |   |   |   |   |--- value: [1177.00]\n",
      "|   |   |   |   |   |   |   |   |   |--- feature_6 >  0.69\n",
      "|   |   |   |   |   |   |   |   |   |   |--- feature_3 <= 3.50\n",
      "|   |   |   |   |   |   |   |   |   |   |   |--- truncated branch of depth 2\n",
      "|   |   |   |   |   |   |   |   |   |   |--- feature_3 >  3.50\n",
      "|   |   |   |   |   |   |   |   |   |   |   |--- value: [1363.00]\n",
      "|   |   |   |   |   |   |   |   |--- feature_9 >  0.12\n",
      "|   |   |   |   |   |   |   |   |   |--- feature_9 <= 0.13\n",
      "|   |   |   |   |   |   |   |   |   |   |--- feature_7 <= 0.68\n",
      "|   |   |   |   |   |   |   |   |   |   |   |--- value: [989.00]\n",
      "|   |   |   |   |   |   |   |   |   |   |--- feature_7 >  0.68\n",
      "|   |   |   |   |   |   |   |   |   |   |   |--- truncated branch of depth 2\n",
      "|   |   |   |   |   |   |   |   |   |--- feature_9 >  0.13\n",
      "|   |   |   |   |   |   |   |   |   |   |--- value: [1233.00]\n",
      "|   |   |   |   |   |   |--- feature_7 >  0.72\n",
      "|   |   |   |   |   |   |   |--- feature_6 <= 0.78\n",
      "|   |   |   |   |   |   |   |   |--- feature_0 <= 2.50\n",
      "|   |   |   |   |   |   |   |   |   |--- value: [673.00]\n",
      "|   |   |   |   |   |   |   |   |--- feature_0 >  2.50\n",
      "|   |   |   |   |   |   |   |   |   |--- value: [568.00]\n",
      "|   |   |   |   |   |   |   |--- feature_6 >  0.78\n",
      "|   |   |   |   |   |   |   |   |--- feature_9 <= 0.12\n",
      "|   |   |   |   |   |   |   |   |   |--- feature_7 <= 0.74\n",
      "|   |   |   |   |   |   |   |   |   |   |--- value: [872.00]\n",
      "|   |   |   |   |   |   |   |   |   |--- feature_7 >  0.74\n",
      "|   |   |   |   |   |   |   |   |   |   |--- value: [921.00]\n",
      "|   |   |   |   |   |   |   |   |--- feature_9 >  0.12\n",
      "|   |   |   |   |   |   |   |   |   |--- value: [778.00]\n",
      "|   |   |   |   |   |--- feature_9 >  0.13\n",
      "|   |   |   |   |   |   |--- feature_8 <= 0.53\n",
      "|   |   |   |   |   |   |   |--- feature_6 <= 0.81\n",
      "|   |   |   |   |   |   |   |   |--- feature_9 <= 0.15\n",
      "|   |   |   |   |   |   |   |   |   |--- value: [1281.00]\n",
      "|   |   |   |   |   |   |   |   |--- feature_9 >  0.15\n",
      "|   |   |   |   |   |   |   |   |   |--- feature_8 <= 0.51\n",
      "|   |   |   |   |   |   |   |   |   |   |--- feature_1 <= 6.50\n",
      "|   |   |   |   |   |   |   |   |   |   |   |--- truncated branch of depth 6\n",
      "|   |   |   |   |   |   |   |   |   |   |--- feature_1 >  6.50\n",
      "|   |   |   |   |   |   |   |   |   |   |   |--- truncated branch of depth 4\n",
      "|   |   |   |   |   |   |   |   |   |--- feature_8 >  0.51\n",
      "|   |   |   |   |   |   |   |   |   |   |--- feature_0 <= 2.50\n",
      "|   |   |   |   |   |   |   |   |   |   |   |--- value: [1242.00]\n",
      "|   |   |   |   |   |   |   |   |   |   |--- feature_0 >  2.50\n",
      "|   |   |   |   |   |   |   |   |   |   |   |--- value: [1032.00]\n",
      "|   |   |   |   |   |   |   |--- feature_6 >  0.81\n",
      "|   |   |   |   |   |   |   |   |--- value: [1405.00]\n",
      "|   |   |   |   |   |   |--- feature_8 >  0.53\n",
      "|   |   |   |   |   |   |   |--- feature_5 <= 1.50\n",
      "|   |   |   |   |   |   |   |   |--- feature_9 <= 0.17\n",
      "|   |   |   |   |   |   |   |   |   |--- feature_9 <= 0.17\n",
      "|   |   |   |   |   |   |   |   |   |   |--- feature_3 <= 3.50\n",
      "|   |   |   |   |   |   |   |   |   |   |   |--- truncated branch of depth 7\n",
      "|   |   |   |   |   |   |   |   |   |   |--- feature_3 >  3.50\n",
      "|   |   |   |   |   |   |   |   |   |   |   |--- truncated branch of depth 2\n",
      "|   |   |   |   |   |   |   |   |   |--- feature_9 >  0.17\n",
      "|   |   |   |   |   |   |   |   |   |   |--- feature_9 <= 0.17\n",
      "|   |   |   |   |   |   |   |   |   |   |   |--- value: [1128.00]\n",
      "|   |   |   |   |   |   |   |   |   |   |--- feature_9 >  0.17\n",
      "|   |   |   |   |   |   |   |   |   |   |   |--- value: [1198.00]\n",
      "|   |   |   |   |   |   |   |   |--- feature_9 >  0.17\n",
      "|   |   |   |   |   |   |   |   |   |--- feature_7 <= 0.73\n",
      "|   |   |   |   |   |   |   |   |   |   |--- feature_7 <= 0.66\n",
      "|   |   |   |   |   |   |   |   |   |   |   |--- truncated branch of depth 7\n",
      "|   |   |   |   |   |   |   |   |   |   |--- feature_7 >  0.66\n",
      "|   |   |   |   |   |   |   |   |   |   |   |--- truncated branch of depth 5\n",
      "|   |   |   |   |   |   |   |   |   |--- feature_7 >  0.73\n",
      "|   |   |   |   |   |   |   |   |   |   |--- feature_3 <= 3.00\n",
      "|   |   |   |   |   |   |   |   |   |   |   |--- value: [662.00]\n",
      "|   |   |   |   |   |   |   |   |   |   |--- feature_3 >  3.00\n",
      "|   |   |   |   |   |   |   |   |   |   |   |--- value: [606.00]\n",
      "|   |   |   |   |   |   |   |--- feature_5 >  1.50\n",
      "|   |   |   |   |   |   |   |   |--- feature_3 <= 1.50\n",
      "|   |   |   |   |   |   |   |   |   |--- feature_8 <= 0.76\n",
      "|   |   |   |   |   |   |   |   |   |   |--- feature_6 <= 0.57\n",
      "|   |   |   |   |   |   |   |   |   |   |   |--- truncated branch of depth 2\n",
      "|   |   |   |   |   |   |   |   |   |   |--- feature_6 >  0.57\n",
      "|   |   |   |   |   |   |   |   |   |   |   |--- truncated branch of depth 4\n",
      "|   |   |   |   |   |   |   |   |   |--- feature_8 >  0.76\n",
      "|   |   |   |   |   |   |   |   |   |   |--- feature_7 <= 0.56\n",
      "|   |   |   |   |   |   |   |   |   |   |   |--- value: [653.00]\n",
      "|   |   |   |   |   |   |   |   |   |   |--- feature_7 >  0.56\n",
      "|   |   |   |   |   |   |   |   |   |   |   |--- value: [630.00]\n",
      "|   |   |   |   |   |   |   |   |--- feature_3 >  1.50\n",
      "|   |   |   |   |   |   |   |   |   |--- feature_9 <= 0.19\n",
      "|   |   |   |   |   |   |   |   |   |   |--- feature_9 <= 0.15\n",
      "|   |   |   |   |   |   |   |   |   |   |   |--- truncated branch of depth 5\n",
      "|   |   |   |   |   |   |   |   |   |   |--- feature_9 >  0.15\n",
      "|   |   |   |   |   |   |   |   |   |   |   |--- truncated branch of depth 3\n",
      "|   |   |   |   |   |   |   |   |   |--- feature_9 >  0.19\n",
      "|   |   |   |   |   |   |   |   |   |   |--- feature_1 <= 8.00\n",
      "|   |   |   |   |   |   |   |   |   |   |   |--- truncated branch of depth 5\n",
      "|   |   |   |   |   |   |   |   |   |   |--- feature_1 >  8.00\n",
      "|   |   |   |   |   |   |   |   |   |   |   |--- value: [428.00]\n",
      "|   |   |   |--- feature_3 >  4.50\n",
      "|   |   |   |   |--- feature_1 <= 4.00\n",
      "|   |   |   |   |   |--- value: [2469.00]\n",
      "|   |   |   |   |--- feature_1 >  4.00\n",
      "|   |   |   |   |   |--- feature_8 <= 0.72\n",
      "|   |   |   |   |   |   |--- feature_9 <= 0.12\n",
      "|   |   |   |   |   |   |   |--- feature_9 <= 0.08\n",
      "|   |   |   |   |   |   |   |   |--- value: [1325.00]\n",
      "|   |   |   |   |   |   |   |--- feature_9 >  0.08\n",
      "|   |   |   |   |   |   |   |   |--- feature_8 <= 0.65\n",
      "|   |   |   |   |   |   |   |   |   |--- feature_7 <= 0.62\n",
      "|   |   |   |   |   |   |   |   |   |   |--- value: [1516.00]\n",
      "|   |   |   |   |   |   |   |   |   |--- feature_7 >  0.62\n",
      "|   |   |   |   |   |   |   |   |   |   |--- value: [1511.00]\n",
      "|   |   |   |   |   |   |   |   |--- feature_8 >  0.65\n",
      "|   |   |   |   |   |   |   |   |   |--- value: [1379.00]\n",
      "|   |   |   |   |   |   |--- feature_9 >  0.12\n",
      "|   |   |   |   |   |   |   |--- feature_6 <= 0.83\n",
      "|   |   |   |   |   |   |   |   |--- feature_1 <= 6.50\n",
      "|   |   |   |   |   |   |   |   |   |--- feature_8 <= 0.52\n",
      "|   |   |   |   |   |   |   |   |   |   |--- feature_8 <= 0.36\n",
      "|   |   |   |   |   |   |   |   |   |   |   |--- value: [898.00]\n",
      "|   |   |   |   |   |   |   |   |   |   |--- feature_8 >  0.36\n",
      "|   |   |   |   |   |   |   |   |   |   |   |--- truncated branch of depth 2\n",
      "|   |   |   |   |   |   |   |   |   |--- feature_8 >  0.52\n",
      "|   |   |   |   |   |   |   |   |   |   |--- feature_8 <= 0.58\n",
      "|   |   |   |   |   |   |   |   |   |   |   |--- truncated branch of depth 2\n",
      "|   |   |   |   |   |   |   |   |   |   |--- feature_8 >  0.58\n",
      "|   |   |   |   |   |   |   |   |   |   |   |--- truncated branch of depth 3\n",
      "|   |   |   |   |   |   |   |   |--- feature_1 >  6.50\n",
      "|   |   |   |   |   |   |   |   |   |--- feature_6 <= 0.72\n",
      "|   |   |   |   |   |   |   |   |   |   |--- feature_6 <= 0.69\n",
      "|   |   |   |   |   |   |   |   |   |   |   |--- truncated branch of depth 2\n",
      "|   |   |   |   |   |   |   |   |   |   |--- feature_6 >  0.69\n",
      "|   |   |   |   |   |   |   |   |   |   |   |--- truncated branch of depth 3\n",
      "|   |   |   |   |   |   |   |   |   |--- feature_6 >  0.72\n",
      "|   |   |   |   |   |   |   |   |   |   |--- feature_6 <= 0.80\n",
      "|   |   |   |   |   |   |   |   |   |   |   |--- truncated branch of depth 2\n",
      "|   |   |   |   |   |   |   |   |   |   |--- feature_6 >  0.80\n",
      "|   |   |   |   |   |   |   |   |   |   |   |--- value: [1366.00]\n",
      "|   |   |   |   |   |   |   |--- feature_6 >  0.83\n",
      "|   |   |   |   |   |   |   |   |--- feature_8 <= 0.52\n",
      "|   |   |   |   |   |   |   |   |   |--- value: [829.00]\n",
      "|   |   |   |   |   |   |   |   |--- feature_8 >  0.52\n",
      "|   |   |   |   |   |   |   |   |   |--- value: [670.00]\n",
      "|   |   |   |   |   |--- feature_8 >  0.72\n",
      "|   |   |   |   |   |   |--- feature_9 <= 0.20\n",
      "|   |   |   |   |   |   |   |--- feature_1 <= 5.50\n",
      "|   |   |   |   |   |   |   |   |--- feature_6 <= 0.61\n",
      "|   |   |   |   |   |   |   |   |   |--- value: [909.00]\n",
      "|   |   |   |   |   |   |   |   |--- feature_6 >  0.61\n",
      "|   |   |   |   |   |   |   |   |   |--- value: [1417.00]\n",
      "|   |   |   |   |   |   |   |--- feature_1 >  5.50\n",
      "|   |   |   |   |   |   |   |   |--- feature_6 <= 0.55\n",
      "|   |   |   |   |   |   |   |   |   |--- value: [1182.00]\n",
      "|   |   |   |   |   |   |   |   |--- feature_6 >  0.55\n",
      "|   |   |   |   |   |   |   |   |   |--- feature_6 <= 0.70\n",
      "|   |   |   |   |   |   |   |   |   |   |--- feature_9 <= 0.14\n",
      "|   |   |   |   |   |   |   |   |   |   |   |--- truncated branch of depth 2\n",
      "|   |   |   |   |   |   |   |   |   |   |--- feature_9 >  0.14\n",
      "|   |   |   |   |   |   |   |   |   |   |   |--- truncated branch of depth 2\n",
      "|   |   |   |   |   |   |   |   |   |--- feature_6 >  0.70\n",
      "|   |   |   |   |   |   |   |   |   |   |--- value: [1045.00]\n",
      "|   |   |   |   |   |   |--- feature_9 >  0.20\n",
      "|   |   |   |   |   |   |   |--- feature_8 <= 0.74\n",
      "|   |   |   |   |   |   |   |   |--- value: [529.00]\n",
      "|   |   |   |   |   |   |   |--- feature_8 >  0.74\n",
      "|   |   |   |   |   |   |   |   |--- value: [533.00]\n",
      "|   |   |--- feature_8 >  0.83\n",
      "|   |   |   |--- feature_5 <= 2.50\n",
      "|   |   |   |   |--- feature_9 <= 0.10\n",
      "|   |   |   |   |   |--- value: [258.00]\n",
      "|   |   |   |   |--- feature_9 >  0.10\n",
      "|   |   |   |   |   |--- feature_1 <= 5.50\n",
      "|   |   |   |   |   |   |--- feature_9 <= 0.19\n",
      "|   |   |   |   |   |   |   |--- value: [692.00]\n",
      "|   |   |   |   |   |   |--- feature_9 >  0.19\n",
      "|   |   |   |   |   |   |   |--- feature_3 <= 2.50\n",
      "|   |   |   |   |   |   |   |   |--- value: [678.00]\n",
      "|   |   |   |   |   |   |   |--- feature_3 >  2.50\n",
      "|   |   |   |   |   |   |   |   |--- feature_7 <= 0.55\n",
      "|   |   |   |   |   |   |   |   |   |--- value: [536.00]\n",
      "|   |   |   |   |   |   |   |   |--- feature_7 >  0.55\n",
      "|   |   |   |   |   |   |   |   |   |--- value: [547.00]\n",
      "|   |   |   |   |   |--- feature_1 >  5.50\n",
      "|   |   |   |   |   |   |--- feature_8 <= 0.89\n",
      "|   |   |   |   |   |   |   |--- feature_7 <= 0.55\n",
      "|   |   |   |   |   |   |   |   |--- value: [438.00]\n",
      "|   |   |   |   |   |   |   |--- feature_7 >  0.55\n",
      "|   |   |   |   |   |   |   |   |--- feature_6 <= 0.64\n",
      "|   |   |   |   |   |   |   |   |   |--- value: [480.00]\n",
      "|   |   |   |   |   |   |   |   |--- feature_6 >  0.64\n",
      "|   |   |   |   |   |   |   |   |   |--- value: [477.00]\n",
      "|   |   |   |   |   |   |--- feature_8 >  0.89\n",
      "|   |   |   |   |   |   |   |--- value: [555.00]\n",
      "|   |   |   |--- feature_5 >  2.50\n",
      "|   |   |   |   |--- feature_8 <= 0.93\n",
      "|   |   |   |   |   |--- feature_8 <= 0.88\n",
      "|   |   |   |   |   |   |--- value: [315.00]\n",
      "|   |   |   |   |   |--- feature_8 >  0.88\n",
      "|   |   |   |   |   |   |--- feature_9 <= 0.25\n",
      "|   |   |   |   |   |   |   |--- value: [254.00]\n",
      "|   |   |   |   |   |   |--- feature_9 >  0.25\n",
      "|   |   |   |   |   |   |   |--- feature_8 <= 0.90\n",
      "|   |   |   |   |   |   |   |   |--- value: [204.00]\n",
      "|   |   |   |   |   |   |   |--- feature_8 >  0.90\n",
      "|   |   |   |   |   |   |   |   |--- value: [217.00]\n",
      "|   |   |   |   |--- feature_8 >  0.93\n",
      "|   |   |   |   |   |--- value: [126.00]\n",
      "\n"
     ]
    }
   ],
   "source": [
    "from sklearn.tree import DecisionTreeRegressor\n",
    "from sklearn.tree import export_text\n",
    "\n",
    "# Train the model\n",
    "model = DecisionTreeRegressor().fit(X_train, y_train)\n",
    "print (model, \"\\n\")\n",
    "\n",
    "# Visualize the model tree\n",
    "tree = export_text(model)\n",
    "print(tree)"
   ]
  },
  {
   "cell_type": "markdown",
   "metadata": {
    "id": "NOBG9Mn9lK5D"
   },
   "source": [
    "So now we have a tree-based model; but is it any good? Let's evaluate it with the test data.\n",
    "\n"
   ]
  },
  {
   "cell_type": "code",
   "execution_count": 18,
   "metadata": {
    "colab": {
     "base_uri": "https://localhost:8080/",
     "height": 347
    },
    "id": "8FgKLCPolLYN",
    "outputId": "8cc9f145-f5d2-4cc7-b00c-62fec60e3038"
   },
   "outputs": [
    {
     "name": "stdout",
     "output_type": "stream",
     "text": [
      "MSE: 271589.9636363636\n",
      "RMSE: 521.1429397356964\n",
      "R2: 0.4675649222663396\n"
     ]
    },
    {
     "data": {
      "image/png": "[encoded data removed]",
      "text/plain": [
       "<Figure size 432x288 with 1 Axes>"
      ]
     },
     "metadata": {
      "needs_background": "light"
     },
     "output_type": "display_data"
    }
   ],
   "source": [
    "# Evaluate the model using the test data\n",
    "predictions = model.predict(X_test)\n",
    "mse = mean_squared_error(y_test, predictions)\n",
    "print(\"MSE:\", mse)\n",
    "rmse = np.sqrt(mse)\n",
    "print(\"RMSE:\", rmse)\n",
    "r2 = r2_score(y_test, predictions)\n",
    "print(\"R2:\", r2)\n",
    "\n",
    "# Plot predicted vs actual\n",
    "plt.scatter(y_test, predictions)\n",
    "plt.xlabel('Actual Labels')\n",
    "plt.ylabel('Predicted Labels')\n",
    "plt.title('Daily Bike Share Predictions')\n",
    "# overlay the regression line\n",
    "z = np.polyfit(y_test, predictions, 1)\n",
    "p = np.poly1d(z)\n",
    "plt.plot(y_test,p(y_test), color='magenta')\n",
    "plt.show()"
   ]
  },
  {
   "cell_type": "markdown",
   "metadata": {
    "id": "95sgILtMlPU9"
   },
   "source": [
    "The tree-based model doesn't seem to have improved over the linear model, so what else could we try?\n",
    "\n",
    "<h2> Try an Ensemble Algorithm </h2>\n",
    "\n",
    "Ensemble algorithms work by combining multiple base estimators to produce an optimal model, either by applying an aggregate function to a collection of base models (sometimes referred to a bagging) or by building a sequence of models that build on one another to improve predictive performance (referred to as boosting).\n",
    "\n",
    "For example, let's try a Random Forest model, which applies an averaging function to multiple Decision Tree models for a better overall model.\n",
    "\n"
   ]
  },
  {
   "cell_type": "code",
   "execution_count": 19,
   "metadata": {
    "colab": {
     "base_uri": "https://localhost:8080/",
     "height": 382
    },
    "id": "s1ktcQ-glW4Z",
    "outputId": "a65bc4e0-5ec7-4cc6-d2a1-cba03258e08e"
   },
   "outputs": [
    {
     "name": "stdout",
     "output_type": "stream",
     "text": [
      "RandomForestRegressor() \n",
      "\n",
      "MSE: 111705.20369954545\n",
      "RMSE: 334.2232841971748\n",
      "R2: 0.7810089591725305\n"
     ]
    },
    {
     "data": {
      "image/png": "[encoded data removed]",
      "text/plain": [
       "<Figure size 432x288 with 1 Axes>"
      ]
     },
     "metadata": {
      "needs_background": "light"
     },
     "output_type": "display_data"
    }
   ],
   "source": [
    "from sklearn.ensemble import RandomForestRegressor\n",
    "\n",
    "# Train the model\n",
    "model = RandomForestRegressor().fit(X_train, y_train)\n",
    "print (model, \"\\n\")\n",
    "\n",
    "# Evaluate the model using the test data\n",
    "predictions = model.predict(X_test)\n",
    "mse = mean_squared_error(y_test, predictions)\n",
    "print(\"MSE:\", mse)\n",
    "rmse = np.sqrt(mse)\n",
    "print(\"RMSE:\", rmse)\n",
    "r2 = r2_score(y_test, predictions)\n",
    "print(\"R2:\", r2)\n",
    "\n",
    "# Plot predicted vs actual\n",
    "plt.scatter(y_test, predictions)\n",
    "plt.xlabel('Actual Labels')\n",
    "plt.ylabel('Predicted Labels')\n",
    "plt.title('Daily Bike Share Predictions')\n",
    "# overlay the regression line\n",
    "z = np.polyfit(y_test, predictions, 1)\n",
    "p = np.poly1d(z)\n",
    "plt.plot(y_test,p(y_test), color='magenta')\n",
    "plt.show()"
   ]
  },
  {
   "cell_type": "markdown",
   "metadata": {
    "id": "_0sjzvjulWYW"
   },
   "source": [
    "For good measure, let's also try a boosting ensemble algorithm. We'll use a Gradient Boosting estimator, which like a Random Forest algorithm builds multiple trees, but instead of building them all independently and taking the average result, each tree is built on the outputs of the previous one in an attempt to incrementally reduce the loss (error) in the model."
   ]
  },
  {
   "cell_type": "code",
   "execution_count": 20,
   "metadata": {
    "colab": {
     "base_uri": "https://localhost:8080/",
     "height": 382
    },
    "id": "UEJWaSq0lc-D",
    "outputId": "26f92878-0c9e-4db0-ec60-1ab4ddd3db4e"
   },
   "outputs": [
    {
     "name": "stdout",
     "output_type": "stream",
     "text": [
      "GradientBoostingRegressor() \n",
      "\n",
      "MSE: 104111.39600673612\n",
      "RMSE: 322.66297588464676\n",
      "R2: 0.7958961425392507\n"
     ]
    },
    {
     "data": {
      "image/png": "[encoded data removed]",
      "text/plain": [
       "<Figure size 432x288 with 1 Axes>"
      ]
     },
     "metadata": {
      "needs_background": "light"
     },
     "output_type": "display_data"
    }
   ],
   "source": [
    "# Train the model\n",
    "from sklearn.ensemble import GradientBoostingRegressor\n",
    "\n",
    "# Fit a lasso model on the training set\n",
    "model = GradientBoostingRegressor().fit(X_train, y_train)\n",
    "print (model, \"\\n\")\n",
    "\n",
    "# Evaluate the model using the test data\n",
    "predictions = model.predict(X_test)\n",
    "mse = mean_squared_error(y_test, predictions)\n",
    "print(\"MSE:\", mse)\n",
    "rmse = np.sqrt(mse)\n",
    "print(\"RMSE:\", rmse)\n",
    "r2 = r2_score(y_test, predictions)\n",
    "print(\"R2:\", r2)\n",
    "\n",
    "# Plot predicted vs actual\n",
    "plt.scatter(y_test, predictions)\n",
    "plt.xlabel('Actual Labels')\n",
    "plt.ylabel('Predicted Labels')\n",
    "plt.title('Daily Bike Share Predictions')\n",
    "# overlay the regression line\n",
    "z = np.polyfit(y_test, predictions, 1)\n",
    "p = np.poly1d(z)\n",
    "plt.plot(y_test,p(y_test), color='magenta')\n",
    "plt.show()"
   ]
  },
  {
   "cell_type": "markdown",
   "metadata": {
    "id": "3iqw-om0ljur"
   },
   "source": [
    "<hr></hr>"
   ]
  },
  {
   "cell_type": "markdown",
   "metadata": {
    "id": "4ARjzExpllUS"
   },
   "source": [
    "<center><h1> Improve models with hyperparameters</h1></center>\n",
    "\n",
    "\n",
    "Simple models with small datasets can often be fit in a single step, while larger datasets and more complex models must be fit by repeatedly using the model with training data and comparing the output with the expected label. If the prediction is accurate enough, we consider the model trained. If not, we adjust the model slightly and loop again.\n",
    "\n",
    "Hyperparameters are values that change the way that the model is fit during these loops. Learning rate, for example, is a hyperparameter that sets how much a model is adjusted during each training cycle. A high learning rate means a model can be trained faster, but if it’s too high the adjustments can be so large that the model is never ‘finely tuned’ and not optimal.\n",
    "\n"
   ]
  },
  {
   "cell_type": "markdown",
   "metadata": {
    "id": "e4I3kpDplvYP"
   },
   "source": [
    "<h2>Preprocessing data</h2>\n",
    "\n",
    "Preprocessing refers to changes you make to your data before it is passed to the model. We have previously read that preprocessing can involve cleaning your dataset. While this is important, preprocessing can also include changing the format of your data, so it's easier for the model to use. For example, data described as ‘red’, ‘orange’, ‘yellow’, ‘lime’, and ‘green’, may work better if converted into a format more native to computers, such as numbers stating the amount of red and the amount of green.\n",
    "\n",
    "<h2>Scaling features</h2>\n",
    "\n",
    "The most common preprocessing step is to scale features so they fall between zero and one. For example, the weight of a bike and the distance a person travels on a bike may be two very different numbers, but by scaling both numbers to between zero and one allows models to learn more effectively from the data.\n",
    "\n",
    "<h2>Using categories as features</h2>\n",
    "\n",
    "In machine learning, you can also use categorical features such as 'bicycle', 'skateboard’ or 'car'. These features are represented by 0 or 1 values in one-hot vectors - vectors that have a 0 or 1 for each possible value. For example, bicycle, skateboard, and car might respectively be $(1,0,0)$, $(0,1,0)$, and $(0,0,1)$.\n",
    "\n",
    "<hr></hr>"
   ]
  },
  {
   "cell_type": "markdown",
   "metadata": {
    "id": "fhsFmw2ml-9z"
   },
   "source": [
    "<center><h1>Exercise - Optimize and save models</h1></center>"
   ]
  },
  {
   "cell_type": "markdown",
   "metadata": {
    "id": "aVxn3Vq3mLOc"
   },
   "source": [
    "<h2> Regression - Optimize and save models </h2>\n",
    "\n",
    "In the previous notebook, we used complex regression models to look at the relationship between features of a bike rentals dataset. In this notebook, we'll see if we can improve the performance of these models even further.\n",
    "\n",
    "Let's start by loading the bicycle sharing data as a **Pandas** DataFrame and viewing the first few rows. As usual, we'll also split our data into training and test datasets."
   ]
  },
  {
   "cell_type": "code",
   "execution_count": 21,
   "metadata": {
    "colab": {
     "base_uri": "https://localhost:8080/"
    },
    "id": "c-SAm4nDmRUP",
    "outputId": "83d52b13-071c-4b54-c261-5c7ffcd36a75"
   },
   "outputs": [
    {
     "name": "stdout",
     "output_type": "stream",
     "text": [
      "   instant    dteday  season  yr  mnth  holiday  weekday  workingday  \\\n",
      "0        1  1/1/2011       1   0     1        0        6           0   \n",
      "1        2  1/2/2011       1   0     1        0        0           0   \n",
      "2        3  1/3/2011       1   0     1        0        1           1   \n",
      "3        4  1/4/2011       1   0     1        0        2           1   \n",
      "4        5  1/5/2011       1   0     1        0        3           1   \n",
      "\n",
      "   weathersit      temp     atemp       hum  windspeed  rentals  day  \n",
      "0           2  0.344167  0.363625  0.805833   0.160446      331    1  \n",
      "1           2  0.363478  0.353739  0.696087   0.248539      131    2  \n",
      "2           1  0.196364  0.189405  0.437273   0.248309      120    3  \n",
      "3           1  0.200000  0.212122  0.590435   0.160296      108    4  \n",
      "4           1  0.226957  0.229270  0.436957   0.186900       82    5  \n",
      "Training Set: 511 rows\n",
      "Test Set: 220 rows\n"
     ]
    }
   ],
   "source": [
    "# Import modules we'll need for this notebook\n",
    "import pandas as pd\n",
    "from sklearn.linear_model import LinearRegression\n",
    "from sklearn.metrics import mean_squared_error, r2_score\n",
    "from sklearn.model_selection import train_test_split\n",
    "import numpy as np\n",
    "import matplotlib.pyplot as plt\n",
    "%matplotlib inline\n",
    "\n",
    "# load the training dataset\n",
    "path= \"https://raw.githubusercontent.com/MicrosoftDocs/mslearn-introduction-to-machine-learning/main/Data/ml-basics/daily-bike-share.csv\"\n",
    "bike_data = pd.read_csv(path)\n",
    "bike_data['day'] = pd.DatetimeIndex(bike_data['dteday']).day\n",
    "numeric_features = ['temp', 'atemp', 'hum', 'windspeed']\n",
    "categorical_features = ['season','mnth','holiday','weekday','workingday','weathersit', 'day']\n",
    "bike_data[numeric_features + ['rentals']].describe()\n",
    "print(bike_data.head())\n",
    "\n",
    "\n",
    "# Separate features and labels\n",
    "# After separating the dataset, we now have numpy arrays named **X** containing the features, and **y** containing the labels.\n",
    "X, y = bike_data[['season','mnth', 'holiday','weekday','workingday','weathersit','temp', 'atemp', 'hum', 'windspeed']].values, bike_data['rentals'].values\n",
    "\n",
    "# Split data 70%-30% into training set and test set\n",
    "X_train, X_test, y_train, y_test = train_test_split(X, y, test_size=0.30, random_state=0)\n",
    "\n",
    "print ('Training Set: %d rows\\nTest Set: %d rows' % (X_train.shape[0], X_test.shape[0]))\n"
   ]
  },
  {
   "cell_type": "markdown",
   "metadata": {
    "id": "8E6Bd5fAmYGD"
   },
   "source": [
    "Now we have the following four datasets:\n",
    "\n",
    "- **X_train:** The feature values we'll use to train the model\n",
    "- **y_train:** The corresponding labels we'll use to train the model\n",
    "- **X_test:** The feature values we'll use to validate the model\n",
    "- **y_test:** The corresponding labels we'll use to validate the model\n",
    "\n",
    "Now we're ready to train a model by fitting a boosting ensemble algorithm, as in our last notebook. Recall that a Gradient Boosting estimator, is like a Random Forest algorithm, but instead of building them all trees independently and taking the average result, each tree is built on the outputs of the previous one in an attempt to incrementally reduce the loss (error) in the model.\n",
    "\n"
   ]
  },
  {
   "cell_type": "code",
   "execution_count": 22,
   "metadata": {
    "colab": {
     "base_uri": "https://localhost:8080/",
     "height": 382
    },
    "id": "TT4Cy-UxmkYr",
    "outputId": "6ea3fbe3-b4f4-418e-bbc5-f2ff97050790"
   },
   "outputs": [
    {
     "name": "stdout",
     "output_type": "stream",
     "text": [
      "GradientBoostingRegressor() \n",
      "\n",
      "MSE: 104100.05589097935\n",
      "RMSE: 322.6454027116756\n",
      "R2: 0.7959183741244449\n"
     ]
    },
    {
     "data": {
      "image/png": "[encoded data removed]",
      "text/plain": [
       "<Figure size 432x288 with 1 Axes>"
      ]
     },
     "metadata": {
      "needs_background": "light"
     },
     "output_type": "display_data"
    }
   ],
   "source": [
    "# Train the model\n",
    "from sklearn.ensemble import GradientBoostingRegressor, RandomForestRegressor\n",
    "\n",
    "\n",
    "# Fit a lasso model on the training set\n",
    "model = GradientBoostingRegressor().fit(X_train, y_train)\n",
    "print (model, \"\\n\")\n",
    "\n",
    "# Evaluate the model using the test data\n",
    "predictions = model.predict(X_test)\n",
    "mse = mean_squared_error(y_test, predictions)\n",
    "print(\"MSE:\", mse)\n",
    "rmse = np.sqrt(mse)\n",
    "print(\"RMSE:\", rmse)\n",
    "r2 = r2_score(y_test, predictions)\n",
    "print(\"R2:\", r2)\n",
    "\n",
    "# Plot predicted vs actual\n",
    "plt.scatter(y_test, predictions)\n",
    "plt.xlabel('Actual Labels')\n",
    "plt.ylabel('Predicted Labels')\n",
    "plt.title('Daily Bike Share Predictions')\n",
    "# overlay the regression line\n",
    "z = np.polyfit(y_test, predictions, 1)\n",
    "p = np.poly1d(z)\n",
    "plt.plot(y_test,p(y_test), color='magenta')\n",
    "plt.show()"
   ]
  },
  {
   "cell_type": "markdown",
   "metadata": {
    "id": "IKRQ19aqmk_h"
   },
   "source": [
    "<h2>Optimize Hyperparameters</h2>\n",
    "\n",
    "Take a look at the **GradientBoostingRegressor** estimator definition in the output above, and note that it, like the other estimators we tried previously, includes a large number of parameters that control the way the model is trained. In machine learning, the term parameters refers to values that can be determined from data; values that you specify to affect the behavior of a training algorithm are more correctly referred to as hyperparameters.\n",
    "\n",
    "The specific hyperparameters for an estimator vary based on the algorithm that the estimator encapsulates. In the case of the **GradientBoostingRegressor** estimator, the algorithm is an ensemble that combines multiple decision trees to create an overall predictive model. You can learn about the hyperparameters for this estimator in the Scikit-Learn documentation.\n",
    "\n",
    "We won't go into the details of each hyperparameter here, but they work together to affect the way the algorithm trains a model. In many cases, the default values provided by Scikit-Learn will work well; but there may be some advantage in modifying hyperparameters to get better predictive performance or reduce training time.\n",
    "\n",
    "So how do you know what hyperparameter values you should use? Well, in the absence of a deep understanding of how the underlying algorithm works, you'll need to experiment. Fortunately, SciKit-Learn provides a way to tune hyperparameters by trying multiple combinations and finding the best result for a given performance metric.\n",
    "\n",
    "Let's try using a grid search approach to try combinations from a grid of possible values for the **learning_rate** and **n_estimators** hyperparameters of the **GradientBoostingRegressor** estimator."
   ]
  },
  {
   "cell_type": "code",
   "execution_count": 23,
   "metadata": {
    "colab": {
     "base_uri": "https://localhost:8080/",
     "height": 417
    },
    "id": "QGJIFrvlmXhF",
    "outputId": "15a89bbc-3cdc-403b-fe96-51d8133ca4e2"
   },
   "outputs": [
    {
     "name": "stdout",
     "output_type": "stream",
     "text": [
      "Best parameter combination: {'learning_rate': 0.1, 'n_estimators': 50} \n",
      "\n",
      "GradientBoostingRegressor(n_estimators=50) \n",
      "\n",
      "MSE: 109100.19054453762\n",
      "RMSE: 330.3031797372493\n",
      "R2: 0.7861159239628086\n"
     ]
    },
    {
     "data": {
      "image/png": "[encoded data removed]",
      "text/plain": [
       "<Figure size 432x288 with 1 Axes>"
      ]
     },
     "metadata": {
      "needs_background": "light"
     },
     "output_type": "display_data"
    }
   ],
   "source": [
    "from sklearn.model_selection import GridSearchCV\n",
    "from sklearn.metrics import make_scorer, r2_score\n",
    "\n",
    "# Use a Gradient Boosting algorithm\n",
    "alg = GradientBoostingRegressor()\n",
    "\n",
    "# Try these hyperparameter values\n",
    "params = {\n",
    " 'learning_rate': [0.1, 0.5, 1.0],\n",
    " 'n_estimators' : [50, 100, 150]\n",
    " }\n",
    "\n",
    "# Find the best hyperparameter combination to optimize the R2 metric\n",
    "score = make_scorer(r2_score)\n",
    "gridsearch = GridSearchCV(alg, params, scoring=score, cv=3, return_train_score=True)\n",
    "gridsearch.fit(X_train, y_train)\n",
    "print(\"Best parameter combination:\", gridsearch.best_params_, \"\\n\")\n",
    "\n",
    "# Get the best model\n",
    "model=gridsearch.best_estimator_\n",
    "print(model, \"\\n\")\n",
    "\n",
    "# Evaluate the model using the test data\n",
    "predictions = model.predict(X_test)\n",
    "mse = mean_squared_error(y_test, predictions)\n",
    "print(\"MSE:\", mse)\n",
    "rmse = np.sqrt(mse)\n",
    "print(\"RMSE:\", rmse)\n",
    "r2 = r2_score(y_test, predictions)\n",
    "print(\"R2:\", r2)\n",
    "\n",
    "# Plot predicted vs actual\n",
    "plt.scatter(y_test, predictions)\n",
    "plt.xlabel('Actual Labels')\n",
    "plt.ylabel('Predicted Labels')\n",
    "plt.title('Daily Bike Share Predictions')\n",
    "# overlay the regression line\n",
    "z = np.polyfit(y_test, predictions, 1)\n",
    "p = np.poly1d(z)\n",
    "plt.plot(y_test,p(y_test), color='magenta')\n",
    "plt.show()"
   ]
  },
  {
   "cell_type": "markdown",
   "metadata": {
    "id": "CioHnzIUm86m"
   },
   "source": [
    "<mark>Note: The use of random values in the Gradient Boosting algorithm results in slightly different metrics each time. In this case, the best model produced by hyperparameter tuning is unlikely to be significantly better than one trained with the default hyperparameter values; but it's still useful to know about the hyperparameter tuning technique!</mark>"
   ]
  },
  {
   "cell_type": "markdown",
   "metadata": {
    "id": "8mRlnlpNnF0k"
   },
   "source": [
    "<h2>Preprocess the Data</h2>\n",
    "\n",
    "We trained a model with data that was loaded straight from a source file, with only moderately successful results.\n",
    "\n",
    "In practice, it's common to perform some preprocessing of the data to make it easier for the algorithm to fit a model to it. There's a huge range of preprocessing transformations you can perform to get your data ready for modeling, but we'll limit ourselves to a few common techniques:"
   ]
  },
  {
   "cell_type": "markdown",
   "metadata": {
    "id": "Q_-r5iFFn_yA"
   },
   "source": [
    "<h2>Scaling numeric features</h2>\n",
    "\n",
    "Normalizing numeric features so they're on the same scale prevents features with large values from producing coefficients that disproportionately affect the predictions. For example, suppose your data includes the following numeric features:\n",
    "\n",
    "<img src = \"images/image9.png\"  />\n",
    "\n",
    "Normalizing these features to the same scale may result in the following values (assuming A contains values from 0 to 10, B contains values from 0 to 1000, and C contains values from 0 to 100):\n",
    "\n",
    "<img src = \"images/image10.png\" 0>\n",
    "\n",
    "There are multiple ways you can scale numeric data, such as calculating the minimum and maximum values for each column and assigning a proportional value between 0 and 1, or by using the mean and standard deviation of a normally distributed variable to maintain the same spread of values on a different scale."
   ]
  },
  {
   "cell_type": "markdown",
   "metadata": {
    "id": "ka3GJctQoUSG"
   },
   "source": [
    "<h2> Encoding categorical variables </h2>\n",
    "\n",
    "Machine learning models work best with numeric features rather than text values, so you generally need to convert categorical features into numeric representations. For example, suppose your data includes the following categorical feature.\n",
    "\n",
    "<img src = \"images/image11.png\" >\n",
    "\n",
    "You can apply ordinal encoding to substitute a unique integer value for each category, like this:\n",
    "\n",
    "<img src = \"images/image12.png\" >\n",
    "\n",
    "Another common technique is to use one hot encoding to create individual binary (0 or 1) features for each possible category value. For example, you could use one-hot encoding to translate the possible categories into binary columns like this:\n",
    "\n",
    "<img src = \"images/image13.png\" >\n",
    "\n",
    "To apply these preprocessing transformations to the bike rental, we'll make use of a Scikit-Learn feature named pipelines. These enable us to define a set of preprocessing steps that end with an algorithm. You can then fit the entire pipeline to the data, so that the model encapsulates all of the preprocessing steps as well as the regression algorithm. This is useful, because when we want to use the model to predict values from new data, we need to apply the same transformations (based on the same statistical distributions and category encodings used with the training data).\n",
    "\n",
    "<mark>Note: The term pipeline is used extensively in machine learning, often to mean very different things! In this context, we're using it to refer to pipeline objects in Scikit-Learn, but you may see it used elsewhere to mean something else.</mark>"
   ]
  },
  {
   "cell_type": "code",
   "execution_count": 24,
   "metadata": {
    "colab": {
     "base_uri": "https://localhost:8080/"
    },
    "id": "molBnjw4oo6j",
    "outputId": "98aa2cd3-2aca-4b38-90fb-2a78753fde76"
   },
   "outputs": [
    {
     "name": "stdout",
     "output_type": "stream",
     "text": [
      "Pipeline(steps=[('preprocessor',\n",
      "                 ColumnTransformer(transformers=[('num',\n",
      "                                                  Pipeline(steps=[('scaler',\n",
      "                                                                   StandardScaler())]),\n",
      "                                                  [6, 7, 8, 9]),\n",
      "                                                 ('cat',\n",
      "                                                  Pipeline(steps=[('onehot',\n",
      "                                                                   OneHotEncoder(handle_unknown='ignore'))]),\n",
      "                                                  [0, 1, 2, 3, 4, 5])])),\n",
      "                ('regressor', GradientBoostingRegressor())])\n"
     ]
    }
   ],
   "source": [
    "# Train the model\n",
    "from sklearn.compose import ColumnTransformer\n",
    "from sklearn.pipeline import Pipeline\n",
    "from sklearn.impute import SimpleImputer\n",
    "from sklearn.preprocessing import StandardScaler, OneHotEncoder\n",
    "from sklearn.linear_model import LinearRegression\n",
    "import numpy as np\n",
    "\n",
    "# Define preprocessing for numeric columns (scale them)\n",
    "numeric_features = [6,7,8,9]\n",
    "numeric_transformer = Pipeline(steps=[\n",
    "    ('scaler', StandardScaler())])\n",
    "\n",
    "# Define preprocessing for categorical features (encode them)\n",
    "categorical_features = [0,1,2,3,4,5]\n",
    "categorical_transformer = Pipeline(steps=[\n",
    "    ('onehot', OneHotEncoder(handle_unknown='ignore'))])\n",
    "\n",
    "# Combine preprocessing steps\n",
    "preprocessor = ColumnTransformer(\n",
    "    transformers=[\n",
    "        ('num', numeric_transformer, numeric_features),\n",
    "        ('cat', categorical_transformer, categorical_features)])\n",
    "\n",
    "# Create preprocessing and training pipeline\n",
    "pipeline = Pipeline(steps=[('preprocessor', preprocessor),\n",
    "                           ('regressor', GradientBoostingRegressor())])\n",
    "\n",
    "\n",
    "# fit the pipeline to train a linear regression model on the training set\n",
    "model = pipeline.fit(X_train, (y_train))\n",
    "print (model)"
   ]
  },
  {
   "cell_type": "markdown",
   "metadata": {
    "id": "F-1mfgr_otS7"
   },
   "source": [
    "OK, the model is trained, including the preprocessing steps. Let's see how it performs with the validation data."
   ]
  },
  {
   "cell_type": "code",
   "execution_count": 25,
   "metadata": {
    "colab": {
     "base_uri": "https://localhost:8080/",
     "height": 347
    },
    "id": "t5rEOcwuot-K",
    "outputId": "a904b204-d385-4e95-fc39-f5ddf66ccb5c"
   },
   "outputs": [
    {
     "name": "stdout",
     "output_type": "stream",
     "text": [
      "MSE: 105788.5408489015\n",
      "RMSE: 325.2515039917594\n",
      "R2: 0.7926082053399051\n"
     ]
    },
    {
     "data": {
      "image/png": "[encoded data removed]",
      "text/plain": [
       "<Figure size 432x288 with 1 Axes>"
      ]
     },
     "metadata": {
      "needs_background": "light"
     },
     "output_type": "display_data"
    }
   ],
   "source": [
    "# Get predictions\n",
    "predictions = model.predict(X_test)\n",
    "\n",
    "# Display metrics\n",
    "mse = mean_squared_error(y_test, predictions)\n",
    "print(\"MSE:\", mse)\n",
    "rmse = np.sqrt(mse)\n",
    "print(\"RMSE:\", rmse)\n",
    "r2 = r2_score(y_test, predictions)\n",
    "print(\"R2:\", r2)\n",
    "\n",
    "# Plot predicted vs actual\n",
    "plt.scatter(y_test, predictions)\n",
    "plt.xlabel('Actual Labels')\n",
    "plt.ylabel('Predicted Labels')\n",
    "plt.title('Daily Bike Share Predictions')\n",
    "z = np.polyfit(y_test, predictions, 1)\n",
    "p = np.poly1d(z)\n",
    "plt.plot(y_test,p(y_test), color='magenta')\n",
    "plt.show()"
   ]
  },
  {
   "cell_type": "markdown",
   "metadata": {
    "id": "770p81QHov-3"
   },
   "source": [
    "The pipeline is composed of the transformations and the algorithm used to train the model. To try an alternative algorithm you can just change that step to a different kind of estimator."
   ]
  },
  {
   "cell_type": "code",
   "execution_count": 26,
   "metadata": {
    "colab": {
     "base_uri": "https://localhost:8080/",
     "height": 558
    },
    "id": "GbOEEh0eoySA",
    "outputId": "75bcb6da-2b98-4e34-938d-0eb755a7904c"
   },
   "outputs": [
    {
     "name": "stdout",
     "output_type": "stream",
     "text": [
      "Pipeline(steps=[('preprocessor',\n",
      "                 ColumnTransformer(transformers=[('num',\n",
      "                                                  Pipeline(steps=[('scaler',\n",
      "                                                                   StandardScaler())]),\n",
      "                                                  [6, 7, 8, 9]),\n",
      "                                                 ('cat',\n",
      "                                                  Pipeline(steps=[('onehot',\n",
      "                                                                   OneHotEncoder(handle_unknown='ignore'))]),\n",
      "                                                  [0, 1, 2, 3, 4, 5])])),\n",
      "                ('regressor', RandomForestRegressor())]) \n",
      "\n",
      "MSE: 107056.00334090908\n",
      "RMSE: 327.1941370821138\n",
      "R2: 0.7901234246748872\n"
     ]
    },
    {
     "data": {
      "image/png": "[encoded data removed]",
      "text/plain": [
       "<Figure size 432x288 with 1 Axes>"
      ]
     },
     "metadata": {
      "needs_background": "light"
     },
     "output_type": "display_data"
    }
   ],
   "source": [
    "# Use a different estimator in the pipeline\n",
    "pipeline = Pipeline(steps=[('preprocessor', preprocessor),\n",
    "                           ('regressor', RandomForestRegressor())])\n",
    "\n",
    "\n",
    "# fit the pipeline to train a linear regression model on the training set\n",
    "model = pipeline.fit(X_train, (y_train))\n",
    "print (model, \"\\n\")\n",
    "\n",
    "# Get predictions\n",
    "predictions = model.predict(X_test)\n",
    "\n",
    "# Display metrics\n",
    "mse = mean_squared_error(y_test, predictions)\n",
    "print(\"MSE:\", mse)\n",
    "rmse = np.sqrt(mse)\n",
    "print(\"RMSE:\", rmse)\n",
    "r2 = r2_score(y_test, predictions)\n",
    "print(\"R2:\", r2)\n",
    "\n",
    "# Plot predicted vs actual\n",
    "plt.scatter(y_test, predictions)\n",
    "plt.xlabel('Actual Labels')\n",
    "plt.ylabel('Predicted Labels')\n",
    "plt.title('Daily Bike Share Predictions - Preprocessed')\n",
    "z = np.polyfit(y_test, predictions, 1)\n",
    "p = np.poly1d(z)\n",
    "plt.plot(y_test,p(y_test), color='magenta')\n",
    "plt.show()"
   ]
  },
  {
   "cell_type": "markdown",
   "metadata": {
    "id": "Pxfuey_do2kB"
   },
   "source": [
    "We've now seen a number of common techniques used to train predictive models for regression. In a real project, you'd likely try a few more algorithms, hyperparameters, and preprocessing transformations; but by now you should have got the general idea. Let's explore how you can use the trained model with new data."
   ]
  },
  {
   "cell_type": "markdown",
   "metadata": {
    "id": "tZle5grzo3JA"
   },
   "source": [
    "<h2> Use the Trained Model </h2>\n",
    "\n",
    "First, let's save the model."
   ]
  },
  {
   "cell_type": "code",
   "execution_count": 27,
   "metadata": {
    "colab": {
     "base_uri": "https://localhost:8080/"
    },
    "id": "6NtyeLyFo9jR",
    "outputId": "10fb1d85-ea81-48ea-feb3-bff5520fd737"
   },
   "outputs": [
    {
     "data": {
      "text/plain": [
       "['./bike-share.pkl']"
      ]
     },
     "execution_count": 27,
     "metadata": {},
     "output_type": "execute_result"
    }
   ],
   "source": [
    "import joblib\n",
    "\n",
    "# Save the model as a pickle file\n",
    "filename = './bike-share.pkl'\n",
    "joblib.dump(model, filename)"
   ]
  },
  {
   "cell_type": "markdown",
   "metadata": {
    "id": "hxKEPjQzpAG0"
   },
   "source": [
    "Now, we can load it whenever we need it, and use it to predict labels for new data. This is often called scoring or inferencing."
   ]
  },
  {
   "cell_type": "code",
   "execution_count": 28,
   "metadata": {
    "colab": {
     "base_uri": "https://localhost:8080/"
    },
    "id": "KIVZOjC7pAuc",
    "outputId": "37156bc4-b1f6-4fb9-962e-cd954b698ff8"
   },
   "outputs": [
    {
     "name": "stdout",
     "output_type": "stream",
     "text": [
      "New sample: [1.0, 1.0, 0.0, 3.0, 1.0, 1.0, 0.226957, 0.22927, 0.436957, 0.1869]\n",
      "Prediction: 105 rentals\n"
     ]
    }
   ],
   "source": [
    "# Load the model from the file\n",
    "loaded_model = joblib.load(filename)\n",
    "\n",
    "# Create a numpy array containing a new observation (for example tomorrow's seasonal and weather forecast information)\n",
    "X_new = np.array([[1,1,0,3,1,1,0.226957,0.22927,0.436957,0.1869]]).astype('float64')\n",
    "print ('New sample: {}'.format(list(X_new[0])))\n",
    "\n",
    "# Use the model to predict tomorrow's rentals\n",
    "result = loaded_model.predict(X_new)\n",
    "print('Prediction: {:.0f} rentals'.format(np.round(result[0])))"
   ]
  },
  {
   "cell_type": "markdown",
   "metadata": {
    "id": "RWfdrDQ7pEIJ"
   },
   "source": [
    "The model's **predict** method accepts an array of observations, so you can use it to generate multiple predictions as a batch. For example, suppose you have a weather forecast for the next five days; you could use the model to predict bike rentals for each day based on the expected weather conditions."
   ]
  },
  {
   "cell_type": "code",
   "execution_count": 29,
   "metadata": {
    "colab": {
     "base_uri": "https://localhost:8080/"
    },
    "id": "mnD3etPppGAR",
    "outputId": "aa9a0c13-8c53-48a8-a012-476c3130ed64"
   },
   "outputs": [
    {
     "name": "stdout",
     "output_type": "stream",
     "text": [
      "5-day rental predictions:\n",
      "552.0\n",
      "773.0\n",
      "249.0\n",
      "201.0\n",
      "279.0\n"
     ]
    }
   ],
   "source": [
    "# An array of features based on five-day weather forecast\n",
    "X_new = np.array([[0,1,1,0,0,1,0.344167,0.363625,0.805833,0.160446],\n",
    "                  [0,1,0,1,0,1,0.363478,0.353739,0.696087,0.248539],\n",
    "                  [0,1,0,2,0,1,0.196364,0.189405,0.437273,0.248309],\n",
    "                  [0,1,0,3,0,1,0.2,0.212122,0.590435,0.160296],\n",
    "                  [0,1,0,4,0,1,0.226957,0.22927,0.436957,0.1869]])\n",
    "\n",
    "# Use the model to predict rentals\n",
    "results = loaded_model.predict(X_new)\n",
    "print('5-day rental predictions:')\n",
    "for prediction in results:\n",
    "    print(np.round(prediction))"
   ]
  },
  {
   "cell_type": "markdown",
   "metadata": {
    "id": "BeLUs31Up0rc"
   },
   "source": [
    "<center><h1>Summary</h1></center>\n",
    "\n",
    "\n",
    "In this module, you learned how regression can be used to create a machine learning model that predicts numeric values. You then used the scikit-learn framework in Python to train and evaluate a regression model.\n",
    "\n",
    "While scikit-learn is a popular framework for writing code to train regression models, you can also create machine learning solutions for regression using the graphical tools in Microsoft Azure Machine Learning. You can learn more about no-code development of regression models using Azure Machine Learning in the [Create a Regression Model with Azure Machine Learning designer](https://docs.microsoft.com/en-us/learn/modules/create-regression-model-azure-machine-learning-designer/) module.\n",
    "\n",
    "<h2>Challenge: Predict Real Estate Prices </h2>\n",
    "\n",
    "Think you're ready to create your own regression model? Try the challenge of predicting real estate property prices in the [02 - Real Estate Regression Challenge.ipynb](https://github.com/MicrosoftDocs/ml-basics/blob/master/challenges/02%20-%20Real%20Estate%20Regression%20Challenge.ipynb) notebook!"
   ]
  }
 ],
 "metadata": {
  "colab": {
   "collapsed_sections": [],
   "name": "Course1_Module2TrainandEvaluateRegressionModels.ipynb",
   "provenance": []
  },
  "kernelspec": {
   "display_name": "Python 3 (ipykernel)",
   "language": "python",
   "name": "python3"
  },
  "language_info": {
   "codemirror_mode": {
    "name": "ipython",
    "version": 3
   },
   "file_extension": ".py",
   "mimetype": "text/x-python",
   "name": "python",
   "nbconvert_exporter": "python",
   "pygments_lexer": "ipython3",
   "version": "3.9.7"
  },
  "varInspector": {
   "cols": {
    "lenName": 16,
    "lenType": 16,
    "lenVar": 40
   },
   "kernels_config": {
    "python": {
     "delete_cmd_postfix": "",
     "delete_cmd_prefix": "del ",
     "library": "var_list.py",
     "varRefreshCmd": "print(var_dic_list())"
    },
    "r": {
     "delete_cmd_postfix": ") ",
     "delete_cmd_prefix": "rm(",
     "library": "var_list.r",
     "varRefreshCmd": "cat(var_dic_list()) "
    }
   },
   "types_to_exclude": [
    "module",
    "function",
    "builtin_function_or_method",
    "instance",
    "_Feature"
   ],
   "window_display": false
  }
 },
 "nbformat": 4,
 "nbformat_minor": 1
}
